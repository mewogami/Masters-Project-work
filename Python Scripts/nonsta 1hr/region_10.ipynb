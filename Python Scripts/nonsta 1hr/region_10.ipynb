{
 "cells": [
  {
   "cell_type": "code",
   "execution_count": 1,
   "id": "bb60bf3c",
   "metadata": {},
   "outputs": [
    {
     "name": "stdout",
     "output_type": "stream",
     "text": [
      "              I         C\n",
      "0     16.625322  0.172297\n",
      "1     16.877132  0.156273\n",
      "2     24.054090  0.335387\n",
      "3     23.848006 -0.015480\n",
      "4     23.344072 -0.050611\n",
      "...         ...       ...\n",
      "1010  34.789817 -0.559951\n",
      "1011  24.195796  0.289653\n",
      "1012  25.693098  0.074220\n",
      "1013  11.695792 -0.079838\n",
      "1014  12.641957  0.077714\n",
      "\n",
      "[1015 rows x 2 columns]\n"
     ]
    }
   ],
   "source": [
    "import numpy as np\n",
    "import pandas as pd\n",
    "\n",
    "# Load the numpy array\n",
    "x = np.arange(1, 32)\n",
    "\n",
    "# Load the CSV file\n",
    "data = pd.read_csv('region10_hom2.csv', header = None)\n",
    "\n",
    "# Initialize empty lists to store intercept and coefficient values\n",
    "intercepts = []\n",
    "coefficients = []\n",
    "\n",
    "# Iterate over each row in the CSV file\n",
    "for i in range(len(data)):\n",
    "    row = data.iloc[i, :]\n",
    "    y = np.array(row)\n",
    "    A = np.vstack([x, np.ones(len(x))]).T\n",
    "\n",
    "    # Perform least squares regression\n",
    "    coeffs, residuals, _, _ = np.linalg.lstsq(A, y, rcond=None)\n",
    "\n",
    "    # Append intercept and coefficient values\n",
    "    intercepts.append(coeffs[1])\n",
    "    coefficients.append(coeffs[0])\n",
    "\n",
    "# Create a dataframe from intercepts and coefficients\n",
    "result_df = pd.DataFrame({'I': intercepts, 'C': coefficients})\n",
    "\n",
    "# Display the resulting dataframe\n",
    "print(result_df)\n",
    "\n",
    "result_df.to_excel('region_10_coefficients.xlsx', index = False, header = None)\n",
    "\n"
   ]
  },
  {
   "cell_type": "code",
   "execution_count": 2,
   "id": "bf14dff6",
   "metadata": {},
   "outputs": [],
   "source": [
    "data = np.array(data)"
   ]
  },
  {
   "cell_type": "code",
   "execution_count": 3,
   "id": "5baff2e4",
   "metadata": {},
   "outputs": [],
   "source": [
    "result_df = np.array(result_df)"
   ]
  },
  {
   "cell_type": "code",
   "execution_count": 4,
   "id": "03a3c849",
   "metadata": {},
   "outputs": [
    {
     "data": {
      "text/plain": [
       "16.625321935483882"
      ]
     },
     "execution_count": 4,
     "metadata": {},
     "output_type": "execute_result"
    }
   ],
   "source": [
    "b = result_df[0,0]\n",
    "b"
   ]
  },
  {
   "cell_type": "code",
   "execution_count": 5,
   "id": "d96b8648",
   "metadata": {},
   "outputs": [
    {
     "name": "stdout",
     "output_type": "stream",
     "text": [
      "[[ -3.82861915   3.90508363   2.34178641 ...  12.22205875  -6.04423847\n",
      "    0.56446431]\n",
      " [ -1.34540464  12.62232234   6.98204931 ...   9.57495069  -4.59632234\n",
      "    2.68440464]\n",
      " [ 13.51652218 -14.69386532   2.75174718 ...  13.68867218   2.44628468\n",
      "   -5.63910282]\n",
      " ...\n",
      " [ -2.31431815  18.25246177  -9.24375831 ...   1.8425196  -16.77870048\n",
      "    9.10007944]\n",
      " [  3.47804556  -5.27051661   9.66872121 ...  -3.0366954    2.80834242\n",
      "   -1.95521976]\n",
      " [ -1.36067117  -5.23488556  -4.79699996 ...  -1.72367423   1.60461137\n",
      "   -9.33230302]]\n"
     ]
    }
   ],
   "source": [
    "e_t = np.empty([1015, 31])\n",
    "\n",
    "for i in range(0, 1015):\n",
    "    b = result_df[i,0]\n",
    "    \n",
    "    coeff = result_df[i,1]\n",
    "    \n",
    "    for j in range(0, 31):\n",
    "        \n",
    "        e_t[i,j] = data[i,j] - b - coeff * (j+1)\n",
    "    \n",
    "    \n",
    "print(e_t)\n",
    "\n",
    "e_t = pd.DataFrame(e_t)\n",
    "e_t.to_excel('e_t.xlsx', index = None, header = None)"
   ]
  },
  {
   "cell_type": "code",
   "execution_count": 6,
   "id": "d038d22f",
   "metadata": {},
   "outputs": [
    {
     "data": {
      "text/plain": [
       "(1015, 31)"
      ]
     },
     "execution_count": 6,
     "metadata": {},
     "output_type": "execute_result"
    }
   ],
   "source": [
    "e_t.shape"
   ]
  },
  {
   "cell_type": "code",
   "execution_count": 7,
   "id": "f39df6ca",
   "metadata": {},
   "outputs": [
    {
     "name": "stdout",
     "output_type": "stream",
     "text": [
      "               I         C\n",
      "0      50.129248 -0.625151\n",
      "1      38.113286  0.103964\n",
      "2     127.752116 -0.259422\n",
      "3      59.547405  1.137027\n",
      "4      80.532568 -1.286859\n",
      "...          ...       ...\n",
      "1010  268.825468 -7.160725\n",
      "1011  161.799327  1.155476\n",
      "1012  147.120638  0.701905\n",
      "1013   17.653763 -0.243076\n",
      "1014   23.849743  0.496968\n",
      "\n",
      "[1015 rows x 2 columns]\n"
     ]
    }
   ],
   "source": [
    "import numpy as np\n",
    "import pandas as pd\n",
    "\n",
    "# Load the numpy array\n",
    "x = np.arange(1, 32)\n",
    "\n",
    "# Load the CSV file\n",
    "e_t = pd.read_excel('e_t.xlsx', header = None)\n",
    "\n",
    "# Initialize empty lists to store intercept and coefficient values\n",
    "intercepts_var = []\n",
    "coefficients_var = []\n",
    "\n",
    "# Iterate over each row in the CSV file\n",
    "for i in range(len(data)):\n",
    "    row = e_t.iloc[i, :]\n",
    "    y = np.array(row)**2\n",
    "    A = np.vstack([x, np.ones(len(x))]).T\n",
    "\n",
    "    # Perform least squares regression\n",
    "    coeffs, residuals, _, _ = np.linalg.lstsq(A, y, rcond=None)\n",
    "\n",
    "    # Append intercept and coefficient values\n",
    "    intercepts_var.append(coeffs[1])\n",
    "    coefficients_var.append(coeffs[0])\n",
    "\n",
    "# Create a dataframe from intercepts and coefficients\n",
    "result_df_var = pd.DataFrame({'I': intercepts_var, 'C': coefficients_var})\n",
    "\n",
    "# Display the resulting dataframe\n",
    "print(result_df_var)\n",
    "\n",
    "result_df_var.to_excel('region_10_coefficients_variance.xlsx', index = False, header = None)\n",
    "\n"
   ]
  },
  {
   "cell_type": "code",
   "execution_count": 8,
   "id": "cc0d7e91",
   "metadata": {},
   "outputs": [
    {
     "name": "stderr",
     "output_type": "stream",
     "text": [
      "C:\\Users\\User\\AppData\\Local\\Temp\\ipykernel_10784\\872748503.py:11: RuntimeWarning: invalid value encountered in double_scalars\n",
      "  s[i,j] = (bias + coef * (j+1))**0.5\n"
     ]
    }
   ],
   "source": [
    "results_var = np.array(pd.read_excel('region_10_coefficients_variance.xlsx', header = None))\n",
    "\n",
    "s = np.empty([1015, 31])\n",
    "\n",
    "for i in range(0, 1015):\n",
    "    bias = results_var[i,0]\n",
    "    coef = results_var[i,1]\n",
    "    \n",
    "    for j in range(0, 31):\n",
    "        \n",
    "        s[i,j] = (bias + coef * (j+1))**0.5\n",
    "\n",
    "s = pd.DataFrame(s)\n",
    "s\n",
    "\n",
    "s.to_excel('region_10_s.xlsx', index = False, header = None)"
   ]
  },
  {
   "cell_type": "code",
   "execution_count": 9,
   "id": "99d5eeba",
   "metadata": {},
   "outputs": [
    {
     "name": "stdout",
     "output_type": "stream",
     "text": [
      "[[16.79761915 16.96991637 17.14221359 ... 21.62194125 21.79423847\n",
      "  21.96653569]\n",
      " [17.03340464 17.18967766 17.34595069 ... 21.40904931 21.56532234\n",
      "  21.72159536]\n",
      " [24.38947782 24.72486532 25.06025282 ... 33.78032782 34.11571532\n",
      "  34.45110282]\n",
      " ...\n",
      " [25.76731815 25.84153823 25.91575831 ... 27.8454804  27.91970048\n",
      "  27.99392056]\n",
      " [11.61595444 11.53611661 11.45627879 ...  9.3804954   9.30065758\n",
      "   9.22081976]\n",
      " [12.71967117 12.79738556 12.87509996 ... 14.89567423 14.97338863\n",
      "  15.05110302]]\n"
     ]
    }
   ],
   "source": [
    "eta_t = np.empty([1015, 31])\n",
    "\n",
    "for i in range(0, 1015):\n",
    "    b = result_df[i,0]\n",
    "    \n",
    "    coeff = result_df[i,1]\n",
    "    \n",
    "    for j in range(0, 31):\n",
    "        \n",
    "        eta_t[i,j] = b + coeff * (j+1)\n",
    "    \n",
    "    \n",
    "print(eta_t)\n",
    "\n",
    "eta_t = pd.DataFrame(eta_t)\n",
    "eta_t.to_excel('eta_t.xlsx', index = None, header = None)"
   ]
  },
  {
   "cell_type": "code",
   "execution_count": 10,
   "id": "44039076",
   "metadata": {},
   "outputs": [],
   "source": [
    "s = np.array(s)\n",
    "eta_t = np.array(eta_t)"
   ]
  },
  {
   "cell_type": "code",
   "execution_count": 11,
   "id": "70719857",
   "metadata": {},
   "outputs": [
    {
     "name": "stdout",
     "output_type": "stream",
     "text": [
      "[[-0.54415371  0.55855947  0.33711769 ...  2.16057963 -1.07907514\n",
      "   0.10179279]\n",
      " [-0.21763223  2.03901132  1.12635416 ...  1.49302295 -0.71580084\n",
      "   0.41752538]\n",
      " [ 1.19707762 -1.30267388  0.24420322 ...  1.24840907  0.22334264\n",
      "  -0.51540037]\n",
      " ...\n",
      " [-0.19034993  1.49769187 -0.75670363 ...  0.14237573 -1.29382038\n",
      "   0.70025538]\n",
      " [ 0.83354167 -1.27203265  2.35023167 ... -0.9325135   0.87244753\n",
      "  -0.61466677]\n",
      " [-0.27576112 -1.05026583 -0.9529297  ... -0.27865855  0.25774175\n",
      "  -1.48948849]]\n"
     ]
    }
   ],
   "source": [
    "norm = np.empty([1015, 31])\n",
    "\n",
    "for i in range(0, 1015):\n",
    "    b = result_df[i,0]\n",
    "    \n",
    "    coeff = result_df[i,1]\n",
    "    \n",
    "    for j in range(0, 31):\n",
    "        \n",
    "        norm[i,j] = (data[i,j] - eta_t[i,j])/s[i,j]\n",
    "    \n",
    "    \n",
    "print(norm)\n",
    "\n",
    "norm = pd.DataFrame(norm)\n",
    "norm.to_excel('norm_region10.xlsx', index = None, header = None)"
   ]
  },
  {
   "cell_type": "code",
   "execution_count": 12,
   "id": "c6dbbfac",
   "metadata": {},
   "outputs": [],
   "source": [
    "region_10_basin = pd.read_csv('region10_basin.csv')\n",
    "rows_to_extract = np.array(region_10_basin[\"id\"])"
   ]
  },
  {
   "cell_type": "code",
   "execution_count": 13,
   "id": "ed7cb6df",
   "metadata": {},
   "outputs": [],
   "source": [
    "qt = 5.773\n",
    "\n",
    "Q_t = np.empty([187, 31])\n",
    "for i in range(187):\n",
    "    for j in range(31):\n",
    "        \n",
    "        Q_t[i, j] = eta_t[rows_to_extract[i]-1, j] + s[rows_to_extract[i]-1, j] * qt\n",
    "    "
   ]
  },
  {
   "cell_type": "code",
   "execution_count": 14,
   "id": "27650fa8",
   "metadata": {},
   "outputs": [],
   "source": [
    "Q_t = pd.DataFrame(Q_t)\n",
    "Q_t.to_excel(\"Quantile_Estimate_region_10.xlsx\", index = None, header = None)"
   ]
  },
  {
   "cell_type": "code",
   "execution_count": null,
   "id": "6733e0be",
   "metadata": {},
   "outputs": [],
   "source": []
  }
 ],
 "metadata": {
  "kernelspec": {
   "display_name": "Python 3 (ipykernel)",
   "language": "python",
   "name": "python3"
  },
  "language_info": {
   "codemirror_mode": {
    "name": "ipython",
    "version": 3
   },
   "file_extension": ".py",
   "mimetype": "text/x-python",
   "name": "python",
   "nbconvert_exporter": "python",
   "pygments_lexer": "ipython3",
   "version": "3.9.13"
  }
 },
 "nbformat": 4,
 "nbformat_minor": 5
}
