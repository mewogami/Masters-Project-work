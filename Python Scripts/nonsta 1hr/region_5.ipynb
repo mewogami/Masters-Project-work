{
 "cells": [
  {
   "cell_type": "code",
   "execution_count": 1,
   "id": "bb60bf3c",
   "metadata": {},
   "outputs": [
    {
     "name": "stdout",
     "output_type": "stream",
     "text": [
      "              I         C\n",
      "0     22.086618  0.264194\n",
      "1     10.453195  0.184553\n",
      "2     28.860292  0.162213\n",
      "3     23.062330  0.167965\n",
      "4     23.754323 -0.147386\n",
      "...         ...       ...\n",
      "1012  30.705665 -0.117408\n",
      "1013  31.412186 -0.443890\n",
      "1014  29.820994 -0.232954\n",
      "1015  25.560181 -0.088545\n",
      "1016  28.032125 -0.253863\n",
      "\n",
      "[1017 rows x 2 columns]\n"
     ]
    }
   ],
   "source": [
    "import numpy as np\n",
    "import pandas as pd\n",
    "\n",
    "# Load the numpy array\n",
    "x = np.arange(1, 32)\n",
    "\n",
    "# Load the CSV file\n",
    "data = pd.read_csv('region5_hom2.csv', header = None)\n",
    "\n",
    "# Initialize empty lists to store intercept and coefficient values\n",
    "intercepts = []\n",
    "coefficients = []\n",
    "\n",
    "# Iterate over each row in the CSV file\n",
    "for i in range(len(data)):\n",
    "    row = data.iloc[i, :]\n",
    "    y = np.array(row)\n",
    "    A = np.vstack([x, np.ones(len(x))]).T\n",
    "\n",
    "    # Perform least squares regression\n",
    "    coeffs, residuals, _, _ = np.linalg.lstsq(A, y, rcond=None)\n",
    "\n",
    "    # Append intercept and coefficient values\n",
    "    intercepts.append(coeffs[1])\n",
    "    coefficients.append(coeffs[0])\n",
    "\n",
    "# Create a dataframe from intercepts and coefficients\n",
    "result_df = pd.DataFrame({'I': intercepts, 'C': coefficients})\n",
    "\n",
    "# Display the resulting dataframe\n",
    "print(result_df)\n",
    "\n",
    "result_df.to_excel('region_5_coefficients.xlsx', index = False, header = None)\n",
    "\n"
   ]
  },
  {
   "cell_type": "code",
   "execution_count": 2,
   "id": "bf14dff6",
   "metadata": {},
   "outputs": [],
   "source": [
    "data = np.array(data)"
   ]
  },
  {
   "cell_type": "code",
   "execution_count": 3,
   "id": "5baff2e4",
   "metadata": {},
   "outputs": [],
   "source": [
    "result_df = np.array(result_df)"
   ]
  },
  {
   "cell_type": "code",
   "execution_count": 4,
   "id": "03a3c849",
   "metadata": {},
   "outputs": [
    {
     "data": {
      "text/plain": [
       "22.086618064516138"
      ]
     },
     "execution_count": 4,
     "metadata": {},
     "output_type": "execute_result"
    }
   ],
   "source": [
    "b = result_df[0,0]\n",
    "b"
   ]
  },
  {
   "cell_type": "code",
   "execution_count": 5,
   "id": "d96b8648",
   "metadata": {},
   "outputs": [
    {
     "name": "stdout",
     "output_type": "stream",
     "text": [
      "[[ 27.2111877  -14.02120653 -14.58230077 ... -13.96725085   9.98755492\n",
      "   -3.73763931]\n",
      " [  9.37825121   1.4046979   -6.4599554  ...   7.24975863  -1.08379468\n",
      "   -8.28374798]\n",
      " [-21.53810444  26.31528274 -13.45593008 ...  13.35753653  18.61732371\n",
      "    5.62711089]\n",
      " ...\n",
      " [-11.74403911 -14.57408468  15.68986976 ...  32.09068508  24.05863952\n",
      "  -13.55250605]\n",
      " [-13.62763609 -13.66409153  -3.63854698 ...  -4.35938851  -8.55984395\n",
      "  -13.2527994 ]\n",
      " [-14.27826169   8.13160177  -7.50453476 ...  -0.3730846   -5.47822113\n",
      "  -11.88115766]]\n"
     ]
    }
   ],
   "source": [
    "e_t = np.empty([1017, 31])\n",
    "\n",
    "for i in range(0, 1017):\n",
    "    b = result_df[i,0]\n",
    "    \n",
    "    coeff = result_df[i,1]\n",
    "    \n",
    "    for j in range(0, 31):\n",
    "        \n",
    "        e_t[i,j] = data[i,j] - b - coeff * (j+1)\n",
    "    \n",
    "    \n",
    "print(e_t)\n",
    "\n",
    "e_t = pd.DataFrame(e_t)\n",
    "e_t.to_excel('e_t.xlsx', index = None, header = None)"
   ]
  },
  {
   "cell_type": "code",
   "execution_count": 6,
   "id": "d038d22f",
   "metadata": {},
   "outputs": [
    {
     "data": {
      "text/plain": [
       "(1017, 31)"
      ]
     },
     "execution_count": 6,
     "metadata": {},
     "output_type": "execute_result"
    }
   ],
   "source": [
    "e_t.shape"
   ]
  },
  {
   "cell_type": "code",
   "execution_count": 7,
   "id": "f39df6ca",
   "metadata": {},
   "outputs": [
    {
     "name": "stdout",
     "output_type": "stream",
     "text": [
      "               I         C\n",
      "0     299.376078 -8.991618\n",
      "1      38.980082  0.087740\n",
      "2     333.629724 -0.973050\n",
      "3     145.008620 -1.291226\n",
      "4     130.592665 -1.724844\n",
      "...          ...       ...\n",
      "1012  369.990020 -5.632492\n",
      "1013  249.413257 -5.775498\n",
      "1014  142.566286  3.193693\n",
      "1015   79.817737  4.561160\n",
      "1016  137.728751  0.704893\n",
      "\n",
      "[1017 rows x 2 columns]\n"
     ]
    }
   ],
   "source": [
    "import numpy as np\n",
    "import pandas as pd\n",
    "\n",
    "# Load the numpy array\n",
    "x = np.arange(1, 32)\n",
    "\n",
    "# Load the CSV file\n",
    "e_t = pd.read_excel('e_t.xlsx', header = None)\n",
    "\n",
    "# Initialize empty lists to store intercept and coefficient values\n",
    "intercepts_var = []\n",
    "coefficients_var = []\n",
    "\n",
    "# Iterate over each row in the CSV file\n",
    "for i in range(len(data)):\n",
    "    row = e_t.iloc[i, :]\n",
    "    y = np.array(row)**2\n",
    "    A = np.vstack([x, np.ones(len(x))]).T\n",
    "\n",
    "    # Perform least squares regression\n",
    "    coeffs, residuals, _, _ = np.linalg.lstsq(A, y, rcond=None)\n",
    "\n",
    "    # Append intercept and coefficient values\n",
    "    intercepts_var.append(coeffs[1])\n",
    "    coefficients_var.append(coeffs[0])\n",
    "\n",
    "# Create a dataframe from intercepts and coefficients\n",
    "result_df_var = pd.DataFrame({'I': intercepts_var, 'C': coefficients_var})\n",
    "\n",
    "# Display the resulting dataframe\n",
    "print(result_df_var)\n",
    "\n",
    "result_df_var.to_excel('region_5_coefficients_variance.xlsx', index = False, header = None)\n",
    "\n"
   ]
  },
  {
   "cell_type": "code",
   "execution_count": 8,
   "id": "cc0d7e91",
   "metadata": {},
   "outputs": [
    {
     "name": "stderr",
     "output_type": "stream",
     "text": [
      "C:\\Users\\User\\AppData\\Local\\Temp\\ipykernel_17692\\2101380802.py:11: RuntimeWarning: invalid value encountered in double_scalars\n",
      "  s[i,j] = (bias + coef * (j+1))**0.5\n"
     ]
    }
   ],
   "source": [
    "results_var = np.array(pd.read_excel('region_5_coefficients_variance.xlsx', header = None))\n",
    "\n",
    "s = np.empty([1017, 31])\n",
    "\n",
    "for i in range(0, 1017):\n",
    "    bias = results_var[i,0]\n",
    "    coef = results_var[i,1]\n",
    "    \n",
    "    for j in range(0, 31):\n",
    "        \n",
    "        s[i,j] = (bias + coef * (j+1))**0.5\n",
    "\n",
    "s = pd.DataFrame(s)\n",
    "s\n",
    "\n",
    "s.to_excel('region_5_s.xlsx', index = False, header = None)"
   ]
  },
  {
   "cell_type": "code",
   "execution_count": 9,
   "id": "99d5eeba",
   "metadata": {},
   "outputs": [
    {
     "name": "stdout",
     "output_type": "stream",
     "text": [
      "[[22.3508123  22.61500653 22.87920077 ... 29.74825085 30.01244508\n",
      "  30.27663931]\n",
      " [10.63774879 10.8223021  11.0068554  ... 15.80524137 15.98979468\n",
      "  16.17434798]\n",
      " [29.02250444 29.18471726 29.34693008 ... 33.56446347 33.72667629\n",
      "  33.88888911]\n",
      " ...\n",
      " [29.58803911 29.35508468 29.12213024 ... 23.06531492 22.83236048\n",
      "  22.59940605]\n",
      " [25.47163609 25.38309153 25.29454698 ... 22.99238851 22.90384395\n",
      "  22.8152994 ]\n",
      " [27.77826169 27.52439823 27.27053476 ... 20.6700846  20.41622113\n",
      "  20.16235766]]\n"
     ]
    }
   ],
   "source": [
    "eta_t = np.empty([1017, 31])\n",
    "\n",
    "for i in range(0, 1017):\n",
    "    b = result_df[i,0]\n",
    "    \n",
    "    coeff = result_df[i,1]\n",
    "    \n",
    "    for j in range(0, 31):\n",
    "        \n",
    "        eta_t[i,j] = b + coeff * (j+1)\n",
    "    \n",
    "    \n",
    "print(eta_t)\n",
    "\n",
    "eta_t = pd.DataFrame(eta_t)\n",
    "eta_t.to_excel('eta_t.xlsx', index = None, header = None)"
   ]
  },
  {
   "cell_type": "code",
   "execution_count": 10,
   "id": "44039076",
   "metadata": {},
   "outputs": [],
   "source": [
    "s = np.array(s)\n",
    "eta_t = np.array(eta_t)"
   ]
  },
  {
   "cell_type": "code",
   "execution_count": 11,
   "id": "70719857",
   "metadata": {},
   "outputs": [
    {
     "name": "stdout",
     "output_type": "stream",
     "text": [
      "[[ 1.59683783 -0.83585099 -0.88353045 ... -2.24755056  1.83489535\n",
      "  -0.82278303]\n",
      " [ 1.50041799  0.22448442 -1.03120914 ...  1.12504831 -0.16801045\n",
      "  -1.28279952]\n",
      " [-1.18088976  1.4449274  -0.73992837 ...  0.76433516  1.06700796\n",
      "   0.32302121]\n",
      " ...\n",
      " [-0.97274351 -1.1941412   1.27200003 ...  2.09254923  1.55825609\n",
      "  -0.87196174]\n",
      " [-1.48355484 -1.44887881 -0.37628712 ... -0.29933953 -0.58154584\n",
      "  -0.89104906]\n",
      " [-1.21354116  0.68937001 -0.6346039  ... -0.029665   -0.43462134\n",
      "  -0.94052198]]\n"
     ]
    }
   ],
   "source": [
    "norm = np.empty([1017, 31])\n",
    "\n",
    "for i in range(0, 1017):\n",
    "    b = result_df[i,0]\n",
    "    \n",
    "    coeff = result_df[i,1]\n",
    "    \n",
    "    for j in range(0, 31):\n",
    "        \n",
    "        norm[i,j] = (data[i,j] - eta_t[i,j])/s[i,j]\n",
    "    \n",
    "    \n",
    "print(norm)\n",
    "\n",
    "norm = pd.DataFrame(norm)\n",
    "norm.to_excel('norm_region5.xlsx', index = None, header = None)"
   ]
  },
  {
   "cell_type": "code",
   "execution_count": 12,
   "id": "c6dbbfac",
   "metadata": {},
   "outputs": [],
   "source": [
    "region_5_basin = pd.read_csv('region5_basin.csv')\n",
    "rows_to_extract = np.array(region_5_basin[\"id\"])"
   ]
  },
  {
   "cell_type": "code",
   "execution_count": 13,
   "id": "ed7cb6df",
   "metadata": {},
   "outputs": [],
   "source": [
    "qt = 7.164\n",
    "\n",
    "Q_t = np.empty([81, 31])\n",
    "for i in range(81):\n",
    "    for j in range(31):\n",
    "        \n",
    "        Q_t[i, j] = eta_t[rows_to_extract[i]-1, j] + s[rows_to_extract[i]-1, j] * qt\n",
    "    "
   ]
  },
  {
   "cell_type": "code",
   "execution_count": 14,
   "id": "27650fa8",
   "metadata": {},
   "outputs": [],
   "source": [
    "Q_t = pd.DataFrame(Q_t)\n",
    "Q_t.to_excel(\"Quantile_Estimate_region_5.xlsx\", index = None, header = None)"
   ]
  },
  {
   "cell_type": "code",
   "execution_count": null,
   "id": "6733e0be",
   "metadata": {},
   "outputs": [],
   "source": []
  }
 ],
 "metadata": {
  "kernelspec": {
   "display_name": "Python 3 (ipykernel)",
   "language": "python",
   "name": "python3"
  },
  "language_info": {
   "codemirror_mode": {
    "name": "ipython",
    "version": 3
   },
   "file_extension": ".py",
   "mimetype": "text/x-python",
   "name": "python",
   "nbconvert_exporter": "python",
   "pygments_lexer": "ipython3",
   "version": "3.9.13"
  }
 },
 "nbformat": 4,
 "nbformat_minor": 5
}
