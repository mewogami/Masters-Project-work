{
 "cells": [
  {
   "cell_type": "code",
   "execution_count": 1,
   "id": "bb60bf3c",
   "metadata": {},
   "outputs": [
    {
     "name": "stdout",
     "output_type": "stream",
     "text": [
      "              I         C\n",
      "0     37.861806 -0.070940\n",
      "1     37.562561  0.059471\n",
      "2     40.367013 -0.130140\n",
      "3     38.234375 -0.256257\n",
      "4     41.100697 -0.247445\n",
      "...         ...       ...\n",
      "1895  16.174135  0.132730\n",
      "1896   6.982975  0.025636\n",
      "1897  10.351893 -0.168824\n",
      "1898   8.222412  0.069486\n",
      "1899  11.428972 -0.008225\n",
      "\n",
      "[1900 rows x 2 columns]\n"
     ]
    }
   ],
   "source": [
    "import numpy as np\n",
    "import pandas as pd\n",
    "\n",
    "# Load the numpy array\n",
    "x = np.arange(1, 32)\n",
    "\n",
    "# Load the CSV file\n",
    "data = pd.read_csv('region14_hom2.csv', header = None)\n",
    "\n",
    "# Initialize empty lists to store intercept and coefficient values\n",
    "intercepts = []\n",
    "coefficients = []\n",
    "\n",
    "# Iterate over each row in the CSV file\n",
    "for i in range(len(data)):\n",
    "    row = data.iloc[i, :]\n",
    "    y = np.array(row)\n",
    "    A = np.vstack([x, np.ones(len(x))]).T\n",
    "\n",
    "    # Perform least squares regression\n",
    "    coeffs, residuals, _, _ = np.linalg.lstsq(A, y, rcond=None)\n",
    "\n",
    "    # Append intercept and coefficient values\n",
    "    intercepts.append(coeffs[1])\n",
    "    coefficients.append(coeffs[0])\n",
    "\n",
    "# Create a dataframe from intercepts and coefficients\n",
    "result_df = pd.DataFrame({'I': intercepts, 'C': coefficients})\n",
    "\n",
    "# Display the resulting dataframe\n",
    "print(result_df)\n",
    "\n",
    "result_df.to_excel('region_14_coefficients.xlsx', index = False, header = None)\n",
    "\n"
   ]
  },
  {
   "cell_type": "code",
   "execution_count": 2,
   "id": "bf14dff6",
   "metadata": {},
   "outputs": [],
   "source": [
    "data = np.array(data)"
   ]
  },
  {
   "cell_type": "code",
   "execution_count": 3,
   "id": "5baff2e4",
   "metadata": {},
   "outputs": [],
   "source": [
    "result_df = np.array(result_df)"
   ]
  },
  {
   "cell_type": "code",
   "execution_count": 4,
   "id": "03a3c849",
   "metadata": {},
   "outputs": [
    {
     "data": {
      "text/plain": [
       "37.86180645161292"
      ]
     },
     "execution_count": 4,
     "metadata": {},
     "output_type": "execute_result"
    }
   ],
   "source": [
    "b = result_df[0,0]\n",
    "b"
   ]
  },
  {
   "cell_type": "code",
   "execution_count": 5,
   "id": "d96b8648",
   "metadata": {},
   "outputs": [
    {
     "name": "stdout",
     "output_type": "stream",
     "text": [
      "[[  0.03713306  -2.06392742  -4.5709879  ...   5.00743952   6.89137903\n",
      "   -6.16268145]\n",
      " [ 14.29996774   1.61549677  -5.70997419 ...   1.80678065  23.32530968\n",
      "   -8.50016129]\n",
      " [ -0.78387298 -18.12273306   7.63240685 ...  -2.81195524  13.00618468\n",
      "  -13.6136754 ]\n",
      " ...\n",
      " [  2.12893105  -0.248645    -0.54852105 ...   2.37210169  -0.09967435\n",
      "    0.2410496 ]\n",
      " [  3.94210282  -1.26758274  -3.27466831 ...  -1.20629298  -3.77577855\n",
      "    3.74853589]\n",
      " [ -0.13974677   2.71247806  -3.8730971  ...  -1.31545129  -4.93222645\n",
      "   -2.98650161]]\n"
     ]
    }
   ],
   "source": [
    "e_t = np.empty([1900, 31])\n",
    "\n",
    "for i in range(0, 1900):\n",
    "    b = result_df[i,0]\n",
    "    \n",
    "    coeff = result_df[i,1]\n",
    "    \n",
    "    for j in range(0, 31):\n",
    "        \n",
    "        e_t[i,j] = data[i,j] - b - coeff * (j+1)\n",
    "    \n",
    "    \n",
    "print(e_t)\n",
    "\n",
    "e_t = pd.DataFrame(e_t)\n",
    "e_t.to_excel('e_t.xlsx', index = None, header = None)"
   ]
  },
  {
   "cell_type": "code",
   "execution_count": 6,
   "id": "d038d22f",
   "metadata": {},
   "outputs": [
    {
     "data": {
      "text/plain": [
       "(1900, 31)"
      ]
     },
     "execution_count": 6,
     "metadata": {},
     "output_type": "execute_result"
    }
   ],
   "source": [
    "e_t.shape"
   ]
  },
  {
   "cell_type": "code",
   "execution_count": 7,
   "id": "f39df6ca",
   "metadata": {},
   "outputs": [
    {
     "name": "stdout",
     "output_type": "stream",
     "text": [
      "               I         C\n",
      "0     179.337959 -2.374324\n",
      "1     199.692382 -2.977779\n",
      "2     214.968696 -4.515158\n",
      "3     178.582049 -3.910049\n",
      "4     197.116393 -4.193522\n",
      "...          ...       ...\n",
      "1895   21.345769  0.144576\n",
      "1896    3.051696  0.007434\n",
      "1897    7.018281 -0.151159\n",
      "1898    6.952934  0.429773\n",
      "1899    3.374585  0.266862\n",
      "\n",
      "[1900 rows x 2 columns]\n"
     ]
    }
   ],
   "source": [
    "import numpy as np\n",
    "import pandas as pd\n",
    "\n",
    "# Load the numpy array\n",
    "x = np.arange(1, 32)\n",
    "\n",
    "# Load the CSV file\n",
    "e_t = pd.read_excel('e_t.xlsx', header = None)\n",
    "\n",
    "# Initialize empty lists to store intercept and coefficient values\n",
    "intercepts_var = []\n",
    "coefficients_var = []\n",
    "\n",
    "# Iterate over each row in the CSV file\n",
    "for i in range(len(data)):\n",
    "    row = e_t.iloc[i, :]\n",
    "    y = np.array(row)**2\n",
    "    A = np.vstack([x, np.ones(len(x))]).T\n",
    "\n",
    "    # Perform least squares regression\n",
    "    coeffs, residuals, _, _ = np.linalg.lstsq(A, y, rcond=None)\n",
    "\n",
    "    # Append intercept and coefficient values\n",
    "    intercepts_var.append(coeffs[1])\n",
    "    coefficients_var.append(coeffs[0])\n",
    "\n",
    "# Create a dataframe from intercepts and coefficients\n",
    "result_df_var = pd.DataFrame({'I': intercepts_var, 'C': coefficients_var})\n",
    "\n",
    "# Display the resulting dataframe\n",
    "print(result_df_var)\n",
    "\n",
    "result_df_var.to_excel('region_14_coefficients_variance.xlsx', index = False, header = None)\n",
    "\n"
   ]
  },
  {
   "cell_type": "code",
   "execution_count": 8,
   "id": "cc0d7e91",
   "metadata": {},
   "outputs": [
    {
     "name": "stderr",
     "output_type": "stream",
     "text": [
      "C:\\Users\\User\\AppData\\Local\\Temp\\ipykernel_13176\\232443642.py:11: RuntimeWarning: invalid value encountered in double_scalars\n",
      "  s[i,j] = (bias + coef * (j+1))**0.5\n"
     ]
    }
   ],
   "source": [
    "results_var = np.array(pd.read_excel('region_14_coefficients_variance.xlsx', header = None))\n",
    "\n",
    "s = np.empty([1900, 31])\n",
    "\n",
    "for i in range(0, 1900):\n",
    "    bias = results_var[i,0]\n",
    "    coef = results_var[i,1]\n",
    "    \n",
    "    for j in range(0, 31):\n",
    "        \n",
    "        s[i,j] = (bias + coef * (j+1))**0.5\n",
    "\n",
    "s = pd.DataFrame(s)\n",
    "s\n",
    "\n",
    "s.to_excel('region_14_s.xlsx', index = False, header = None)"
   ]
  },
  {
   "cell_type": "code",
   "execution_count": 9,
   "id": "99d5eeba",
   "metadata": {},
   "outputs": [
    {
     "name": "stdout",
     "output_type": "stream",
     "text": [
      "[[37.79086694 37.71992742 37.6489879  ... 35.80456048 35.73362097\n",
      "  35.66268145]\n",
      " [37.62203226 37.68150323 37.74097419 ... 39.28721935 39.34669032\n",
      "  39.40616129]\n",
      " [40.23687298 40.10673306 39.97659315 ... 36.59295524 36.46281532\n",
      "  36.3326754 ]\n",
      " ...\n",
      " [10.18306895 10.014245    9.84542105 ...  5.45599831  5.28717435\n",
      "   5.1183504 ]\n",
      " [ 8.29189718  8.36138274  8.43086831 ... 10.23749298 10.30697855\n",
      "  10.37646411]\n",
      " [11.42074677 11.41252194 11.4042971  ... 11.19045129 11.18222645\n",
      "  11.17400161]]\n"
     ]
    }
   ],
   "source": [
    "eta_t = np.empty([1900, 31])\n",
    "\n",
    "for i in range(0, 1900):\n",
    "    b = result_df[i,0]\n",
    "    \n",
    "    coeff = result_df[i,1]\n",
    "    \n",
    "    for j in range(0, 31):\n",
    "        \n",
    "        eta_t[i,j] = b + coeff * (j+1)\n",
    "    \n",
    "    \n",
    "print(eta_t)\n",
    "\n",
    "eta_t = pd.DataFrame(eta_t)\n",
    "eta_t.to_excel('eta_t.xlsx', index = None, header = None)"
   ]
  },
  {
   "cell_type": "code",
   "execution_count": 10,
   "id": "44039076",
   "metadata": {},
   "outputs": [],
   "source": [
    "s = np.array(s)\n",
    "eta_t = np.array(eta_t)"
   ]
  },
  {
   "cell_type": "code",
   "execution_count": 11,
   "id": "70719857",
   "metadata": {},
   "outputs": [
    {
     "name": "stdout",
     "output_type": "stream",
     "text": [
      "[[ 0.00279138 -0.15620164 -0.34831694 ...  0.47639678  0.66279117\n",
      "  -0.5993252 ]\n",
      " [ 1.01956932  0.11606466 -0.41342009 ...  0.1697149   2.22036059\n",
      "  -0.82028159]\n",
      " [-0.05403406 -1.26285953  0.5377826  ... -0.30675632  1.45857323\n",
      "  -1.57198444]\n",
      " ...\n",
      " [ 0.81240802 -0.09594571 -0.2140831  ...  1.46140045 -0.06324837\n",
      "   0.15783678]\n",
      " [ 1.45084205 -0.45350479 -1.14062891 ... -0.27375947 -0.84755681\n",
      "   0.83247614]\n",
      " [-0.07323266  1.37205593 -1.89548911 ... -0.39459167 -1.46205455\n",
      "  -0.87508489]]\n"
     ]
    }
   ],
   "source": [
    "norm = np.empty([1900, 31])\n",
    "\n",
    "for i in range(0, 1900):\n",
    "    b = result_df[i,0]\n",
    "    \n",
    "    coeff = result_df[i,1]\n",
    "    \n",
    "    for j in range(0, 31):\n",
    "        \n",
    "        norm[i,j] = (data[i,j] - eta_t[i,j])/s[i,j]\n",
    "    \n",
    "    \n",
    "print(norm)\n",
    "\n",
    "norm = pd.DataFrame(norm)\n",
    "norm.to_excel('norm_region14.xlsx', index = None, header = None)"
   ]
  },
  {
   "cell_type": "code",
   "execution_count": 12,
   "id": "c6dbbfac",
   "metadata": {},
   "outputs": [],
   "source": [
    "region_14_basin = pd.read_csv('region14_basin.csv')\n",
    "rows_to_extract = np.array(region_14_basin[\"id\"])"
   ]
  },
  {
   "cell_type": "code",
   "execution_count": 13,
   "id": "ed7cb6df",
   "metadata": {},
   "outputs": [],
   "source": [
    "qt = 6.128\n",
    "\n",
    "Q_t = np.empty([157, 31])\n",
    "for i in range(157):\n",
    "    for j in range(31):\n",
    "        \n",
    "        Q_t[i, j] = eta_t[rows_to_extract[i]-1, j] + s[rows_to_extract[i]-1, j] * qt\n",
    "    "
   ]
  },
  {
   "cell_type": "code",
   "execution_count": 14,
   "id": "27650fa8",
   "metadata": {},
   "outputs": [],
   "source": [
    "Q_t = pd.DataFrame(Q_t)\n",
    "Q_t.to_excel(\"Quantile_Estimate_region_14.xlsx\", index = None, header = None)"
   ]
  },
  {
   "cell_type": "code",
   "execution_count": null,
   "id": "6733e0be",
   "metadata": {},
   "outputs": [],
   "source": []
  }
 ],
 "metadata": {
  "kernelspec": {
   "display_name": "Python 3 (ipykernel)",
   "language": "python",
   "name": "python3"
  },
  "language_info": {
   "codemirror_mode": {
    "name": "ipython",
    "version": 3
   },
   "file_extension": ".py",
   "mimetype": "text/x-python",
   "name": "python",
   "nbconvert_exporter": "python",
   "pygments_lexer": "ipython3",
   "version": "3.9.13"
  }
 },
 "nbformat": 4,
 "nbformat_minor": 5
}
