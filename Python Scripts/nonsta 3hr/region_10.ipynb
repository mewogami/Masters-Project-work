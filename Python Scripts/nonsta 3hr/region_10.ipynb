{
 "cells": [
  {
   "cell_type": "code",
   "execution_count": 1,
   "id": "bb60bf3c",
   "metadata": {},
   "outputs": [
    {
     "name": "stdout",
     "output_type": "stream",
     "text": [
      "              I         C\n",
      "0     26.540158  0.402176\n",
      "1     38.131013  0.157280\n",
      "2     49.521071 -0.294635\n",
      "3     37.542242  0.634960\n",
      "4     44.431613  0.670252\n",
      "...         ...       ...\n",
      "1253  40.884871  1.139262\n",
      "1254  35.258897  0.405795\n",
      "1255  69.455361 -1.296317\n",
      "1256  39.922684 -0.161158\n",
      "1257  55.390535 -0.401033\n",
      "\n",
      "[1258 rows x 2 columns]\n"
     ]
    }
   ],
   "source": [
    "import numpy as np\n",
    "import pandas as pd\n",
    "\n",
    "# Load the numpy array\n",
    "x = np.arange(1, 32)\n",
    "\n",
    "# Load the CSV file\n",
    "data = pd.read_csv('region10_hom2.csv', header = None)\n",
    "\n",
    "# Initialize empty lists to store intercept and coefficient values\n",
    "intercepts = []\n",
    "coefficients = []\n",
    "\n",
    "# Iterate over each row in the CSV file\n",
    "for i in range(len(data)):\n",
    "    row = data.iloc[i, :]\n",
    "    y = np.array(row)\n",
    "    A = np.vstack([x, np.ones(len(x))]).T\n",
    "\n",
    "    # Perform least squares regression\n",
    "    coeffs, residuals, _, _ = np.linalg.lstsq(A, y, rcond=None)\n",
    "\n",
    "    # Append intercept and coefficient values\n",
    "    intercepts.append(coeffs[1])\n",
    "    coefficients.append(coeffs[0])\n",
    "\n",
    "# Create a dataframe from intercepts and coefficients\n",
    "result_df = pd.DataFrame({'I': intercepts, 'C': coefficients})\n",
    "\n",
    "# Display the resulting dataframe\n",
    "print(result_df)\n",
    "\n",
    "result_df.to_excel('region_10_coefficients.xlsx', index = False, header = None)\n",
    "\n"
   ]
  },
  {
   "cell_type": "code",
   "execution_count": 2,
   "id": "bf14dff6",
   "metadata": {},
   "outputs": [],
   "source": [
    "data = np.array(data)"
   ]
  },
  {
   "cell_type": "code",
   "execution_count": 3,
   "id": "5baff2e4",
   "metadata": {},
   "outputs": [],
   "source": [
    "result_df = np.array(result_df)"
   ]
  },
  {
   "cell_type": "code",
   "execution_count": 4,
   "id": "03a3c849",
   "metadata": {},
   "outputs": [
    {
     "data": {
      "text/plain": [
       "26.540158064516145"
      ]
     },
     "execution_count": 4,
     "metadata": {},
     "output_type": "execute_result"
    }
   ],
   "source": [
    "b = result_df[0,0]\n",
    "b"
   ]
  },
  {
   "cell_type": "code",
   "execution_count": 5,
   "id": "d96b8648",
   "metadata": {},
   "outputs": [
    {
     "name": "stdout",
     "output_type": "stream",
     "text": [
      "[[ -9.13033407 -20.62571008  -0.57468609 ... -23.1722623  -11.77743831\n",
      "   10.25038569]\n",
      " [ 29.49270685 -23.78957339 -16.93085363 ... -21.77013992 -28.88042016\n",
      "   12.1962996 ]\n",
      " [ 31.67956452  15.6152      12.28483548 ... -23.19564194  34.31799355\n",
      "  -13.32537097]\n",
      " ...\n",
      " [ 73.31095565 -45.64372742 -17.59741048 ...  14.07582984   5.24614677\n",
      "   -5.11353629]\n",
      " [ -8.22252621 -12.28836855 -17.17321089 ... -10.90511169  -2.77595403\n",
      "  -13.94279637]\n",
      " [-25.12250202  36.78653145 -27.42143508 ... -10.16656492 -17.93753145\n",
      "  -21.20849798]]\n"
     ]
    }
   ],
   "source": [
    "e_t = np.empty([1258, 31])\n",
    "\n",
    "for i in range(0, 1258):\n",
    "    b = result_df[i,0]\n",
    "    \n",
    "    coeff = result_df[i,1]\n",
    "    \n",
    "    for j in range(0, 31):\n",
    "        \n",
    "        e_t[i,j] = data[i,j] - b - coeff * (j+1)\n",
    "    \n",
    "    \n",
    "print(e_t)\n",
    "\n",
    "e_t = pd.DataFrame(e_t)\n",
    "e_t.to_excel('e_t.xlsx', index = None, header = None)"
   ]
  },
  {
   "cell_type": "code",
   "execution_count": 6,
   "id": "d038d22f",
   "metadata": {},
   "outputs": [
    {
     "data": {
      "text/plain": [
       "(1258, 31)"
      ]
     },
     "execution_count": 6,
     "metadata": {},
     "output_type": "execute_result"
    }
   ],
   "source": [
    "e_t.shape"
   ]
  },
  {
   "cell_type": "code",
   "execution_count": 8,
   "id": "f39df6ca",
   "metadata": {},
   "outputs": [
    {
     "name": "stdout",
     "output_type": "stream",
     "text": [
      "                I          C\n",
      "0      379.702319  -3.347199\n",
      "1      678.736707 -15.368602\n",
      "2      611.291322  -5.346309\n",
      "3      509.696347   5.785009\n",
      "4      450.525738   8.584327\n",
      "...           ...        ...\n",
      "1253  -287.268155  98.092896\n",
      "1254   124.146684  30.849825\n",
      "1255  2361.602480 -80.231545\n",
      "1256   484.472294  -7.533581\n",
      "1257   749.356324   7.571314\n",
      "\n",
      "[1258 rows x 2 columns]\n"
     ]
    }
   ],
   "source": [
    "import numpy as np\n",
    "import pandas as pd\n",
    "\n",
    "# Load the numpy array\n",
    "x = np.arange(1, 32)\n",
    "\n",
    "# Load the CSV file\n",
    "e_t = pd.read_excel('e_t.xlsx', header = None)\n",
    "\n",
    "# Initialize empty lists to store intercept and coefficient values\n",
    "intercepts_var = []\n",
    "coefficients_var = []\n",
    "\n",
    "# Iterate over each row in the CSV file\n",
    "for i in range(len(data)):\n",
    "    row = e_t.iloc[i, :]\n",
    "    y = np.array(row)**2\n",
    "    A = np.vstack([x, np.ones(len(x))]).T\n",
    "\n",
    "    # Perform least squares regression\n",
    "    coeffs, residuals, _, _ = np.linalg.lstsq(A, y, rcond=None)\n",
    "\n",
    "    # Append intercept and coefficient values\n",
    "    intercepts_var.append(coeffs[1])\n",
    "    coefficients_var.append(coeffs[0])\n",
    "\n",
    "# Create a dataframe from intercepts and coefficients\n",
    "result_df_var = pd.DataFrame({'I': intercepts_var, 'C': coefficients_var})\n",
    "\n",
    "# Display the resulting dataframe\n",
    "print(result_df_var)\n",
    "\n",
    "result_df_var.to_excel('region_10_coefficients_variance.xlsx', index = False, header = None)\n",
    "\n"
   ]
  },
  {
   "cell_type": "code",
   "execution_count": 9,
   "id": "cc0d7e91",
   "metadata": {},
   "outputs": [
    {
     "name": "stderr",
     "output_type": "stream",
     "text": [
      "C:\\Users\\User\\AppData\\Local\\Temp\\ipykernel_10208\\348511464.py:11: RuntimeWarning: invalid value encountered in double_scalars\n",
      "  s[i,j] = (bias + coef * (j+1))**0.5\n"
     ]
    }
   ],
   "source": [
    "results_var = np.array(pd.read_excel('region_10_coefficients_variance.xlsx', header = None))\n",
    "\n",
    "s = np.empty([1258, 31])\n",
    "\n",
    "for i in range(0, 1258):\n",
    "    bias = results_var[i,0]\n",
    "    coef = results_var[i,1]\n",
    "    \n",
    "    for j in range(0, 31):\n",
    "        \n",
    "        s[i,j] = (bias + coef * (j+1))**0.5\n",
    "\n",
    "s = pd.DataFrame(s)\n",
    "s\n",
    "\n",
    "s.to_excel('region_10_s.xlsx', index = False, header = None)"
   ]
  },
  {
   "cell_type": "code",
   "execution_count": 10,
   "id": "99d5eeba",
   "metadata": {},
   "outputs": [
    {
     "name": "stdout",
     "output_type": "stream",
     "text": [
      "[[26.94233407 27.34451008 27.74668609 ... 38.2032623  38.60543831\n",
      "  39.00761431]\n",
      " [38.28829315 38.44557339 38.60285363 ... 42.69213992 42.84942016\n",
      "  43.0067004 ]\n",
      " [49.22643548 48.9318     48.63716452 ... 40.97664194 40.68200645\n",
      "  40.38737097]\n",
      " ...\n",
      " [68.15904435 66.86272742 65.56641048 ... 31.86217016 30.56585323\n",
      "  29.26953629]\n",
      " [39.76152621 39.60036855 39.43921089 ... 35.24911169 35.08795403\n",
      "  34.92679637]\n",
      " [54.98950202 54.58846855 54.18743508 ... 43.76056492 43.35953145\n",
      "  42.95849798]]\n"
     ]
    }
   ],
   "source": [
    "eta_t = np.empty([1258, 31])\n",
    "\n",
    "for i in range(0, 1258):\n",
    "    b = result_df[i,0]\n",
    "    \n",
    "    coeff = result_df[i,1]\n",
    "    \n",
    "    for j in range(0, 31):\n",
    "        \n",
    "        eta_t[i,j] = b + coeff * (j+1)\n",
    "    \n",
    "    \n",
    "print(eta_t)\n",
    "\n",
    "eta_t = pd.DataFrame(eta_t)\n",
    "eta_t.to_excel('eta_t.xlsx', index = None, header = None)"
   ]
  },
  {
   "cell_type": "code",
   "execution_count": 11,
   "id": "44039076",
   "metadata": {},
   "outputs": [],
   "source": [
    "s = np.array(s)\n",
    "eta_t = np.array(eta_t)"
   ]
  },
  {
   "cell_type": "code",
   "execution_count": 12,
   "id": "70719857",
   "metadata": {},
   "outputs": [
    {
     "name": "stdout",
     "output_type": "stream",
     "text": [
      "[[-0.47063883 -1.06794745 -0.02989021 ... -1.37834074 -0.70473525\n",
      "   0.61706876]\n",
      " [ 1.14508399 -0.93454306 -0.6731373  ... -1.42606474 -1.95747222\n",
      "   0.85747087]\n",
      " [ 1.28695273  0.63717005  0.50352237 ... -1.08593975  1.61614669\n",
      "  -0.63128908]\n",
      " ...\n",
      " [ 1.53486764 -0.97287564 -0.38210953 ...  2.38307649         nan\n",
      "          nan]\n",
      " [-0.3765078  -0.56717922 -0.79908117 ... -0.66863726 -0.17266786\n",
      "  -0.88018201]\n",
      " [-0.91313651  1.33045562 -0.98687413 ... -0.32660986 -0.57402063\n",
      "  -0.67607919]]\n"
     ]
    }
   ],
   "source": [
    "norm = np.empty([1258, 31])\n",
    "\n",
    "for i in range(0, 1258):\n",
    "    b = result_df[i,0]\n",
    "    \n",
    "    coeff = result_df[i,1]\n",
    "    \n",
    "    for j in range(0, 31):\n",
    "        \n",
    "        norm[i,j] = (data[i,j] - eta_t[i,j])/s[i,j]\n",
    "    \n",
    "    \n",
    "print(norm)\n",
    "\n",
    "norm = pd.DataFrame(norm)\n",
    "norm.to_excel('norm_region10.xlsx', index = None, header = None)"
   ]
  },
  {
   "cell_type": "code",
   "execution_count": 13,
   "id": "c6dbbfac",
   "metadata": {},
   "outputs": [],
   "source": [
    "region_10_basin = pd.read_csv('region10_basin.csv')\n",
    "rows_to_extract = np.array(region_10_basin[\"id\"])"
   ]
  },
  {
   "cell_type": "code",
   "execution_count": 14,
   "id": "ed7cb6df",
   "metadata": {},
   "outputs": [],
   "source": [
    "qt = 11.184\n",
    "\n",
    "Q_t = np.empty([189, 31])\n",
    "for i in range(189):\n",
    "    for j in range(31):\n",
    "        \n",
    "        Q_t[i, j] = eta_t[rows_to_extract[i]-1, j] + s[rows_to_extract[i]-1, j] * qt\n",
    "    "
   ]
  },
  {
   "cell_type": "code",
   "execution_count": 15,
   "id": "27650fa8",
   "metadata": {},
   "outputs": [],
   "source": [
    "Q_t = pd.DataFrame(Q_t)\n",
    "Q_t.to_excel(\"Quantile_Estimate_region_10.xlsx\", index = None, header = None)"
   ]
  },
  {
   "cell_type": "code",
   "execution_count": null,
   "id": "6733e0be",
   "metadata": {},
   "outputs": [],
   "source": []
  }
 ],
 "metadata": {
  "kernelspec": {
   "display_name": "Python 3 (ipykernel)",
   "language": "python",
   "name": "python3"
  },
  "language_info": {
   "codemirror_mode": {
    "name": "ipython",
    "version": 3
   },
   "file_extension": ".py",
   "mimetype": "text/x-python",
   "name": "python",
   "nbconvert_exporter": "python",
   "pygments_lexer": "ipython3",
   "version": "3.9.13"
  }
 },
 "nbformat": 4,
 "nbformat_minor": 5
}
