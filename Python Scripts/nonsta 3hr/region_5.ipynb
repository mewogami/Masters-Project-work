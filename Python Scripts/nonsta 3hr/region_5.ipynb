{
 "cells": [
  {
   "cell_type": "code",
   "execution_count": 1,
   "id": "bb60bf3c",
   "metadata": {},
   "outputs": [
    {
     "name": "stdout",
     "output_type": "stream",
     "text": [
      "             I         C\n",
      "0    14.856247  0.073797\n",
      "1    40.355097  0.566319\n",
      "2    44.792910  0.272159\n",
      "3    50.465729 -0.459517\n",
      "4    40.396781  0.273262\n",
      "..         ...       ...\n",
      "623  30.728077  0.030415\n",
      "624  32.742787 -0.083120\n",
      "625  53.208226 -0.717403\n",
      "626  57.120452 -0.402677\n",
      "627  50.392277 -0.062654\n",
      "\n",
      "[628 rows x 2 columns]\n"
     ]
    }
   ],
   "source": [
    "import numpy as np\n",
    "import pandas as pd\n",
    "\n",
    "# Load the numpy array\n",
    "x = np.arange(1, 32)\n",
    "\n",
    "# Load the CSV file\n",
    "data = pd.read_csv('region5_hom2.csv', header = None)\n",
    "\n",
    "# Initialize empty lists to store intercept and coefficient values\n",
    "intercepts = []\n",
    "coefficients = []\n",
    "\n",
    "# Iterate over each row in the CSV file\n",
    "for i in range(len(data)):\n",
    "    row = data.iloc[i, :]\n",
    "    y = np.array(row)\n",
    "    A = np.vstack([x, np.ones(len(x))]).T\n",
    "\n",
    "    # Perform least squares regression\n",
    "    coeffs, residuals, _, _ = np.linalg.lstsq(A, y, rcond=None)\n",
    "\n",
    "    # Append intercept and coefficient values\n",
    "    intercepts.append(coeffs[1])\n",
    "    coefficients.append(coeffs[0])\n",
    "\n",
    "# Create a dataframe from intercepts and coefficients\n",
    "result_df = pd.DataFrame({'I': intercepts, 'C': coefficients})\n",
    "\n",
    "# Display the resulting dataframe\n",
    "print(result_df)\n",
    "\n",
    "result_df.to_excel('region_5_coefficients.xlsx', index = False, header = None)\n",
    "\n"
   ]
  },
  {
   "cell_type": "code",
   "execution_count": 2,
   "id": "bf14dff6",
   "metadata": {},
   "outputs": [],
   "source": [
    "data = np.array(data)"
   ]
  },
  {
   "cell_type": "code",
   "execution_count": 3,
   "id": "5baff2e4",
   "metadata": {},
   "outputs": [],
   "source": [
    "result_df = np.array(result_df)"
   ]
  },
  {
   "cell_type": "code",
   "execution_count": 4,
   "id": "03a3c849",
   "metadata": {},
   "outputs": [
    {
     "data": {
      "text/plain": [
       "14.856247096774203"
      ]
     },
     "execution_count": 4,
     "metadata": {},
     "output_type": "execute_result"
    }
   ],
   "source": [
    "b = result_df[0,0]\n",
    "b"
   ]
  },
  {
   "cell_type": "code",
   "execution_count": 5,
   "id": "d96b8648",
   "metadata": {},
   "outputs": [
    {
     "name": "stdout",
     "output_type": "stream",
     "text": [
      "[[ -2.97704375 -12.3710404   10.48436294 ...  -2.91835004  -2.39814669\n",
      "   -0.64394335]\n",
      " [ 36.93758468 -18.61273387 -10.08505242 ... -29.38733468  30.18634677\n",
      "  -43.16097177]\n",
      " [ 35.66893065 -23.38422839   3.95261258 ... -31.31052226  -7.91068129\n",
      "   26.22315968]\n",
      " ...\n",
      " [-20.64682258 -15.39841935  32.94398387 ...  -7.63753226   9.79787097\n",
      "   18.73427419]\n",
      " [ 54.00222581 -31.44009677 -41.36541935 ...  83.11719355 -11.08712903\n",
      "   15.42454839]\n",
      " [-19.09562298 -12.42296855 -12.36031411 ...  -2.85629879 -13.46564435\n",
      "   -7.54398992]]\n"
     ]
    }
   ],
   "source": [
    "e_t = np.empty([628, 31])\n",
    "\n",
    "for i in range(0, 628):\n",
    "    b = result_df[i,0]\n",
    "    \n",
    "    coeff = result_df[i,1]\n",
    "    \n",
    "    for j in range(0, 31):\n",
    "        \n",
    "        e_t[i,j] = data[i,j] - b - coeff * (j+1)\n",
    "    \n",
    "    \n",
    "print(e_t)\n",
    "\n",
    "e_t = pd.DataFrame(e_t)\n",
    "e_t.to_excel('e_t.xlsx', index = None, header = None)"
   ]
  },
  {
   "cell_type": "code",
   "execution_count": 6,
   "id": "d038d22f",
   "metadata": {},
   "outputs": [
    {
     "data": {
      "text/plain": [
       "(628, 31)"
      ]
     },
     "execution_count": 6,
     "metadata": {},
     "output_type": "execute_result"
    }
   ],
   "source": [
    "e_t.shape"
   ]
  },
  {
   "cell_type": "code",
   "execution_count": 7,
   "id": "f39df6ca",
   "metadata": {},
   "outputs": [
    {
     "name": "stdout",
     "output_type": "stream",
     "text": [
      "               I          C\n",
      "0      91.249435  -2.086146\n",
      "1     478.437358  15.726354\n",
      "2     750.139721   4.216753\n",
      "3     304.670116  10.246032\n",
      "4     402.959291   9.070880\n",
      "..           ...        ...\n",
      "623    60.544863  13.481080\n",
      "624    92.434701  13.540118\n",
      "625  1133.874595 -41.949763\n",
      "626  2063.636750 -35.314037\n",
      "627  1367.852072 -27.676604\n",
      "\n",
      "[628 rows x 2 columns]\n"
     ]
    }
   ],
   "source": [
    "import numpy as np\n",
    "import pandas as pd\n",
    "\n",
    "# Load the numpy array\n",
    "x = np.arange(1, 32)\n",
    "\n",
    "# Load the CSV file\n",
    "e_t = pd.read_excel('e_t.xlsx', header = None)\n",
    "\n",
    "# Initialize empty lists to store intercept and coefficient values\n",
    "intercepts_var = []\n",
    "coefficients_var = []\n",
    "\n",
    "# Iterate over each row in the CSV file\n",
    "for i in range(len(data)):\n",
    "    row = e_t.iloc[i, :]\n",
    "    y = np.array(row)**2\n",
    "    A = np.vstack([x, np.ones(len(x))]).T\n",
    "\n",
    "    # Perform least squares regression\n",
    "    coeffs, residuals, _, _ = np.linalg.lstsq(A, y, rcond=None)\n",
    "\n",
    "    # Append intercept and coefficient values\n",
    "    intercepts_var.append(coeffs[1])\n",
    "    coefficients_var.append(coeffs[0])\n",
    "\n",
    "# Create a dataframe from intercepts and coefficients\n",
    "result_df_var = pd.DataFrame({'I': intercepts_var, 'C': coefficients_var})\n",
    "\n",
    "# Display the resulting dataframe\n",
    "print(result_df_var)\n",
    "\n",
    "result_df_var.to_excel('region_5_coefficients_variance.xlsx', index = False, header = None)\n",
    "\n"
   ]
  },
  {
   "cell_type": "code",
   "execution_count": 8,
   "id": "cc0d7e91",
   "metadata": {},
   "outputs": [
    {
     "name": "stderr",
     "output_type": "stream",
     "text": [
      "C:\\Users\\User\\AppData\\Local\\Temp\\ipykernel_11324\\4212133227.py:11: RuntimeWarning: invalid value encountered in double_scalars\n",
      "  s[i,j] = (bias + coef * (j+1))**0.5\n"
     ]
    }
   ],
   "source": [
    "results_var = np.array(pd.read_excel('region_5_coefficients_variance.xlsx', header = None))\n",
    "\n",
    "s = np.empty([628, 31])\n",
    "\n",
    "for i in range(0, 628):\n",
    "    bias = results_var[i,0]\n",
    "    coef = results_var[i,1]\n",
    "    \n",
    "    for j in range(0, 31):\n",
    "        \n",
    "        s[i,j] = (bias + coef * (j+1))**0.5\n",
    "\n",
    "s = pd.DataFrame(s)\n",
    "s\n",
    "\n",
    "s.to_excel('region_5_s.xlsx', index = False, header = None)"
   ]
  },
  {
   "cell_type": "code",
   "execution_count": 9,
   "id": "99d5eeba",
   "metadata": {},
   "outputs": [
    {
     "name": "stdout",
     "output_type": "stream",
     "text": [
      "[[14.93004375 15.0038404  15.07763706 ... 16.99635004 17.07014669\n",
      "  17.14394335]\n",
      " [40.92141532 41.48773387 42.05405242 ... 56.77833468 57.34465323\n",
      "  57.91097177]\n",
      " [45.06506935 45.33722839 45.60938742 ... 52.68552226 52.95768129\n",
      "  53.22984032]\n",
      " ...\n",
      " [52.49082258 51.77341935 51.05601613 ... 32.40353226 31.68612903\n",
      "  30.96872581]\n",
      " [56.71777419 56.31509677 55.91241935 ... 45.44280645 45.04012903\n",
      "  44.63745161]\n",
      " [50.32962298 50.26696855 50.20431411 ... 48.57529879 48.51264435\n",
      "  48.44998992]]\n"
     ]
    }
   ],
   "source": [
    "eta_t = np.empty([628, 31])\n",
    "\n",
    "for i in range(0, 628):\n",
    "    b = result_df[i,0]\n",
    "    \n",
    "    coeff = result_df[i,1]\n",
    "    \n",
    "    for j in range(0, 31):\n",
    "        \n",
    "        eta_t[i,j] = b + coeff * (j+1)\n",
    "    \n",
    "    \n",
    "print(eta_t)\n",
    "\n",
    "eta_t = pd.DataFrame(eta_t)\n",
    "eta_t.to_excel('eta_t.xlsx', index = None, header = None)"
   ]
  },
  {
   "cell_type": "code",
   "execution_count": 10,
   "id": "44039076",
   "metadata": {},
   "outputs": [],
   "source": [
    "s = np.array(s)\n",
    "eta_t = np.array(eta_t)"
   ]
  },
  {
   "cell_type": "code",
   "execution_count": 11,
   "id": "70719857",
   "metadata": {},
   "outputs": [
    {
     "name": "stdout",
     "output_type": "stream",
     "text": [
      "[[-0.31527692 -1.32572712  1.13724906 ... -0.52626733 -0.44791894\n",
      "  -0.12490481]\n",
      " [ 1.66162519 -0.82427455 -0.4398896  ... -0.96132484  0.97925692\n",
      "  -1.38871432]\n",
      " [ 1.29867888 -0.84903245  0.14311388 ... -1.06004944 -0.26717922\n",
      "   0.88355137]\n",
      " ...\n",
      " [-0.62482278 -0.47521118  1.03762493 ...         nan         nan\n",
      "          nan]\n",
      " [ 1.19906612 -0.70425393 -0.93489956 ...  2.57793772 -0.34986912\n",
      "   0.49553304]\n",
      " [-0.52161852 -0.34290666 -0.34483233 ... -0.12014088 -0.58078597\n",
      "  -0.33409367]]\n"
     ]
    }
   ],
   "source": [
    "norm = np.empty([628, 31])\n",
    "\n",
    "for i in range(0, 628):\n",
    "    b = result_df[i,0]\n",
    "    \n",
    "    coeff = result_df[i,1]\n",
    "    \n",
    "    for j in range(0, 31):\n",
    "        \n",
    "        norm[i,j] = (data[i,j] - eta_t[i,j])/s[i,j]\n",
    "    \n",
    "    \n",
    "print(norm)\n",
    "\n",
    "norm = pd.DataFrame(norm)\n",
    "norm.to_excel('norm_region5.xlsx', index = None, header = None)"
   ]
  },
  {
   "cell_type": "code",
   "execution_count": 12,
   "id": "c6dbbfac",
   "metadata": {},
   "outputs": [],
   "source": [
    "region_5_basin = pd.read_csv('region5_basin.csv')\n",
    "rows_to_extract = np.array(region_5_basin[\"id\"])"
   ]
  },
  {
   "cell_type": "code",
   "execution_count": 13,
   "id": "ed7cb6df",
   "metadata": {},
   "outputs": [],
   "source": [
    "qt = 13.77\n",
    "\n",
    "Q_t = np.empty([75, 31])\n",
    "for i in range(75):\n",
    "    for j in range(31):\n",
    "        \n",
    "        Q_t[i, j] = eta_t[rows_to_extract[i]-1, j] + s[rows_to_extract[i]-1, j] * qt\n",
    "    "
   ]
  },
  {
   "cell_type": "code",
   "execution_count": 14,
   "id": "27650fa8",
   "metadata": {},
   "outputs": [],
   "source": [
    "Q_t = pd.DataFrame(Q_t)\n",
    "Q_t.to_excel(\"Quantile_Estimate_region_5.xlsx\", index = None, header = None)"
   ]
  },
  {
   "cell_type": "code",
   "execution_count": null,
   "id": "6733e0be",
   "metadata": {},
   "outputs": [],
   "source": []
  }
 ],
 "metadata": {
  "kernelspec": {
   "display_name": "Python 3 (ipykernel)",
   "language": "python",
   "name": "python3"
  },
  "language_info": {
   "codemirror_mode": {
    "name": "ipython",
    "version": 3
   },
   "file_extension": ".py",
   "mimetype": "text/x-python",
   "name": "python",
   "nbconvert_exporter": "python",
   "pygments_lexer": "ipython3",
   "version": "3.9.13"
  }
 },
 "nbformat": 4,
 "nbformat_minor": 5
}
