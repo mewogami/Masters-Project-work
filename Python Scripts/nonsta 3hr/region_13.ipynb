{
 "cells": [
  {
   "cell_type": "code",
   "execution_count": 1,
   "id": "bb60bf3c",
   "metadata": {},
   "outputs": [
    {
     "name": "stdout",
     "output_type": "stream",
     "text": [
      "              I         C\n",
      "0     81.487852 -0.679200\n",
      "1     76.417652 -0.342216\n",
      "2     77.695871 -0.467272\n",
      "3     91.127510 -0.769677\n",
      "4     73.644568  0.062338\n",
      "...         ...       ...\n",
      "1972  43.683284  0.673337\n",
      "1973  36.207632  0.256614\n",
      "1974  65.706032 -0.432417\n",
      "1975  71.967961 -0.691322\n",
      "1976  19.720890  0.043934\n",
      "\n",
      "[1977 rows x 2 columns]\n"
     ]
    }
   ],
   "source": [
    "import numpy as np\n",
    "import pandas as pd\n",
    "\n",
    "# Load the numpy array\n",
    "x = np.arange(1, 32)\n",
    "\n",
    "# Load the CSV file\n",
    "data = pd.read_csv('region13_hom2.csv', header = None)\n",
    "\n",
    "# Initialize empty lists to store intercept and coefficient values\n",
    "intercepts = []\n",
    "coefficients = []\n",
    "\n",
    "# Iterate over each row in the CSV file\n",
    "for i in range(len(data)):\n",
    "    row = data.iloc[i, :]\n",
    "    y = np.array(row)\n",
    "    A = np.vstack([x, np.ones(len(x))]).T\n",
    "\n",
    "    # Perform least squares regression\n",
    "    coeffs, residuals, _, _ = np.linalg.lstsq(A, y, rcond=None)\n",
    "\n",
    "    # Append intercept and coefficient values\n",
    "    intercepts.append(coeffs[1])\n",
    "    coefficients.append(coeffs[0])\n",
    "\n",
    "# Create a dataframe from intercepts and coefficients\n",
    "result_df = pd.DataFrame({'I': intercepts, 'C': coefficients})\n",
    "\n",
    "# Display the resulting dataframe\n",
    "print(result_df)\n",
    "\n",
    "result_df.to_excel('region_13_coefficients.xlsx', index = False, header = None)\n",
    "\n"
   ]
  },
  {
   "cell_type": "code",
   "execution_count": 2,
   "id": "bf14dff6",
   "metadata": {},
   "outputs": [],
   "source": [
    "data = np.array(data)"
   ]
  },
  {
   "cell_type": "code",
   "execution_count": 3,
   "id": "5baff2e4",
   "metadata": {},
   "outputs": [],
   "source": [
    "result_df = np.array(result_df)"
   ]
  },
  {
   "cell_type": "code",
   "execution_count": 4,
   "id": "03a3c849",
   "metadata": {},
   "outputs": [
    {
     "data": {
      "text/plain": [
       "81.48785161290328"
      ]
     },
     "execution_count": 4,
     "metadata": {},
     "output_type": "execute_result"
    }
   ],
   "source": [
    "b = result_df[0,0]\n",
    "b"
   ]
  },
  {
   "cell_type": "code",
   "execution_count": 5,
   "id": "d96b8648",
   "metadata": {},
   "outputs": [
    {
     "name": "stdout",
     "output_type": "stream",
     "text": [
      "[[ 13.41034879 -20.87945081 -40.5752504  ... -16.01003992 -12.11183952\n",
      "  -13.10463911]\n",
      " [-33.37243548  13.87578065 -35.71900323 ... -10.16538387  -0.24516774\n",
      "  -27.33995161]\n",
      " [  9.95940121 -54.86332661 -23.99705444 ...  -1.56697782  35.52529435\n",
      "  -28.83543347]\n",
      " ...\n",
      " [  6.86738508  54.32880242 -29.90878024 ...  -3.57192944   5.5784879\n",
      "    7.94890524]\n",
      " [ -1.90163911  16.21168306  14.23100524 ... -25.68561815  50.93170403\n",
      "   -6.56797379]\n",
      " [  1.2511754   -1.95675887  -6.32169315 ...  -2.91698427  -9.80491855\n",
      "    6.32314718]]\n"
     ]
    }
   ],
   "source": [
    "e_t = np.empty([1977, 31])\n",
    "\n",
    "for i in range(0, 1977):\n",
    "    b = result_df[i,0]\n",
    "    \n",
    "    coeff = result_df[i,1]\n",
    "    \n",
    "    for j in range(0, 31):\n",
    "        \n",
    "        e_t[i,j] = data[i,j] - b - coeff * (j+1)\n",
    "    \n",
    "    \n",
    "print(e_t)\n",
    "\n",
    "e_t = pd.DataFrame(e_t)\n",
    "e_t.to_excel('e_t.xlsx', index = None, header = None)"
   ]
  },
  {
   "cell_type": "code",
   "execution_count": 6,
   "id": "d038d22f",
   "metadata": {},
   "outputs": [
    {
     "data": {
      "text/plain": [
       "(1977, 31)"
      ]
     },
     "execution_count": 6,
     "metadata": {},
     "output_type": "execute_result"
    }
   ],
   "source": [
    "e_t.shape"
   ]
  },
  {
   "cell_type": "code",
   "execution_count": 7,
   "id": "f39df6ca",
   "metadata": {},
   "outputs": [
    {
     "name": "stdout",
     "output_type": "stream",
     "text": [
      "                I          C\n",
      "0     1733.436993 -42.785161\n",
      "1     1359.004328 -17.115334\n",
      "2     1281.421780 -12.126885\n",
      "3     1310.647287 -19.042856\n",
      "4     1047.405510 -10.550591\n",
      "...           ...        ...\n",
      "1972  -152.989324  44.857660\n",
      "1973   171.889215  -0.706099\n",
      "1974   749.207543  -2.019320\n",
      "1975  1405.480905 -16.477793\n",
      "1976    40.947038   1.212616\n",
      "\n",
      "[1977 rows x 2 columns]\n"
     ]
    }
   ],
   "source": [
    "import numpy as np\n",
    "import pandas as pd\n",
    "\n",
    "# Load the numpy array\n",
    "x = np.arange(1, 32)\n",
    "\n",
    "# Load the CSV file\n",
    "e_t = pd.read_excel('e_t.xlsx', header = None)\n",
    "\n",
    "# Initialize empty lists to store intercept and coefficient values\n",
    "intercepts_var = []\n",
    "coefficients_var = []\n",
    "\n",
    "# Iterate over each row in the CSV file\n",
    "for i in range(len(data)):\n",
    "    row = e_t.iloc[i, :]\n",
    "    y = np.array(row)**2\n",
    "    A = np.vstack([x, np.ones(len(x))]).T\n",
    "\n",
    "    # Perform least squares regression\n",
    "    coeffs, residuals, _, _ = np.linalg.lstsq(A, y, rcond=None)\n",
    "\n",
    "    # Append intercept and coefficient values\n",
    "    intercepts_var.append(coeffs[1])\n",
    "    coefficients_var.append(coeffs[0])\n",
    "\n",
    "# Create a dataframe from intercepts and coefficients\n",
    "result_df_var = pd.DataFrame({'I': intercepts_var, 'C': coefficients_var})\n",
    "\n",
    "# Display the resulting dataframe\n",
    "print(result_df_var)\n",
    "\n",
    "result_df_var.to_excel('region_13_coefficients_variance.xlsx', index = False, header = None)\n",
    "\n"
   ]
  },
  {
   "cell_type": "code",
   "execution_count": 8,
   "id": "cc0d7e91",
   "metadata": {},
   "outputs": [
    {
     "name": "stderr",
     "output_type": "stream",
     "text": [
      "C:\\Users\\User\\AppData\\Local\\Temp\\ipykernel_17552\\647044295.py:11: RuntimeWarning: invalid value encountered in double_scalars\n",
      "  s[i,j] = (bias + coef * (j+1))**0.5\n"
     ]
    }
   ],
   "source": [
    "results_var = np.array(pd.read_excel('region_13_coefficients_variance.xlsx', header = None))\n",
    "\n",
    "s = np.empty([1977, 31])\n",
    "\n",
    "for i in range(0, 1977):\n",
    "    bias = results_var[i,0]\n",
    "    coef = results_var[i,1]\n",
    "    \n",
    "    for j in range(0, 31):\n",
    "        \n",
    "        s[i,j] = (bias + coef * (j+1))**0.5\n",
    "\n",
    "s = pd.DataFrame(s)\n",
    "s\n",
    "\n",
    "s.to_excel('region_13_s.xlsx', index = False, header = None)"
   ]
  },
  {
   "cell_type": "code",
   "execution_count": 9,
   "id": "99d5eeba",
   "metadata": {},
   "outputs": [
    {
     "name": "stdout",
     "output_type": "stream",
     "text": [
      "[[80.80865121 80.12945081 79.4502504  ... 61.79103992 61.11183952\n",
      "  60.43263911]\n",
      " [76.07543548 75.73321935 75.39100323 ... 66.49338387 66.15116774\n",
      "  65.80895161]\n",
      " [77.22859879 76.76132661 76.29405444 ... 64.14497782 63.67770565\n",
      "  63.21043347]\n",
      " ...\n",
      " [65.27361492 64.84119758 64.40878024 ... 53.16592944 52.7335121\n",
      "  52.30109476]\n",
      " [71.27663911 70.58531694 69.89399476 ... 51.91961815 51.22829597\n",
      "  50.53697379]\n",
      " [19.7648246  19.80875887 19.85269315 ... 20.99498427 21.03891855\n",
      "  21.08285282]]\n"
     ]
    }
   ],
   "source": [
    "eta_t = np.empty([1977, 31])\n",
    "\n",
    "for i in range(0, 1977):\n",
    "    b = result_df[i,0]\n",
    "    \n",
    "    coeff = result_df[i,1]\n",
    "    \n",
    "    for j in range(0, 31):\n",
    "        \n",
    "        eta_t[i,j] = b + coeff * (j+1)\n",
    "    \n",
    "    \n",
    "print(eta_t)\n",
    "\n",
    "eta_t = pd.DataFrame(eta_t)\n",
    "eta_t.to_excel('eta_t.xlsx', index = None, header = None)"
   ]
  },
  {
   "cell_type": "code",
   "execution_count": 10,
   "id": "44039076",
   "metadata": {},
   "outputs": [],
   "source": [
    "s = np.array(s)\n",
    "eta_t = np.array(eta_t)"
   ]
  },
  {
   "cell_type": "code",
   "execution_count": 11,
   "id": "70719857",
   "metadata": {},
   "outputs": [
    {
     "name": "stdout",
     "output_type": "stream",
     "text": [
      "[[ 0.3261467  -0.51434916 -1.01277428 ... -0.72129934 -0.57103236\n",
      "  -0.64949545]\n",
      " [-0.91102356  0.38122957 -0.98776172 ... -0.34610195 -0.00843131\n",
      "  -0.94988297]\n",
      " [ 0.27954515 -1.54733902 -0.68008953 ... -0.05139035  1.17275523\n",
      "  -0.95826374]\n",
      " ...\n",
      " [ 0.25123283  1.99022772 -1.0971363  ... -0.1359173   0.21258087\n",
      "   0.30335608]\n",
      " [-0.05102423  0.43759054  0.38645428 ... -0.84334218  1.68730641\n",
      "  -0.21958372]\n",
      " [ 0.19269466 -0.29711955 -0.9467593  ... -0.33435278 -1.11501975\n",
      "   0.71349838]]\n"
     ]
    }
   ],
   "source": [
    "norm = np.empty([1977, 31])\n",
    "\n",
    "for i in range(0, 1977):\n",
    "    b = result_df[i,0]\n",
    "    \n",
    "    coeff = result_df[i,1]\n",
    "    \n",
    "    for j in range(0, 31):\n",
    "        \n",
    "        norm[i,j] = (data[i,j] - eta_t[i,j])/s[i,j]\n",
    "    \n",
    "    \n",
    "print(norm)\n",
    "\n",
    "norm = pd.DataFrame(norm)\n",
    "norm.to_excel('norm_region13.xlsx', index = None, header = None)"
   ]
  },
  {
   "cell_type": "code",
   "execution_count": 12,
   "id": "c6dbbfac",
   "metadata": {},
   "outputs": [],
   "source": [
    "region_13_basin = pd.read_csv('region13_basin.csv')\n",
    "rows_to_extract = np.array(region_13_basin[\"id\"])"
   ]
  },
  {
   "cell_type": "code",
   "execution_count": 13,
   "id": "ed7cb6df",
   "metadata": {},
   "outputs": [],
   "source": [
    "qt = 8.53\n",
    "\n",
    "Q_t = np.empty([162, 31])\n",
    "for i in range(162):\n",
    "    for j in range(31):\n",
    "        \n",
    "        Q_t[i, j] = eta_t[rows_to_extract[i]-1, j] + s[rows_to_extract[i]-1, j] * qt\n",
    "    "
   ]
  },
  {
   "cell_type": "code",
   "execution_count": 14,
   "id": "27650fa8",
   "metadata": {},
   "outputs": [],
   "source": [
    "Q_t = pd.DataFrame(Q_t)\n",
    "Q_t.to_excel(\"Quantile_Estimate_region_13.xlsx\", index = None, header = None)"
   ]
  },
  {
   "cell_type": "code",
   "execution_count": null,
   "id": "6733e0be",
   "metadata": {},
   "outputs": [],
   "source": []
  }
 ],
 "metadata": {
  "kernelspec": {
   "display_name": "Python 3 (ipykernel)",
   "language": "python",
   "name": "python3"
  },
  "language_info": {
   "codemirror_mode": {
    "name": "ipython",
    "version": 3
   },
   "file_extension": ".py",
   "mimetype": "text/x-python",
   "name": "python",
   "nbconvert_exporter": "python",
   "pygments_lexer": "ipython3",
   "version": "3.9.13"
  }
 },
 "nbformat": 4,
 "nbformat_minor": 5
}
