{
 "cells": [
  {
   "cell_type": "code",
   "execution_count": 1,
   "id": "bb60bf3c",
   "metadata": {},
   "outputs": [
    {
     "name": "stdout",
     "output_type": "stream",
     "text": [
      "             I         C\n",
      "0    56.789632 -0.311527\n",
      "1    42.648303  0.817580\n",
      "2    57.953884 -0.292531\n",
      "3    43.761574  0.653331\n",
      "4    51.993677  1.212954\n",
      "..         ...       ...\n",
      "742  52.311948  0.506989\n",
      "743  44.391374  1.796628\n",
      "744  56.329013  0.659148\n",
      "745  78.757445 -1.112985\n",
      "746  72.663077 -0.087533\n",
      "\n",
      "[747 rows x 2 columns]\n"
     ]
    }
   ],
   "source": [
    "import numpy as np\n",
    "import pandas as pd\n",
    "\n",
    "# Load the numpy array\n",
    "x = np.arange(1, 32)\n",
    "\n",
    "# Load the CSV file\n",
    "data = pd.read_csv('region2_hom2.csv', header = None)\n",
    "\n",
    "# Initialize empty lists to store intercept and coefficient values\n",
    "intercepts = []\n",
    "coefficients = []\n",
    "\n",
    "# Iterate over each row in the CSV file\n",
    "for i in range(len(data)):\n",
    "    row = data.iloc[i, :]\n",
    "    y = np.array(row)\n",
    "    A = np.vstack([x, np.ones(len(x))]).T\n",
    "\n",
    "    # Perform least squares regression\n",
    "    coeffs, residuals, _, _ = np.linalg.lstsq(A, y, rcond=None)\n",
    "\n",
    "    # Append intercept and coefficient values\n",
    "    intercepts.append(coeffs[1])\n",
    "    coefficients.append(coeffs[0])\n",
    "\n",
    "# Create a dataframe from intercepts and coefficients\n",
    "result_df = pd.DataFrame({'I': intercepts, 'C': coefficients})\n",
    "\n",
    "# Display the resulting dataframe\n",
    "print(result_df)\n",
    "\n",
    "result_df.to_excel('region_2_coefficients.xlsx', index = False, header = None)\n",
    "\n"
   ]
  },
  {
   "cell_type": "code",
   "execution_count": 2,
   "id": "bf14dff6",
   "metadata": {},
   "outputs": [],
   "source": [
    "data = np.array(data)"
   ]
  },
  {
   "cell_type": "code",
   "execution_count": 3,
   "id": "5baff2e4",
   "metadata": {},
   "outputs": [],
   "source": [
    "result_df = np.array(result_df)"
   ]
  },
  {
   "cell_type": "code",
   "execution_count": 4,
   "id": "03a3c849",
   "metadata": {},
   "outputs": [
    {
     "data": {
      "text/plain": [
       "56.789632258064536"
      ]
     },
     "execution_count": 4,
     "metadata": {},
     "output_type": "execute_result"
    }
   ],
   "source": [
    "b = result_df[0,0]\n",
    "b"
   ]
  },
  {
   "cell_type": "code",
   "execution_count": 5,
   "id": "d96b8648",
   "metadata": {},
   "outputs": [
    {
     "name": "stdout",
     "output_type": "stream",
     "text": [
      "[[ 45.44189516  21.98942258  10.69195    ... -28.2863371   48.74419032\n",
      "  -17.13228226]\n",
      " [  9.51811694 -16.5334629   20.62595726 ... -49.23311855  40.09430161\n",
      "   -8.85227823]\n",
      " [ 23.36964718 -26.77482177  16.07970927 ...  -3.70448347 -24.13095242\n",
      "    5.25557863]\n",
      " ...\n",
      " [  1.58183871 -27.17830968 -37.44745806 ...  37.11568387  38.08653548\n",
      "  -36.7466129 ]\n",
      " [ 54.04554032 -19.20347419 -34.88748871 ...  93.70913387   9.50711935\n",
      "  -16.06689516]\n",
      " [103.76445565 -32.08201129 -53.10347823 ... -10.10861855 -26.00608548\n",
      "  -39.63755242]]\n"
     ]
    }
   ],
   "source": [
    "e_t = np.empty([747, 31])\n",
    "\n",
    "for i in range(0, 747):\n",
    "    b = result_df[i,0]\n",
    "    \n",
    "    coeff = result_df[i,1]\n",
    "    \n",
    "    for j in range(0, 31):\n",
    "        \n",
    "        e_t[i,j] = data[i,j] - b - coeff * (j+1)\n",
    "    \n",
    "    \n",
    "print(e_t)\n",
    "\n",
    "e_t = pd.DataFrame(e_t)\n",
    "e_t.to_excel('e_t.xlsx', index = None, header = None)"
   ]
  },
  {
   "cell_type": "code",
   "execution_count": 6,
   "id": "d038d22f",
   "metadata": {},
   "outputs": [
    {
     "data": {
      "text/plain": [
       "(747, 31)"
      ]
     },
     "execution_count": 6,
     "metadata": {},
     "output_type": "execute_result"
    }
   ],
   "source": [
    "e_t.shape"
   ]
  },
  {
   "cell_type": "code",
   "execution_count": 7,
   "id": "f39df6ca",
   "metadata": {},
   "outputs": [
    {
     "name": "stdout",
     "output_type": "stream",
     "text": [
      "               I           C\n",
      "0     805.865330   -2.904160\n",
      "1     553.651656   14.857863\n",
      "2     945.068134  -13.665150\n",
      "3     553.598372   10.589230\n",
      "4     807.792948   23.712862\n",
      "..           ...         ...\n",
      "742  -195.528185  101.560758\n",
      "743  -843.465086  203.053618\n",
      "744  3441.408873  -70.479465\n",
      "745  1778.034333  -23.080413\n",
      "746  2398.266205   12.129665\n",
      "\n",
      "[747 rows x 2 columns]\n"
     ]
    }
   ],
   "source": [
    "import numpy as np\n",
    "import pandas as pd\n",
    "\n",
    "# Load the numpy array\n",
    "x = np.arange(1, 32)\n",
    "\n",
    "# Load the CSV file\n",
    "e_t = pd.read_excel('e_t.xlsx', header = None)\n",
    "\n",
    "# Initialize empty lists to store intercept and coefficient values\n",
    "intercepts_var = []\n",
    "coefficients_var = []\n",
    "\n",
    "# Iterate over each row in the CSV file\n",
    "for i in range(len(data)):\n",
    "    row = e_t.iloc[i, :]\n",
    "    y = np.array(row)**2\n",
    "    A = np.vstack([x, np.ones(len(x))]).T\n",
    "\n",
    "    # Perform least squares regression\n",
    "    coeffs, residuals, _, _ = np.linalg.lstsq(A, y, rcond=None)\n",
    "\n",
    "    # Append intercept and coefficient values\n",
    "    intercepts_var.append(coeffs[1])\n",
    "    coefficients_var.append(coeffs[0])\n",
    "\n",
    "# Create a dataframe from intercepts and coefficients\n",
    "result_df_var = pd.DataFrame({'I': intercepts_var, 'C': coefficients_var})\n",
    "\n",
    "# Display the resulting dataframe\n",
    "print(result_df_var)\n",
    "\n",
    "result_df_var.to_excel('region_2_coefficients_variance.xlsx', index = False, header = None)\n",
    "\n"
   ]
  },
  {
   "cell_type": "code",
   "execution_count": 8,
   "id": "cc0d7e91",
   "metadata": {},
   "outputs": [
    {
     "name": "stderr",
     "output_type": "stream",
     "text": [
      "C:\\Users\\User\\AppData\\Local\\Temp\\ipykernel_9712\\3622572210.py:11: RuntimeWarning: invalid value encountered in double_scalars\n",
      "  s[i,j] = (bias + coef * (j+1))**0.5\n"
     ]
    }
   ],
   "source": [
    "results_var = np.array(pd.read_excel('region_2_coefficients_variance.xlsx', header = None))\n",
    "\n",
    "s = np.empty([747, 31])\n",
    "\n",
    "for i in range(0, 747):\n",
    "    bias = results_var[i,0]\n",
    "    coef = results_var[i,1]\n",
    "    \n",
    "    for j in range(0, 31):\n",
    "        \n",
    "        s[i,j] = (bias + coef * (j+1))**0.5\n",
    "\n",
    "s = pd.DataFrame(s)\n",
    "s\n",
    "\n",
    "s.to_excel('region_2_s.xlsx', index = False, header = None)"
   ]
  },
  {
   "cell_type": "code",
   "execution_count": 11,
   "id": "99d5eeba",
   "metadata": {},
   "outputs": [
    {
     "name": "stdout",
     "output_type": "stream",
     "text": [
      "[[56.47810484 56.16657742 55.85505    ... 47.7553371  47.44380968\n",
      "  47.13228226]\n",
      " [43.46588306 44.2834629  45.10104274 ... 66.35811855 67.17569839\n",
      "  67.99327823]\n",
      " [57.66135282 57.36882177 57.07629073 ... 49.47048347 49.17795242\n",
      "  48.88542137]\n",
      " ...\n",
      " [56.98816129 57.64730968 58.30645806 ... 75.44431613 76.10346452\n",
      "  76.7626129 ]\n",
      " [77.64445968 76.53147419 75.41848871 ... 46.48086613 45.36788065\n",
      "  44.25489516]\n",
      " [72.57554435 72.48801129 72.40047823 ... 70.12461855 70.03708548\n",
      "  69.94955242]]\n"
     ]
    }
   ],
   "source": [
    "eta_t = np.empty([747, 31])\n",
    "\n",
    "for i in range(0, 747):\n",
    "    b = result_df[i,0]\n",
    "    \n",
    "    coeff = result_df[i,1]\n",
    "    \n",
    "    for j in range(0, 31):\n",
    "        \n",
    "        eta_t[i,j] = b + coeff * (j+1)\n",
    "    \n",
    "    \n",
    "print(eta_t)\n",
    "\n",
    "eta_t = pd.DataFrame(eta_t)\n",
    "eta_t.to_excel('eta_t.xlsx', index = None, header = None)"
   ]
  },
  {
   "cell_type": "code",
   "execution_count": 12,
   "id": "44039076",
   "metadata": {},
   "outputs": [],
   "source": [
    "s = np.array(s)\n",
    "eta_t = np.array(eta_t)"
   ]
  },
  {
   "cell_type": "code",
   "execution_count": 13,
   "id": "70719857",
   "metadata": {},
   "outputs": [
    {
     "name": "stdout",
     "output_type": "stream",
     "text": [
      "[[ 1.60364843  0.77741579  0.37869199 ... -1.05296758  1.81817963\n",
      "  -0.64033662]\n",
      " [ 0.39919231 -0.68453042  0.84329931 ... -1.56907225  1.26828159\n",
      "  -0.27796079]\n",
      " [ 0.76574354 -0.88382701  0.53478168 ... -0.15813537 -1.04316128\n",
      "   0.23015204]\n",
      " ...\n",
      " [ 0.02724504 -0.47308139 -0.6589054  ...  0.99284369  1.045519\n",
      "  -1.0366406 ]\n",
      " [ 1.29011078 -0.46144689 -0.84396603 ...  2.81432623  0.2885424\n",
      "  -0.49290021]\n",
      " [ 2.11351057 -0.65181959 -1.07622787 ... -0.19276286 -0.49482413\n",
      "  -0.75254284]]\n"
     ]
    }
   ],
   "source": [
    "norm = np.empty([747, 31])\n",
    "\n",
    "for i in range(0, 747):\n",
    "    b = result_df[i,0]\n",
    "    \n",
    "    coeff = result_df[i,1]\n",
    "    \n",
    "    for j in range(0, 31):\n",
    "        \n",
    "        norm[i,j] = (data[i,j] - eta_t[i,j])/s[i,j]\n",
    "    \n",
    "    \n",
    "print(norm)\n",
    "\n",
    "norm = pd.DataFrame(norm)\n",
    "norm.to_excel('norm_region2.xlsx', index = None, header = None)"
   ]
  },
  {
   "cell_type": "code",
   "execution_count": 15,
   "id": "c6dbbfac",
   "metadata": {},
   "outputs": [],
   "source": [
    "region_2_basin = pd.read_csv('region2_basin.csv')\n",
    "rows_to_extract = np.array(region_2_basin[\"id\"])"
   ]
  },
  {
   "cell_type": "code",
   "execution_count": 16,
   "id": "ed7cb6df",
   "metadata": {},
   "outputs": [],
   "source": [
    "qt = 12.72\n",
    "\n",
    "Q_t = np.empty([113, 31])\n",
    "for i in range(113):\n",
    "    for j in range(31):\n",
    "        \n",
    "        Q_t[i, j] = eta_t[rows_to_extract[i]-1, j] + s[rows_to_extract[i]-1, j] * qt\n",
    "    "
   ]
  },
  {
   "cell_type": "code",
   "execution_count": 17,
   "id": "27650fa8",
   "metadata": {},
   "outputs": [],
   "source": [
    "Q_t = pd.DataFrame(Q_t)\n",
    "Q_t.to_excel(\"Quantile_Estimate_region_2.xlsx\", index = None, header = None)"
   ]
  },
  {
   "cell_type": "code",
   "execution_count": null,
   "id": "6733e0be",
   "metadata": {},
   "outputs": [],
   "source": []
  }
 ],
 "metadata": {
  "kernelspec": {
   "display_name": "Python 3 (ipykernel)",
   "language": "python",
   "name": "python3"
  },
  "language_info": {
   "codemirror_mode": {
    "name": "ipython",
    "version": 3
   },
   "file_extension": ".py",
   "mimetype": "text/x-python",
   "name": "python",
   "nbconvert_exporter": "python",
   "pygments_lexer": "ipython3",
   "version": "3.9.13"
  }
 },
 "nbformat": 4,
 "nbformat_minor": 5
}
