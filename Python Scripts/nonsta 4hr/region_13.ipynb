{
 "cells": [
  {
   "cell_type": "code",
   "execution_count": 1,
   "id": "bb60bf3c",
   "metadata": {},
   "outputs": [
    {
     "name": "stdout",
     "output_type": "stream",
     "text": [
      "              I         C\n",
      "0     73.103355  1.138657\n",
      "1     93.994716 -0.728416\n",
      "2     86.582445 -0.256548\n",
      "3     92.759168 -0.412390\n",
      "4     90.134852 -0.520743\n",
      "...         ...       ...\n",
      "2184  68.679058 -0.836677\n",
      "2185  65.222555 -0.116992\n",
      "2186  86.229477 -0.983459\n",
      "2187  22.250742 -0.092913\n",
      "2188  23.258948  0.076495\n",
      "\n",
      "[2189 rows x 2 columns]\n"
     ]
    }
   ],
   "source": [
    "import numpy as np\n",
    "import pandas as pd\n",
    "\n",
    "# Load the numpy array\n",
    "x = np.arange(1, 32)\n",
    "\n",
    "# Load the CSV file\n",
    "data = pd.read_csv('region13_hom2.csv', header = None)\n",
    "\n",
    "# Initialize empty lists to store intercept and coefficient values\n",
    "intercepts = []\n",
    "coefficients = []\n",
    "\n",
    "# Iterate over each row in the CSV file\n",
    "for i in range(len(data)):\n",
    "    row = data.iloc[i, :]\n",
    "    y = np.array(row)\n",
    "    A = np.vstack([x, np.ones(len(x))]).T\n",
    "\n",
    "    # Perform least squares regression\n",
    "    coeffs, residuals, _, _ = np.linalg.lstsq(A, y, rcond=None)\n",
    "\n",
    "    # Append intercept and coefficient values\n",
    "    intercepts.append(coeffs[1])\n",
    "    coefficients.append(coeffs[0])\n",
    "\n",
    "# Create a dataframe from intercepts and coefficients\n",
    "result_df = pd.DataFrame({'I': intercepts, 'C': coefficients})\n",
    "\n",
    "# Display the resulting dataframe\n",
    "print(result_df)\n",
    "\n",
    "result_df.to_excel('region_13_coefficients.xlsx', index = False, header = None)\n",
    "\n"
   ]
  },
  {
   "cell_type": "code",
   "execution_count": 2,
   "id": "bf14dff6",
   "metadata": {},
   "outputs": [],
   "source": [
    "data = np.array(data)"
   ]
  },
  {
   "cell_type": "code",
   "execution_count": 3,
   "id": "5baff2e4",
   "metadata": {},
   "outputs": [],
   "source": [
    "result_df = np.array(result_df)"
   ]
  },
  {
   "cell_type": "code",
   "execution_count": 4,
   "id": "03a3c849",
   "metadata": {},
   "outputs": [
    {
     "data": {
      "text/plain": [
       "73.10335483870969"
      ]
     },
     "execution_count": 4,
     "metadata": {},
     "output_type": "execute_result"
    }
   ],
   "source": [
    "b = result_df[0,0]\n",
    "b"
   ]
  },
  {
   "cell_type": "code",
   "execution_count": 5,
   "id": "d96b8648",
   "metadata": {},
   "outputs": [
    {
     "name": "stdout",
     "output_type": "stream",
     "text": [
      "[[ 46.9479879   -5.58366935 -17.34732661 ...  -0.95441532 -22.49707258\n",
      "   77.84827016]\n",
      " [ 20.5336996  -31.50688468 -51.02846895 ... -21.16766008  -1.92324435\n",
      "  -15.33582863]\n",
      " [-35.24789718  13.28965081 -46.00080121 ... -15.67355363  -3.12000565\n",
      "  -23.47345766]\n",
      " ...\n",
      " [  1.37098185   6.14344113   5.2829004  ... -26.03715847  67.25430081\n",
      "   -9.66423992]\n",
      " [  0.35817137  -1.38491532  -4.73000202 ...  -7.48625605  17.76365726\n",
      "   -2.02642944]\n",
      " [ -1.30444355  -1.60693871  -6.45743387 ...  -3.69630806 -11.20980323\n",
      "   14.08870161]]\n"
     ]
    }
   ],
   "source": [
    "e_t = np.empty([2189, 31])\n",
    "\n",
    "for i in range(0, 2189):\n",
    "    b = result_df[i,0]\n",
    "    \n",
    "    coeff = result_df[i,1]\n",
    "    \n",
    "    for j in range(0, 31):\n",
    "        \n",
    "        e_t[i,j] = data[i,j] - b - coeff * (j+1)\n",
    "    \n",
    "    \n",
    "print(e_t)\n",
    "\n",
    "e_t = pd.DataFrame(e_t)\n",
    "e_t.to_excel('e_t.xlsx', index = None, header = None)"
   ]
  },
  {
   "cell_type": "code",
   "execution_count": 6,
   "id": "d038d22f",
   "metadata": {},
   "outputs": [
    {
     "data": {
      "text/plain": [
       "(2189, 31)"
      ]
     },
     "execution_count": 6,
     "metadata": {},
     "output_type": "execute_result"
    }
   ],
   "source": [
    "e_t.shape"
   ]
  },
  {
   "cell_type": "code",
   "execution_count": 7,
   "id": "f39df6ca",
   "metadata": {},
   "outputs": [
    {
     "name": "stdout",
     "output_type": "stream",
     "text": [
      "                I          C\n",
      "0      992.952234  13.135889\n",
      "1     2514.342116 -60.246861\n",
      "2     2036.251583 -25.635019\n",
      "3     2195.341162 -32.008836\n",
      "4     1569.771862   5.633001\n",
      "...           ...        ...\n",
      "2184   906.262516 -27.513559\n",
      "2185   413.422698  23.929070\n",
      "2186  2549.587579 -46.684500\n",
      "2187    30.511621   0.530763\n",
      "2188    38.804872   2.443911\n",
      "\n",
      "[2189 rows x 2 columns]\n"
     ]
    }
   ],
   "source": [
    "import numpy as np\n",
    "import pandas as pd\n",
    "\n",
    "# Load the numpy array\n",
    "x = np.arange(1, 32)\n",
    "\n",
    "# Load the CSV file\n",
    "e_t = pd.read_excel('e_t.xlsx', header = None)\n",
    "\n",
    "# Initialize empty lists to store intercept and coefficient values\n",
    "intercepts_var = []\n",
    "coefficients_var = []\n",
    "\n",
    "# Iterate over each row in the CSV file\n",
    "for i in range(len(data)):\n",
    "    row = e_t.iloc[i, :]\n",
    "    y = np.array(row)**2\n",
    "    A = np.vstack([x, np.ones(len(x))]).T\n",
    "\n",
    "    # Perform least squares regression\n",
    "    coeffs, residuals, _, _ = np.linalg.lstsq(A, y, rcond=None)\n",
    "\n",
    "    # Append intercept and coefficient values\n",
    "    intercepts_var.append(coeffs[1])\n",
    "    coefficients_var.append(coeffs[0])\n",
    "\n",
    "# Create a dataframe from intercepts and coefficients\n",
    "result_df_var = pd.DataFrame({'I': intercepts_var, 'C': coefficients_var})\n",
    "\n",
    "# Display the resulting dataframe\n",
    "print(result_df_var)\n",
    "\n",
    "result_df_var.to_excel('region_13_coefficients_variance.xlsx', index = False, header = None)\n",
    "\n"
   ]
  },
  {
   "cell_type": "code",
   "execution_count": 8,
   "id": "cc0d7e91",
   "metadata": {},
   "outputs": [
    {
     "name": "stderr",
     "output_type": "stream",
     "text": [
      "C:\\Users\\User\\AppData\\Local\\Temp\\ipykernel_8356\\4248693727.py:11: RuntimeWarning: invalid value encountered in double_scalars\n",
      "  s[i,j] = (bias + coef * (j+1))**0.5\n"
     ]
    }
   ],
   "source": [
    "results_var = np.array(pd.read_excel('region_13_coefficients_variance.xlsx', header = None))\n",
    "\n",
    "s = np.empty([2189, 31])\n",
    "\n",
    "for i in range(0, 2189):\n",
    "    bias = results_var[i,0]\n",
    "    coef = results_var[i,1]\n",
    "    \n",
    "    for j in range(0, 31):\n",
    "        \n",
    "        s[i,j] = (bias + coef * (j+1))**0.5\n",
    "\n",
    "s = pd.DataFrame(s)\n",
    "s\n",
    "\n",
    "s.to_excel('region_13_s.xlsx', index = False, header = None)"
   ]
  },
  {
   "cell_type": "code",
   "execution_count": 10,
   "id": "99d5eeba",
   "metadata": {},
   "outputs": [
    {
     "name": "stdout",
     "output_type": "stream",
     "text": [
      "[[ 74.2420121   75.38066935  76.51932661 ... 106.12441532 107.26307258\n",
      "  108.40172984]\n",
      " [ 93.2663004   92.53788468  91.80946895 ...  72.87066008  72.14224435\n",
      "   71.41382863]\n",
      " [ 86.32589718  86.06934919  85.81280121 ...  79.14255363  78.88600565\n",
      "   78.62945766]\n",
      " ...\n",
      " [ 85.24601815  84.26255887  83.2790996  ...  57.70915847  56.72569919\n",
      "   55.74223992]\n",
      " [ 22.15782863  22.06491532  21.97200202 ...  19.55625605  19.46334274\n",
      "   19.37042944]\n",
      " [ 23.33544355  23.41193871  23.48843387 ...  25.47730806  25.55380323\n",
      "   25.63029839]]\n"
     ]
    }
   ],
   "source": [
    "eta_t = np.empty([2189, 31])\n",
    "\n",
    "for i in range(0, 2189):\n",
    "    b = result_df[i,0]\n",
    "    \n",
    "    coeff = result_df[i,1]\n",
    "    \n",
    "    for j in range(0, 31):\n",
    "        \n",
    "        eta_t[i,j] = b + coeff * (j+1)\n",
    "    \n",
    "    \n",
    "print(eta_t)\n",
    "\n",
    "eta_t = pd.DataFrame(eta_t)\n",
    "eta_t.to_excel('eta_t.xlsx', index = None, header = None)"
   ]
  },
  {
   "cell_type": "code",
   "execution_count": 11,
   "id": "44039076",
   "metadata": {},
   "outputs": [],
   "source": [
    "s = np.array(s)\n",
    "eta_t = np.array(eta_t)"
   ]
  },
  {
   "cell_type": "code",
   "execution_count": 12,
   "id": "70719857",
   "metadata": {},
   "outputs": [
    {
     "name": "stdout",
     "output_type": "stream",
     "text": [
      "[[ 1.48012697 -0.17489801 -0.53990456 ... -0.02574903 -0.60406441\n",
      "   2.08046009]\n",
      " [ 0.4144971  -0.64395741 -1.05632896 ... -0.76422866 -0.07233431\n",
      "  -0.60305839]\n",
      " [-0.78608333  0.29828769 -1.03922544 ... -0.43590891 -0.08764611\n",
      "  -0.66618088]\n",
      " ...\n",
      " [ 0.02740373  0.12395904  0.1076232  ... -0.75296664  1.98403857\n",
      "  -0.29107465]\n",
      " [ 0.06428555 -0.24647013 -0.83479985 ... -1.10494486  2.60682543\n",
      "  -0.29569437]\n",
      " [-0.20310458 -0.24310556 -0.95068611 ... -0.35294563 -1.05864943\n",
      "   1.31626359]]\n"
     ]
    }
   ],
   "source": [
    "norm = np.empty([2189, 31])\n",
    "\n",
    "for i in range(0, 2189):\n",
    "    b = result_df[i,0]\n",
    "    \n",
    "    coeff = result_df[i,1]\n",
    "    \n",
    "    for j in range(0, 31):\n",
    "        \n",
    "        norm[i,j] = (data[i,j] - eta_t[i,j])/s[i,j]\n",
    "    \n",
    "    \n",
    "print(norm)\n",
    "\n",
    "norm = pd.DataFrame(norm)\n",
    "norm.to_excel('norm_region13.xlsx', index = None, header = None)"
   ]
  },
  {
   "cell_type": "code",
   "execution_count": 13,
   "id": "c6dbbfac",
   "metadata": {},
   "outputs": [],
   "source": [
    "region_13_basin = pd.read_csv('region13_basin.csv')\n",
    "rows_to_extract = np.array(region_13_basin[\"id\"])"
   ]
  },
  {
   "cell_type": "code",
   "execution_count": 14,
   "id": "ed7cb6df",
   "metadata": {},
   "outputs": [],
   "source": [
    "qt = 9.605\n",
    "\n",
    "Q_t = np.empty([180, 31])\n",
    "for i in range(180):\n",
    "    for j in range(31):\n",
    "        \n",
    "        Q_t[i, j] = eta_t[rows_to_extract[i]-1, j] + s[rows_to_extract[i]-1, j] * qt\n",
    "    "
   ]
  },
  {
   "cell_type": "code",
   "execution_count": 15,
   "id": "27650fa8",
   "metadata": {},
   "outputs": [],
   "source": [
    "Q_t = pd.DataFrame(Q_t)\n",
    "Q_t.to_excel(\"Quantile_Estimate_region_13.xlsx\", index = None, header = None)"
   ]
  },
  {
   "cell_type": "code",
   "execution_count": null,
   "id": "6733e0be",
   "metadata": {},
   "outputs": [],
   "source": []
  }
 ],
 "metadata": {
  "kernelspec": {
   "display_name": "Python 3 (ipykernel)",
   "language": "python",
   "name": "python3"
  },
  "language_info": {
   "codemirror_mode": {
    "name": "ipython",
    "version": 3
   },
   "file_extension": ".py",
   "mimetype": "text/x-python",
   "name": "python",
   "nbconvert_exporter": "python",
   "pygments_lexer": "ipython3",
   "version": "3.9.13"
  }
 },
 "nbformat": 4,
 "nbformat_minor": 5
}
