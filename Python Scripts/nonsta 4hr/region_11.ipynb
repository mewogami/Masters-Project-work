{
 "cells": [
  {
   "cell_type": "code",
   "execution_count": 1,
   "id": "bb60bf3c",
   "metadata": {},
   "outputs": [
    {
     "name": "stdout",
     "output_type": "stream",
     "text": [
      "             I         C\n",
      "0    33.075523  0.363869\n",
      "1    32.919690  0.186109\n",
      "2    40.878019  1.521793\n",
      "3    48.469355  0.273948\n",
      "4    47.967123  1.392692\n",
      "..         ...       ...\n",
      "454  77.356200 -1.412984\n",
      "455  43.253297 -0.112833\n",
      "456  52.532174  0.047421\n",
      "457  61.932729 -0.373477\n",
      "458  58.192245 -0.216364\n",
      "\n",
      "[459 rows x 2 columns]\n"
     ]
    }
   ],
   "source": [
    "import numpy as np\n",
    "import pandas as pd\n",
    "\n",
    "# Load the numpy array\n",
    "x = np.arange(1, 32)\n",
    "\n",
    "# Load the CSV file\n",
    "data = pd.read_csv('region11_hom2.csv', header = None)\n",
    "\n",
    "# Initialize empty lists to store intercept and coefficient values\n",
    "intercepts = []\n",
    "coefficients = []\n",
    "\n",
    "# Iterate over each row in the CSV file\n",
    "for i in range(len(data)):\n",
    "    row = data.iloc[i, :]\n",
    "    y = np.array(row)\n",
    "    A = np.vstack([x, np.ones(len(x))]).T\n",
    "\n",
    "    # Perform least squares regression\n",
    "    coeffs, residuals, _, _ = np.linalg.lstsq(A, y, rcond=None)\n",
    "\n",
    "    # Append intercept and coefficient values\n",
    "    intercepts.append(coeffs[1])\n",
    "    coefficients.append(coeffs[0])\n",
    "\n",
    "# Create a dataframe from intercepts and coefficients\n",
    "result_df = pd.DataFrame({'I': intercepts, 'C': coefficients})\n",
    "\n",
    "# Display the resulting dataframe\n",
    "print(result_df)\n",
    "\n",
    "result_df.to_excel('region_11_coefficients.xlsx', index = False, header = None)\n",
    "\n"
   ]
  },
  {
   "cell_type": "code",
   "execution_count": 2,
   "id": "bf14dff6",
   "metadata": {},
   "outputs": [],
   "source": [
    "data = np.array(data)"
   ]
  },
  {
   "cell_type": "code",
   "execution_count": 3,
   "id": "5baff2e4",
   "metadata": {},
   "outputs": [],
   "source": [
    "result_df = np.array(result_df)"
   ]
  },
  {
   "cell_type": "code",
   "execution_count": 4,
   "id": "03a3c849",
   "metadata": {},
   "outputs": [
    {
     "data": {
      "text/plain": [
       "33.07552258064518"
      ]
     },
     "execution_count": 4,
     "metadata": {},
     "output_type": "execute_result"
    }
   ],
   "source": [
    "b = result_df[0,0]\n",
    "b"
   ]
  },
  {
   "cell_type": "code",
   "execution_count": 5,
   "id": "d96b8648",
   "metadata": {},
   "outputs": [
    {
     "name": "stdout",
     "output_type": "stream",
     "text": [
      "[[ -9.95539194 -26.42826129  -4.79213065 ... -24.00273387 -10.05360323\n",
      "    9.57452742]\n",
      " [ 33.86320081 -10.77590806  -3.69701694 ... -23.87884758   9.77804355\n",
      "  -22.48606532]\n",
      " [ -4.4778125   73.35839435   5.66560121 ... -12.27602056  46.80818629\n",
      "   24.86639315]\n",
      " ...\n",
      " [-20.79859476 -12.22101532 -14.69043589 ...   1.18662944 -18.87679113\n",
      "   -9.25221169]\n",
      " [-38.21525202   6.150225   -34.32829798 ...  27.47610444 -15.88441855\n",
      "   -4.74594153]\n",
      " [ 20.71211895  26.42848306 -13.79315282 ...  -2.29268589  -6.59232177\n",
      "  -21.15695766]]\n"
     ]
    }
   ],
   "source": [
    "e_t = np.empty([459, 31])\n",
    "\n",
    "for i in range(0, 459):\n",
    "    b = result_df[i,0]\n",
    "    \n",
    "    coeff = result_df[i,1]\n",
    "    \n",
    "    for j in range(0, 31):\n",
    "        \n",
    "        e_t[i,j] = data[i,j] - b - coeff * (j+1)\n",
    "    \n",
    "    \n",
    "print(e_t)\n",
    "\n",
    "e_t = pd.DataFrame(e_t)\n",
    "e_t.to_excel('e_t.xlsx', index = None, header = None)"
   ]
  },
  {
   "cell_type": "code",
   "execution_count": 6,
   "id": "d038d22f",
   "metadata": {},
   "outputs": [
    {
     "data": {
      "text/plain": [
       "(459, 31)"
      ]
     },
     "execution_count": 6,
     "metadata": {},
     "output_type": "execute_result"
    }
   ],
   "source": [
    "e_t.shape"
   ]
  },
  {
   "cell_type": "code",
   "execution_count": 7,
   "id": "f39df6ca",
   "metadata": {},
   "outputs": [
    {
     "name": "stdout",
     "output_type": "stream",
     "text": [
      "               I           C\n",
      "0     644.612123  -11.416630\n",
      "1     346.892948   -0.804144\n",
      "2    1114.015949   18.228208\n",
      "3     600.588803   12.287919\n",
      "4    1108.019557   33.157606\n",
      "..           ...         ...\n",
      "454  3177.773186 -111.674962\n",
      "455   611.738104  -10.964836\n",
      "456  1477.887441  -28.094568\n",
      "457  3104.635700  -92.628128\n",
      "458   280.886004   61.676909\n",
      "\n",
      "[459 rows x 2 columns]\n"
     ]
    }
   ],
   "source": [
    "import numpy as np\n",
    "import pandas as pd\n",
    "\n",
    "# Load the numpy array\n",
    "x = np.arange(1, 32)\n",
    "\n",
    "# Load the CSV file\n",
    "e_t = pd.read_excel('e_t.xlsx', header = None)\n",
    "\n",
    "# Initialize empty lists to store intercept and coefficient values\n",
    "intercepts_var = []\n",
    "coefficients_var = []\n",
    "\n",
    "# Iterate over each row in the CSV file\n",
    "for i in range(len(data)):\n",
    "    row = e_t.iloc[i, :]\n",
    "    y = np.array(row)**2\n",
    "    A = np.vstack([x, np.ones(len(x))]).T\n",
    "\n",
    "    # Perform least squares regression\n",
    "    coeffs, residuals, _, _ = np.linalg.lstsq(A, y, rcond=None)\n",
    "\n",
    "    # Append intercept and coefficient values\n",
    "    intercepts_var.append(coeffs[1])\n",
    "    coefficients_var.append(coeffs[0])\n",
    "\n",
    "# Create a dataframe from intercepts and coefficients\n",
    "result_df_var = pd.DataFrame({'I': intercepts_var, 'C': coefficients_var})\n",
    "\n",
    "# Display the resulting dataframe\n",
    "print(result_df_var)\n",
    "\n",
    "result_df_var.to_excel('region_11_coefficients_variance.xlsx', index = False, header = None)\n",
    "\n"
   ]
  },
  {
   "cell_type": "code",
   "execution_count": 8,
   "id": "cc0d7e91",
   "metadata": {},
   "outputs": [
    {
     "name": "stderr",
     "output_type": "stream",
     "text": [
      "C:\\Users\\User\\AppData\\Local\\Temp\\ipykernel_3888\\3835552158.py:11: RuntimeWarning: invalid value encountered in double_scalars\n",
      "  s[i,j] = (bias + coef * (j+1))**0.5\n"
     ]
    }
   ],
   "source": [
    "results_var = np.array(pd.read_excel('region_11_coefficients_variance.xlsx', header = None))\n",
    "\n",
    "s = np.empty([459, 31])\n",
    "\n",
    "for i in range(0, 459):\n",
    "    bias = results_var[i,0]\n",
    "    coef = results_var[i,1]\n",
    "    \n",
    "    for j in range(0, 31):\n",
    "        \n",
    "        s[i,j] = (bias + coef * (j+1))**0.5\n",
    "\n",
    "s = pd.DataFrame(s)\n",
    "s\n",
    "\n",
    "s.to_excel('region_11_s.xlsx', index = False, header = None)"
   ]
  },
  {
   "cell_type": "code",
   "execution_count": 9,
   "id": "99d5eeba",
   "metadata": {},
   "outputs": [
    {
     "name": "stdout",
     "output_type": "stream",
     "text": [
      "[[33.43939194 33.80326129 34.16713065 ... 43.62773387 43.99160323\n",
      "  44.35547258]\n",
      " [33.10579919 33.29190806 33.47801694 ... 38.31684758 38.50295645\n",
      "  38.68906532]\n",
      " [42.3998125  43.92160565 45.44339879 ... 85.01002056 86.53181371\n",
      "  88.05360685]\n",
      " ...\n",
      " [52.57959476 52.62701532 52.67443589 ... 53.90737056 53.95479113\n",
      "  54.00221169]\n",
      " [61.55925202 61.185775   60.81229798 ... 51.10189556 50.72841855\n",
      "  50.35494153]\n",
      " [57.97588105 57.75951694 57.54315282 ... 51.91768589 51.70132177\n",
      "  51.48495766]]\n"
     ]
    }
   ],
   "source": [
    "eta_t = np.empty([459, 31])\n",
    "\n",
    "for i in range(0, 459):\n",
    "    b = result_df[i,0]\n",
    "    \n",
    "    coeff = result_df[i,1]\n",
    "    \n",
    "    for j in range(0, 31):\n",
    "        \n",
    "        eta_t[i,j] = b + coeff * (j+1)\n",
    "    \n",
    "    \n",
    "print(eta_t)\n",
    "\n",
    "eta_t = pd.DataFrame(eta_t)\n",
    "eta_t.to_excel('eta_t.xlsx', index = None, header = None)"
   ]
  },
  {
   "cell_type": "code",
   "execution_count": 10,
   "id": "44039076",
   "metadata": {},
   "outputs": [],
   "source": [
    "s = np.array(s)\n",
    "eta_t = np.array(eta_t)"
   ]
  },
  {
   "cell_type": "code",
   "execution_count": 11,
   "id": "70719857",
   "metadata": {},
   "outputs": [
    {
     "name": "stdout",
     "output_type": "stream",
     "text": [
      "[[-0.39563022 -1.05986516 -0.19397011 ... -1.35556785 -0.57841144\n",
      "   0.56156156]\n",
      " [ 1.82026337 -0.57991619 -0.19919072 ... -1.32747812  0.54425985\n",
      "  -1.25316852]\n",
      " [-0.13307481  2.1627769   0.16572742 ... -0.30289158  1.14856351\n",
      "   0.60684217]\n",
      " ...\n",
      " [-0.54623687 -0.32411831 -0.39351839 ...  0.04607983 -0.74907287\n",
      "  -0.37554935]\n",
      " [-0.69631973  0.11382712 -0.64566682 ...  1.34322554 -0.88003754\n",
      "  -0.31080777]\n",
      " [ 1.11906255  1.31447609 -0.63901256 ... -0.05039763 -0.1427996\n",
      "  -0.45180055]]\n"
     ]
    }
   ],
   "source": [
    "norm = np.empty([459, 31])\n",
    "\n",
    "for i in range(0, 459):\n",
    "    b = result_df[i,0]\n",
    "    \n",
    "    coeff = result_df[i,1]\n",
    "    \n",
    "    for j in range(0, 31):\n",
    "        \n",
    "        norm[i,j] = (data[i,j] - eta_t[i,j])/s[i,j]\n",
    "    \n",
    "    \n",
    "print(norm)\n",
    "\n",
    "norm = pd.DataFrame(norm)\n",
    "norm.to_excel('norm_region11.xlsx', index = None, header = None)"
   ]
  },
  {
   "cell_type": "code",
   "execution_count": 12,
   "id": "c6dbbfac",
   "metadata": {},
   "outputs": [],
   "source": [
    "region_11_basin = pd.read_csv('region11_basin.csv')\n",
    "rows_to_extract = np.array(region_11_basin[\"id\"])"
   ]
  },
  {
   "cell_type": "code",
   "execution_count": 13,
   "id": "ed7cb6df",
   "metadata": {},
   "outputs": [],
   "source": [
    "qt = 17.44\n",
    "\n",
    "Q_t = np.empty([80, 31])\n",
    "for i in range(80):\n",
    "    for j in range(31):\n",
    "        \n",
    "        Q_t[i, j] = eta_t[rows_to_extract[i]-1, j] + s[rows_to_extract[i]-1, j] * qt\n",
    "    "
   ]
  },
  {
   "cell_type": "code",
   "execution_count": 14,
   "id": "27650fa8",
   "metadata": {},
   "outputs": [],
   "source": [
    "Q_t = pd.DataFrame(Q_t)\n",
    "Q_t.to_excel(\"Quantile_Estimate_region_11.xlsx\", index = None, header = None)"
   ]
  },
  {
   "cell_type": "code",
   "execution_count": null,
   "id": "6733e0be",
   "metadata": {},
   "outputs": [],
   "source": []
  }
 ],
 "metadata": {
  "kernelspec": {
   "display_name": "Python 3 (ipykernel)",
   "language": "python",
   "name": "python3"
  },
  "language_info": {
   "codemirror_mode": {
    "name": "ipython",
    "version": 3
   },
   "file_extension": ".py",
   "mimetype": "text/x-python",
   "name": "python",
   "nbconvert_exporter": "python",
   "pygments_lexer": "ipython3",
   "version": "3.9.13"
  }
 },
 "nbformat": 4,
 "nbformat_minor": 5
}
