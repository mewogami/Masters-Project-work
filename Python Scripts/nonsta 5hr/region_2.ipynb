{
 "cells": [
  {
   "cell_type": "code",
   "execution_count": 2,
   "id": "bb60bf3c",
   "metadata": {},
   "outputs": [
    {
     "name": "stdout",
     "output_type": "stream",
     "text": [
      "               I         C\n",
      "0      40.022059  0.306612\n",
      "1      47.874671  0.161899\n",
      "2      38.100174  1.198987\n",
      "3      62.420142 -0.311791\n",
      "4      44.680755  1.959546\n",
      "...          ...       ...\n",
      "1223  103.765503 -1.384263\n",
      "1224   59.683394  1.445332\n",
      "1225   57.342877  1.249625\n",
      "1226   55.987510  1.234154\n",
      "1227   91.497413 -0.463205\n",
      "\n",
      "[1228 rows x 2 columns]\n"
     ]
    }
   ],
   "source": [
    "import numpy as np\n",
    "import pandas as pd\n",
    "\n",
    "# Load the numpy array\n",
    "x = np.arange(1, 32)\n",
    "\n",
    "# Load the CSV file\n",
    "data = pd.read_csv('region3_hom2.csv', header = None)\n",
    "\n",
    "# Initialize empty lists to store intercept and coefficient values\n",
    "intercepts = []\n",
    "coefficients = []\n",
    "\n",
    "# Iterate over each row in the CSV file\n",
    "for i in range(len(data)):\n",
    "    row = data.iloc[i, :]\n",
    "    y = np.array(row)\n",
    "    A = np.vstack([x, np.ones(len(x))]).T\n",
    "\n",
    "    # Perform least squares regression\n",
    "    coeffs, residuals, _, _ = np.linalg.lstsq(A, y, rcond=None)\n",
    "\n",
    "    # Append intercept and coefficient values\n",
    "    intercepts.append(coeffs[1])\n",
    "    coefficients.append(coeffs[0])\n",
    "\n",
    "# Create a dataframe from intercepts and coefficients\n",
    "result_df = pd.DataFrame({'I': intercepts, 'C': coefficients})\n",
    "\n",
    "# Display the resulting dataframe\n",
    "print(result_df)\n",
    "\n",
    "result_df.to_excel('region_3_coefficients.xlsx', index = False, header = None)\n",
    "\n"
   ]
  },
  {
   "cell_type": "code",
   "execution_count": 3,
   "id": "bf14dff6",
   "metadata": {},
   "outputs": [],
   "source": [
    "data = np.array(data)"
   ]
  },
  {
   "cell_type": "code",
   "execution_count": 4,
   "id": "5baff2e4",
   "metadata": {},
   "outputs": [],
   "source": [
    "result_df = np.array(result_df)"
   ]
  },
  {
   "cell_type": "code",
   "execution_count": 5,
   "id": "03a3c849",
   "metadata": {},
   "outputs": [
    {
     "data": {
      "text/plain": [
       "40.02205935483873"
      ]
     },
     "execution_count": 5,
     "metadata": {},
     "output_type": "execute_result"
    }
   ],
   "source": [
    "b = result_df[0,0]\n",
    "b"
   ]
  },
  {
   "cell_type": "code",
   "execution_count": 6,
   "id": "d96b8648",
   "metadata": {},
   "outputs": [
    {
     "name": "stdout",
     "output_type": "stream",
     "text": [
      "[[-10.85167177 -32.66648419   3.66710339 ... -24.60181952  -4.11143194\n",
      "    9.51195565]\n",
      " [ 33.46342984 -28.29246935 -24.51636855 ... -20.16374758 -31.54364677\n",
      "   12.16145403]\n",
      " [  8.21683871  -5.32614839  10.36486452 ...  17.9492      30.5202129\n",
      "  -51.44077419]\n",
      " ...\n",
      " [ 46.57749798 -41.60812661   1.14224879 ... -36.37899073   8.32838468\n",
      "  180.57876008]\n",
      " [ -7.00266331 -37.26781694   0.27902944 ... -18.54396492 -39.07411855\n",
      "   78.69372782]\n",
      " [-19.67520766 115.01899758 -39.99879718 ... 110.48553911 -23.22625565\n",
      "   -1.7320504 ]]\n"
     ]
    }
   ],
   "source": [
    "e_t = np.empty([1228, 31])\n",
    "\n",
    "for i in range(0, 1228):\n",
    "    b = result_df[i,0]\n",
    "    \n",
    "    coeff = result_df[i,1]\n",
    "    \n",
    "    for j in range(0, 31):\n",
    "        \n",
    "        e_t[i,j] = data[i,j] - b - coeff * (j+1)\n",
    "    \n",
    "    \n",
    "print(e_t)\n",
    "\n",
    "e_t = pd.DataFrame(e_t)\n",
    "e_t.to_excel('e_t.xlsx', index = None, header = None)"
   ]
  },
  {
   "cell_type": "code",
   "execution_count": 7,
   "id": "d038d22f",
   "metadata": {},
   "outputs": [
    {
     "data": {
      "text/plain": [
       "(1228, 31)"
      ]
     },
     "execution_count": 7,
     "metadata": {},
     "output_type": "execute_result"
    }
   ],
   "source": [
    "e_t.shape"
   ]
  },
  {
   "cell_type": "code",
   "execution_count": 8,
   "id": "f39df6ca",
   "metadata": {},
   "outputs": [
    {
     "name": "stdout",
     "output_type": "stream",
     "text": [
      "                I           C\n",
      "0      875.243688  -17.889865\n",
      "1     1085.749855  -27.669606\n",
      "2      743.308751   17.146083\n",
      "3     1086.077507   -8.397871\n",
      "4     1398.240485   31.088798\n",
      "...           ...         ...\n",
      "1223  5397.008378 -176.314078\n",
      "1224 -1425.058335  303.498104\n",
      "1225   659.947771  124.198561\n",
      "1226   612.478469   94.761539\n",
      "1227  4904.862649 -120.825269\n",
      "\n",
      "[1228 rows x 2 columns]\n"
     ]
    }
   ],
   "source": [
    "import numpy as np\n",
    "import pandas as pd\n",
    "\n",
    "# Load the numpy array\n",
    "x = np.arange(1, 32)\n",
    "\n",
    "# Load the CSV file\n",
    "e_t = pd.read_excel('e_t.xlsx', header = None)\n",
    "\n",
    "# Initialize empty lists to store intercept and coefficient values\n",
    "intercepts_var = []\n",
    "coefficients_var = []\n",
    "\n",
    "# Iterate over each row in the CSV file\n",
    "for i in range(len(data)):\n",
    "    row = e_t.iloc[i, :]\n",
    "    y = np.array(row)**2\n",
    "    A = np.vstack([x, np.ones(len(x))]).T\n",
    "\n",
    "    # Perform least squares regression\n",
    "    coeffs, residuals, _, _ = np.linalg.lstsq(A, y, rcond=None)\n",
    "\n",
    "    # Append intercept and coefficient values\n",
    "    intercepts_var.append(coeffs[1])\n",
    "    coefficients_var.append(coeffs[0])\n",
    "\n",
    "# Create a dataframe from intercepts and coefficients\n",
    "result_df_var = pd.DataFrame({'I': intercepts_var, 'C': coefficients_var})\n",
    "\n",
    "# Display the resulting dataframe\n",
    "print(result_df_var)\n",
    "\n",
    "result_df_var.to_excel('region_3_coefficients_variance.xlsx', index = False, header = None)\n",
    "\n"
   ]
  },
  {
   "cell_type": "code",
   "execution_count": 9,
   "id": "cc0d7e91",
   "metadata": {},
   "outputs": [
    {
     "name": "stderr",
     "output_type": "stream",
     "text": [
      "C:\\Users\\User\\AppData\\Local\\Temp\\ipykernel_13452\\358118335.py:11: RuntimeWarning: invalid value encountered in double_scalars\n",
      "  s[i,j] = (bias + coef * (j+1))**0.5\n"
     ]
    }
   ],
   "source": [
    "results_var = np.array(pd.read_excel('region_3_coefficients_variance.xlsx', header = None))\n",
    "\n",
    "s = np.empty([1228, 31])\n",
    "\n",
    "for i in range(0, 1228):\n",
    "    bias = results_var[i,0]\n",
    "    coef = results_var[i,1]\n",
    "    \n",
    "    for j in range(0, 31):\n",
    "        \n",
    "        s[i,j] = (bias + coef * (j+1))**0.5\n",
    "\n",
    "s = pd.DataFrame(s)\n",
    "s\n",
    "\n",
    "s.to_excel('region_3_s.xlsx', index = False, header = None)"
   ]
  },
  {
   "cell_type": "code",
   "execution_count": 10,
   "id": "99d5eeba",
   "metadata": {},
   "outputs": [
    {
     "name": "stdout",
     "output_type": "stream",
     "text": [
      "[[40.32867177 40.63528419 40.94189661 ... 48.91381952 49.22043194\n",
      "  49.52704435]\n",
      " [48.03657016 48.19846935 48.36036855 ... 52.56974758 52.73164677\n",
      "  52.89354597]\n",
      " [39.29916129 40.49814839 41.69713548 ... 72.8708     74.0697871\n",
      "  75.26877419]\n",
      " ...\n",
      " [58.59250202 59.84212661 61.09175121 ... 93.58199073 94.83161532\n",
      "  96.08123992]\n",
      " [57.22166331 58.45581694 59.68997056 ... 91.77796492 93.01211855\n",
      "  94.24627218]\n",
      " [91.03420766 90.57100242 90.10779718 ... 78.06446089 77.60125565\n",
      "  77.1380504 ]]\n"
     ]
    }
   ],
   "source": [
    "eta_t = np.empty([1228, 31])\n",
    "\n",
    "for i in range(0, 1228):\n",
    "    b = result_df[i,0]\n",
    "    \n",
    "    coeff = result_df[i,1]\n",
    "    \n",
    "    for j in range(0, 31):\n",
    "        \n",
    "        eta_t[i,j] = b + coeff * (j+1)\n",
    "    \n",
    "    \n",
    "print(eta_t)\n",
    "\n",
    "eta_t = pd.DataFrame(eta_t)\n",
    "eta_t.to_excel('eta_t.xlsx', index = None, header = None)"
   ]
  },
  {
   "cell_type": "code",
   "execution_count": 11,
   "id": "44039076",
   "metadata": {},
   "outputs": [],
   "source": [
    "s = np.array(s)\n",
    "eta_t = np.array(eta_t)"
   ]
  },
  {
   "cell_type": "code",
   "execution_count": 12,
   "id": "70719857",
   "metadata": {},
   "outputs": [
    {
     "name": "stdout",
     "output_type": "stream",
     "text": [
      "[[-0.37060955 -1.12746058  0.12793807 ... -1.30309317 -0.22345143\n",
      "   0.53118874]\n",
      " [ 1.02875308 -0.88138506 -0.7742153  ... -1.19790944 -1.97278194\n",
      "   0.80542597]\n",
      " [ 0.29796692 -0.19100067  0.36766237 ...  0.50961101  0.86059841\n",
      "  -1.44072174]\n",
      " ...\n",
      " [ 1.66332685 -1.38055201  0.03554729 ... -0.55726132  0.12575672\n",
      "   2.68889243]\n",
      " [-0.26331757 -1.3159711   0.00931775 ... -0.31988698 -0.66472921\n",
      "   1.32075016]\n",
      " [-0.28446055  1.68432926 -0.59347834 ...  2.95187012 -0.64916706\n",
      "  -0.05087056]]\n"
     ]
    }
   ],
   "source": [
    "norm = np.empty([1228, 31])\n",
    "\n",
    "for i in range(0, 1228):\n",
    "    b = result_df[i,0]\n",
    "    \n",
    "    coeff = result_df[i,1]\n",
    "    \n",
    "    for j in range(0, 31):\n",
    "        \n",
    "        norm[i,j] = (data[i,j] - eta_t[i,j])/s[i,j]\n",
    "    \n",
    "    \n",
    "print(norm)\n",
    "\n",
    "norm = pd.DataFrame(norm)\n",
    "norm.to_excel('norm_region3.xlsx', index = None, header = None)"
   ]
  },
  {
   "cell_type": "code",
   "execution_count": 14,
   "id": "c6dbbfac",
   "metadata": {},
   "outputs": [],
   "source": [
    "region_3_basin = pd.read_csv('region3_basin.csv')\n",
    "rows_to_extract = np.array(region_3_basin[\"id\"])"
   ]
  },
  {
   "cell_type": "code",
   "execution_count": 15,
   "id": "ed7cb6df",
   "metadata": {},
   "outputs": [],
   "source": [
    "qt = 13.10\n",
    "\n",
    "Q_t = np.empty([191, 31])\n",
    "for i in range(191):\n",
    "    for j in range(31):\n",
    "        \n",
    "        Q_t[i, j] = eta_t[rows_to_extract[i]-1, j] + s[rows_to_extract[i]-1, j] * qt\n",
    "    "
   ]
  },
  {
   "cell_type": "code",
   "execution_count": 16,
   "id": "27650fa8",
   "metadata": {},
   "outputs": [],
   "source": [
    "Q_t = pd.DataFrame(Q_t)\n",
    "Q_t.to_excel(\"Quantile_Estimate_region_3.xlsx\", index = None, header = None)"
   ]
  },
  {
   "cell_type": "code",
   "execution_count": null,
   "id": "6733e0be",
   "metadata": {},
   "outputs": [],
   "source": []
  }
 ],
 "metadata": {
  "kernelspec": {
   "display_name": "Python 3 (ipykernel)",
   "language": "python",
   "name": "python3"
  },
  "language_info": {
   "codemirror_mode": {
    "name": "ipython",
    "version": 3
   },
   "file_extension": ".py",
   "mimetype": "text/x-python",
   "name": "python",
   "nbconvert_exporter": "python",
   "pygments_lexer": "ipython3",
   "version": "3.9.13"
  }
 },
 "nbformat": 4,
 "nbformat_minor": 5
}
