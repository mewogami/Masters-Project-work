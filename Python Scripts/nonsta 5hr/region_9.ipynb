{
 "cells": [
  {
   "cell_type": "code",
   "execution_count": 1,
   "id": "bb60bf3c",
   "metadata": {},
   "outputs": [
    {
     "name": "stdout",
     "output_type": "stream",
     "text": [
      "             I         C\n",
      "0    36.478639  0.110129\n",
      "1    48.050723  0.192477\n",
      "2    32.657516  1.072508\n",
      "3    38.365935 -0.379333\n",
      "4    31.328594  0.459640\n",
      "..         ...       ...\n",
      "568  93.240974 -1.790972\n",
      "569  57.194452  2.007704\n",
      "570  57.337239  0.434535\n",
      "571  62.937310  0.604779\n",
      "572  67.147510 -0.446925\n",
      "\n",
      "[573 rows x 2 columns]\n"
     ]
    }
   ],
   "source": [
    "import numpy as np\n",
    "import pandas as pd\n",
    "\n",
    "# Load the numpy array\n",
    "x = np.arange(1, 32)\n",
    "\n",
    "# Load the CSV file\n",
    "data = pd.read_csv('region9_hom2.csv', header = None)\n",
    "\n",
    "# Initialize empty lists to store intercept and coefficient values\n",
    "intercepts = []\n",
    "coefficients = []\n",
    "\n",
    "# Iterate over each row in the CSV file\n",
    "for i in range(len(data)):\n",
    "    row = data.iloc[i, :]\n",
    "    y = np.array(row)\n",
    "    A = np.vstack([x, np.ones(len(x))]).T\n",
    "\n",
    "    # Perform least squares regression\n",
    "    coeffs, residuals, _, _ = np.linalg.lstsq(A, y, rcond=None)\n",
    "\n",
    "    # Append intercept and coefficient values\n",
    "    intercepts.append(coeffs[1])\n",
    "    coefficients.append(coeffs[0])\n",
    "\n",
    "# Create a dataframe from intercepts and coefficients\n",
    "result_df = pd.DataFrame({'I': intercepts, 'C': coefficients})\n",
    "\n",
    "# Display the resulting dataframe\n",
    "print(result_df)\n",
    "\n",
    "result_df.to_excel('region_9_coefficients.xlsx', index = False, header = None)\n",
    "\n"
   ]
  },
  {
   "cell_type": "code",
   "execution_count": 2,
   "id": "bf14dff6",
   "metadata": {},
   "outputs": [],
   "source": [
    "data = np.array(data)"
   ]
  },
  {
   "cell_type": "code",
   "execution_count": 3,
   "id": "5baff2e4",
   "metadata": {},
   "outputs": [],
   "source": [
    "result_df = np.array(result_df)"
   ]
  },
  {
   "cell_type": "code",
   "execution_count": 4,
   "id": "03a3c849",
   "metadata": {},
   "outputs": [
    {
     "data": {
      "text/plain": [
       "36.47863870967745"
      ]
     },
     "execution_count": 4,
     "metadata": {},
     "output_type": "execute_result"
    }
   ],
   "source": [
    "b = result_df[0,0]\n",
    "b"
   ]
  },
  {
   "cell_type": "code",
   "execution_count": 5,
   "id": "d96b8648",
   "metadata": {},
   "outputs": [
    {
     "name": "stdout",
     "output_type": "stream",
     "text": [
      "[[-15.46376815 -19.41789758  41.56597298 ... -13.82839234   3.32647823\n",
      "  -23.45465121]\n",
      " [-32.1181996    1.54832339  58.18184637 ... -25.94455605  24.53396694\n",
      "   55.26248992]\n",
      " [-18.24602419  20.55646774  26.88295968 ... -25.97925     10.97924194\n",
      "   12.36073387]\n",
      " ...\n",
      " [-11.39677419  48.15369032 -34.49284516 ...  65.72123226  68.56669677\n",
      "  -19.94883871]\n",
      " [ -4.67508871 -32.02186774 -43.89264677 ...  35.96409839  40.50931935\n",
      "  -32.45145968]\n",
      " [ 27.42441532  39.33634032 -21.19773468 ...  -0.49868468  -6.89575968\n",
      "  -19.80883468]]\n"
     ]
    }
   ],
   "source": [
    "e_t = np.empty([573, 31])\n",
    "\n",
    "for i in range(0, 573):\n",
    "    b = result_df[i,0]\n",
    "    \n",
    "    coeff = result_df[i,1]\n",
    "    \n",
    "    for j in range(0, 31):\n",
    "        \n",
    "        e_t[i,j] = data[i,j] - b - coeff * (j+1)\n",
    "    \n",
    "    \n",
    "print(e_t)\n",
    "\n",
    "e_t = pd.DataFrame(e_t)\n",
    "e_t.to_excel('e_t.xlsx', index = None, header = None)"
   ]
  },
  {
   "cell_type": "code",
   "execution_count": 6,
   "id": "d038d22f",
   "metadata": {},
   "outputs": [
    {
     "data": {
      "text/plain": [
       "(573, 31)"
      ]
     },
     "execution_count": 6,
     "metadata": {},
     "output_type": "execute_result"
    }
   ],
   "source": [
    "e_t.shape"
   ]
  },
  {
   "cell_type": "code",
   "execution_count": 7,
   "id": "f39df6ca",
   "metadata": {},
   "outputs": [
    {
     "name": "stdout",
     "output_type": "stream",
     "text": [
      "               I           C\n",
      "0     641.856141   -7.116748\n",
      "1     739.875331    2.853658\n",
      "2     503.087153   13.270898\n",
      "3     328.712923   -6.585439\n",
      "4     114.207132   11.334113\n",
      "..           ...         ...\n",
      "568  3612.022119 -132.307798\n",
      "569  -844.489563  268.156788\n",
      "570  3628.366240  -88.791040\n",
      "571  5098.767858 -125.348053\n",
      "572   676.743829   58.509870\n",
      "\n",
      "[573 rows x 2 columns]\n"
     ]
    }
   ],
   "source": [
    "import numpy as np\n",
    "import pandas as pd\n",
    "\n",
    "# Load the numpy array\n",
    "x = np.arange(1, 32)\n",
    "\n",
    "# Load the CSV file\n",
    "e_t = pd.read_excel('e_t.xlsx', header = None)\n",
    "\n",
    "# Initialize empty lists to store intercept and coefficient values\n",
    "intercepts_var = []\n",
    "coefficients_var = []\n",
    "\n",
    "# Iterate over each row in the CSV file\n",
    "for i in range(len(data)):\n",
    "    row = e_t.iloc[i, :]\n",
    "    y = np.array(row)**2\n",
    "    A = np.vstack([x, np.ones(len(x))]).T\n",
    "\n",
    "    # Perform least squares regression\n",
    "    coeffs, residuals, _, _ = np.linalg.lstsq(A, y, rcond=None)\n",
    "\n",
    "    # Append intercept and coefficient values\n",
    "    intercepts_var.append(coeffs[1])\n",
    "    coefficients_var.append(coeffs[0])\n",
    "\n",
    "# Create a dataframe from intercepts and coefficients\n",
    "result_df_var = pd.DataFrame({'I': intercepts_var, 'C': coefficients_var})\n",
    "\n",
    "# Display the resulting dataframe\n",
    "print(result_df_var)\n",
    "\n",
    "result_df_var.to_excel('region_9_coefficients_variance.xlsx', index = False, header = None)\n",
    "\n"
   ]
  },
  {
   "cell_type": "code",
   "execution_count": 8,
   "id": "cc0d7e91",
   "metadata": {},
   "outputs": [
    {
     "name": "stderr",
     "output_type": "stream",
     "text": [
      "C:\\Users\\User\\AppData\\Local\\Temp\\ipykernel_6480\\3459445000.py:11: RuntimeWarning: invalid value encountered in double_scalars\n",
      "  s[i,j] = (bias + coef * (j+1))**0.5\n"
     ]
    }
   ],
   "source": [
    "results_var = np.array(pd.read_excel('region_9_coefficients_variance.xlsx', header = None))\n",
    "\n",
    "s = np.empty([573, 31])\n",
    "\n",
    "for i in range(0, 573):\n",
    "    bias = results_var[i,0]\n",
    "    coef = results_var[i,1]\n",
    "    \n",
    "    for j in range(0, 31):\n",
    "        \n",
    "        s[i,j] = (bias + coef * (j+1))**0.5\n",
    "\n",
    "s = pd.DataFrame(s)\n",
    "s\n",
    "\n",
    "s.to_excel('region_9_s.xlsx', index = False, header = None)"
   ]
  },
  {
   "cell_type": "code",
   "execution_count": 9,
   "id": "99d5eeba",
   "metadata": {},
   "outputs": [
    {
     "name": "stdout",
     "output_type": "stream",
     "text": [
      "[[36.58876815 36.69889758 36.80902702 ... 39.67239234 39.78252177\n",
      "  39.89265121]\n",
      " [48.2431996  48.43567661 48.62815363 ... 53.63255605 53.82503306\n",
      "  54.01751008]\n",
      " [33.73002419 34.80253226 35.87504032 ... 63.76025    64.83275806\n",
      "  65.90526613]\n",
      " ...\n",
      " [57.77177419 58.20630968 58.64084516 ... 69.93876774 70.37330323\n",
      "  70.80783871]\n",
      " [63.54208871 64.14686774 64.75164677 ... 80.47590161 81.08068065\n",
      "  81.68545968]\n",
      " [66.70058468 66.25365968 65.80673468 ... 54.18668468 53.73975968\n",
      "  53.29283468]]\n"
     ]
    }
   ],
   "source": [
    "eta_t = np.empty([573, 31])\n",
    "\n",
    "for i in range(0, 573):\n",
    "    b = result_df[i,0]\n",
    "    \n",
    "    coeff = result_df[i,1]\n",
    "    \n",
    "    for j in range(0, 31):\n",
    "        \n",
    "        eta_t[i,j] = b + coeff * (j+1)\n",
    "    \n",
    "    \n",
    "print(eta_t)\n",
    "\n",
    "eta_t = pd.DataFrame(eta_t)\n",
    "eta_t.to_excel('eta_t.xlsx', index = None, header = None)"
   ]
  },
  {
   "cell_type": "code",
   "execution_count": 10,
   "id": "44039076",
   "metadata": {},
   "outputs": [],
   "source": [
    "s = np.array(s)\n",
    "eta_t = np.array(eta_t)"
   ]
  },
  {
   "cell_type": "code",
   "execution_count": 11,
   "id": "70719857",
   "metadata": {},
   "outputs": [
    {
     "name": "stdout",
     "output_type": "stream",
     "text": [
      "[[-0.61378688 -0.77509137  1.66864901 ... -0.66266243  0.160725\n",
      "  -1.1427882 ]\n",
      " [-1.17851742  0.05670401  2.12671883 ... -0.90457295  0.85391209\n",
      "   1.92011156]\n",
      " [-0.80295789  0.89322863  1.15376463 ... -0.87183444  0.36572813\n",
      "   0.40874831]\n",
      " ...\n",
      " [-0.19156068  0.81972971 -0.5948817  ...  2.02490041  2.20765759\n",
      "  -0.67406883]\n",
      " [-0.06629218 -0.45989866 -0.63869792 ...  0.94004134  1.10732204\n",
      "  -0.93176788]\n",
      " [ 1.01139026  1.39620237 -0.72610592 ... -0.01023596 -0.13982884\n",
      "  -0.39692761]]\n"
     ]
    }
   ],
   "source": [
    "norm = np.empty([573, 31])\n",
    "\n",
    "for i in range(0, 573):\n",
    "    b = result_df[i,0]\n",
    "    \n",
    "    coeff = result_df[i,1]\n",
    "    \n",
    "    for j in range(0, 31):\n",
    "        \n",
    "        norm[i,j] = (data[i,j] - eta_t[i,j])/s[i,j]\n",
    "    \n",
    "    \n",
    "print(norm)\n",
    "\n",
    "norm = pd.DataFrame(norm)\n",
    "norm.to_excel('norm_region9.xlsx', index = None, header = None)"
   ]
  },
  {
   "cell_type": "code",
   "execution_count": 12,
   "id": "c6dbbfac",
   "metadata": {},
   "outputs": [],
   "source": [
    "region_9_basin = pd.read_csv('region9_basin.csv')\n",
    "rows_to_extract = np.array(region_9_basin[\"id\"])"
   ]
  },
  {
   "cell_type": "code",
   "execution_count": 15,
   "id": "ed7cb6df",
   "metadata": {},
   "outputs": [],
   "source": [
    "qt = 17.73\n",
    "\n",
    "Q_t = np.empty([77, 31])\n",
    "for i in range(77):\n",
    "    for j in range(31):\n",
    "        \n",
    "        Q_t[i, j] = eta_t[rows_to_extract[i]-1, j] + s[rows_to_extract[i]-1, j] * qt\n",
    "    "
   ]
  },
  {
   "cell_type": "code",
   "execution_count": 16,
   "id": "27650fa8",
   "metadata": {},
   "outputs": [],
   "source": [
    "Q_t = pd.DataFrame(Q_t)\n",
    "Q_t.to_excel(\"Quantile_Estimate_region_9.xlsx\", index = None, header = None)"
   ]
  },
  {
   "cell_type": "code",
   "execution_count": null,
   "id": "6733e0be",
   "metadata": {},
   "outputs": [],
   "source": []
  }
 ],
 "metadata": {
  "kernelspec": {
   "display_name": "Python 3 (ipykernel)",
   "language": "python",
   "name": "python3"
  },
  "language_info": {
   "codemirror_mode": {
    "name": "ipython",
    "version": 3
   },
   "file_extension": ".py",
   "mimetype": "text/x-python",
   "name": "python",
   "nbconvert_exporter": "python",
   "pygments_lexer": "ipython3",
   "version": "3.9.13"
  }
 },
 "nbformat": 4,
 "nbformat_minor": 5
}
