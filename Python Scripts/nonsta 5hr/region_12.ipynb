{
 "cells": [
  {
   "cell_type": "code",
   "execution_count": 1,
   "id": "bb60bf3c",
   "metadata": {},
   "outputs": [
    {
     "name": "stdout",
     "output_type": "stream",
     "text": [
      "               I         C\n",
      "0     120.106574 -1.197389\n",
      "1      90.316935  0.063423\n",
      "2      82.550284  0.258920\n",
      "3      95.799658 -0.412825\n",
      "4     106.727806 -0.488696\n",
      "...          ...       ...\n",
      "1828   56.621781  0.794766\n",
      "1829   49.643781  0.189209\n",
      "1830   80.975561 -0.462735\n",
      "1831   94.147071 -1.108698\n",
      "1832   26.746077  0.081378\n",
      "\n",
      "[1833 rows x 2 columns]\n"
     ]
    }
   ],
   "source": [
    "import numpy as np\n",
    "import pandas as pd\n",
    "\n",
    "# Load the numpy array\n",
    "x = np.arange(1, 32)\n",
    "\n",
    "# Load the CSV file\n",
    "data = pd.read_csv('region12_hom2.csv', header = None)\n",
    "\n",
    "# Initialize empty lists to store intercept and coefficient values\n",
    "intercepts = []\n",
    "coefficients = []\n",
    "\n",
    "# Iterate over each row in the CSV file\n",
    "for i in range(len(data)):\n",
    "    row = data.iloc[i, :]\n",
    "    y = np.array(row)\n",
    "    A = np.vstack([x, np.ones(len(x))]).T\n",
    "\n",
    "    # Perform least squares regression\n",
    "    coeffs, residuals, _, _ = np.linalg.lstsq(A, y, rcond=None)\n",
    "\n",
    "    # Append intercept and coefficient values\n",
    "    intercepts.append(coeffs[1])\n",
    "    coefficients.append(coeffs[0])\n",
    "\n",
    "# Create a dataframe from intercepts and coefficients\n",
    "result_df = pd.DataFrame({'I': intercepts, 'C': coefficients})\n",
    "\n",
    "# Display the resulting dataframe\n",
    "print(result_df)\n",
    "\n",
    "result_df.to_excel('region_12_coefficients.xlsx', index = False, header = None)\n",
    "\n"
   ]
  },
  {
   "cell_type": "code",
   "execution_count": 2,
   "id": "bf14dff6",
   "metadata": {},
   "outputs": [],
   "source": [
    "data = np.array(data)"
   ]
  },
  {
   "cell_type": "code",
   "execution_count": 3,
   "id": "5baff2e4",
   "metadata": {},
   "outputs": [],
   "source": [
    "result_df = np.array(result_df)"
   ]
  },
  {
   "cell_type": "code",
   "execution_count": 4,
   "id": "03a3c849",
   "metadata": {},
   "outputs": [
    {
     "data": {
      "text/plain": [
       "120.10657419354848"
      ]
     },
     "execution_count": 4,
     "metadata": {},
     "output_type": "execute_result"
    }
   ],
   "source": [
    "b = result_df[0,0]\n",
    "b"
   ]
  },
  {
   "cell_type": "code",
   "execution_count": 5,
   "id": "d96b8648",
   "metadata": {},
   "outputs": [
    {
     "name": "stdout",
     "output_type": "stream",
     "text": [
      "[[-22.51818548   4.41820323 -27.76440806 ...  -3.47630161  39.7650871\n",
      "  -23.59652419]\n",
      " [  6.22864113 -17.36578226 -11.41320565 ... -16.07821371  50.2203629\n",
      "  -35.62706048]\n",
      " [ 28.49079637 -39.42712339  30.44295685 ...  51.86104315 -49.00587661\n",
      "  -13.99879637]\n",
      " ...\n",
      " [ -2.23182661 110.25990806 -40.86835726 ... -11.33725565  -6.09352097\n",
      "   29.27521371]\n",
      " [ -1.42137298   1.851325    -1.16497702 ... -26.58882944  72.59386855\n",
      "  -12.33943347]\n",
      " [ -3.76545565  -1.21383387  -4.9592121  ...  -1.41804597 -12.37542419\n",
      "   13.73119758]]\n"
     ]
    }
   ],
   "source": [
    "e_t = np.empty([1833, 31])\n",
    "\n",
    "for i in range(0, 1833):\n",
    "    b = result_df[i,0]\n",
    "    \n",
    "    coeff = result_df[i,1]\n",
    "    \n",
    "    for j in range(0, 31):\n",
    "        \n",
    "        e_t[i,j] = data[i,j] - b - coeff * (j+1)\n",
    "    \n",
    "    \n",
    "print(e_t)\n",
    "\n",
    "e_t = pd.DataFrame(e_t)\n",
    "e_t.to_excel('e_t.xlsx', index = None, header = None)"
   ]
  },
  {
   "cell_type": "code",
   "execution_count": 6,
   "id": "d038d22f",
   "metadata": {},
   "outputs": [
    {
     "data": {
      "text/plain": [
       "(1833, 31)"
      ]
     },
     "execution_count": 6,
     "metadata": {},
     "output_type": "execute_result"
    }
   ],
   "source": [
    "e_t.shape"
   ]
  },
  {
   "cell_type": "code",
   "execution_count": 7,
   "id": "f39df6ca",
   "metadata": {},
   "outputs": [
    {
     "name": "stdout",
     "output_type": "stream",
     "text": [
      "                I          C\n",
      "0     2421.612443 -38.465732\n",
      "1     1444.467483  -2.130550\n",
      "2     2060.441154 -29.459746\n",
      "3     2448.338808 -58.640689\n",
      "4     1812.779825 -18.100810\n",
      "...           ...        ...\n",
      "1828  -428.552743  95.193753\n",
      "1829   495.938733  -7.564724\n",
      "1830  1630.905418  -4.229213\n",
      "1831  3366.899817 -69.794000\n",
      "1832    43.720095   2.934237\n",
      "\n",
      "[1833 rows x 2 columns]\n"
     ]
    }
   ],
   "source": [
    "import numpy as np\n",
    "import pandas as pd\n",
    "\n",
    "# Load the numpy array\n",
    "x = np.arange(1, 32)\n",
    "\n",
    "# Load the CSV file\n",
    "e_t = pd.read_excel('e_t.xlsx', header = None)\n",
    "\n",
    "# Initialize empty lists to store intercept and coefficient values\n",
    "intercepts_var = []\n",
    "coefficients_var = []\n",
    "\n",
    "# Iterate over each row in the CSV file\n",
    "for i in range(len(data)):\n",
    "    row = e_t.iloc[i, :]\n",
    "    y = np.array(row)**2\n",
    "    A = np.vstack([x, np.ones(len(x))]).T\n",
    "\n",
    "    # Perform least squares regression\n",
    "    coeffs, residuals, _, _ = np.linalg.lstsq(A, y, rcond=None)\n",
    "\n",
    "    # Append intercept and coefficient values\n",
    "    intercepts_var.append(coeffs[1])\n",
    "    coefficients_var.append(coeffs[0])\n",
    "\n",
    "# Create a dataframe from intercepts and coefficients\n",
    "result_df_var = pd.DataFrame({'I': intercepts_var, 'C': coefficients_var})\n",
    "\n",
    "# Display the resulting dataframe\n",
    "print(result_df_var)\n",
    "\n",
    "result_df_var.to_excel('region_12_coefficients_variance.xlsx', index = False, header = None)\n",
    "\n"
   ]
  },
  {
   "cell_type": "code",
   "execution_count": 8,
   "id": "cc0d7e91",
   "metadata": {},
   "outputs": [
    {
     "name": "stderr",
     "output_type": "stream",
     "text": [
      "C:\\Users\\User\\AppData\\Local\\Temp\\ipykernel_8680\\959117878.py:11: RuntimeWarning: invalid value encountered in double_scalars\n",
      "  s[i,j] = (bias + coef * (j+1))**0.5\n"
     ]
    }
   ],
   "source": [
    "results_var = np.array(pd.read_excel('region_12_coefficients_variance.xlsx', header = None))\n",
    "\n",
    "s = np.empty([1833, 31])\n",
    "\n",
    "for i in range(0, 1833):\n",
    "    bias = results_var[i,0]\n",
    "    coef = results_var[i,1]\n",
    "    \n",
    "    for j in range(0, 31):\n",
    "        \n",
    "        s[i,j] = (bias + coef * (j+1))**0.5\n",
    "\n",
    "s = pd.DataFrame(s)\n",
    "s\n",
    "\n",
    "s.to_excel('region_12_s.xlsx', index = False, header = None)"
   ]
  },
  {
   "cell_type": "code",
   "execution_count": 9,
   "id": "99d5eeba",
   "metadata": {},
   "outputs": [
    {
     "name": "stdout",
     "output_type": "stream",
     "text": [
      "[[118.90918548 117.71179677 116.51440806 ...  85.38230161  84.1849129\n",
      "   82.98752419]\n",
      " [ 90.38035887  90.44378226  90.50720565 ...  92.15621371  92.2196371\n",
      "   92.28306048]\n",
      " [ 82.80920363  83.06812339  83.32704315 ...  90.05895685  90.31787661\n",
      "   90.57679637]\n",
      " ...\n",
      " [ 80.51282661  80.05009194  79.58735726 ...  67.55625565  67.09352097\n",
      "   66.63078629]\n",
      " [ 93.03837298  91.929675    90.82097702 ...  61.99482944  60.88613145\n",
      "   59.77743347]\n",
      " [ 26.82745565  26.90883387  26.9902121  ...  29.10604597  29.18742419\n",
      "   29.26880242]]\n"
     ]
    }
   ],
   "source": [
    "eta_t = np.empty([1833, 31])\n",
    "\n",
    "for i in range(0, 1833):\n",
    "    b = result_df[i,0]\n",
    "    \n",
    "    coeff = result_df[i,1]\n",
    "    \n",
    "    for j in range(0, 31):\n",
    "        \n",
    "        eta_t[i,j] = b + coeff * (j+1)\n",
    "    \n",
    "    \n",
    "print(eta_t)\n",
    "\n",
    "eta_t = pd.DataFrame(eta_t)\n",
    "eta_t.to_excel('eta_t.xlsx', index = None, header = None)"
   ]
  },
  {
   "cell_type": "code",
   "execution_count": 10,
   "id": "44039076",
   "metadata": {},
   "outputs": [],
   "source": [
    "s = np.array(s)\n",
    "eta_t = np.array(eta_t)"
   ]
  },
  {
   "cell_type": "code",
   "execution_count": 11,
   "id": "70719857",
   "metadata": {},
   "outputs": [
    {
     "name": "stdout",
     "output_type": "stream",
     "text": [
      "[[-0.46127297  0.09124389 -0.5781473  ... -0.09618962  1.11687324\n",
      "  -0.67304053]\n",
      " [ 0.16400608 -0.45759575 -0.30096552 ... -0.43239107  1.35161693\n",
      "  -0.95959757]\n",
      " [ 0.63219581 -0.88128209  0.68553015 ...  1.4933034  -1.42864636\n",
      "  -0.41330742]\n",
      " ...\n",
      " [-0.05533627  2.73736284 -1.01594149 ... -0.29192419 -0.15712316\n",
      "   0.75593321]\n",
      " [-0.02475378  0.03258834 -0.02073216 ... -0.72557384  2.03456759\n",
      "  -0.35572208]\n",
      " [-0.55127913 -0.17237269 -0.68428769 ... -0.1249426  -1.07817538\n",
      "   1.18319019]]\n"
     ]
    }
   ],
   "source": [
    "norm = np.empty([1833, 31])\n",
    "\n",
    "for i in range(0, 1833):\n",
    "    b = result_df[i,0]\n",
    "    \n",
    "    coeff = result_df[i,1]\n",
    "    \n",
    "    for j in range(0, 31):\n",
    "        \n",
    "        norm[i,j] = (data[i,j] - eta_t[i,j])/s[i,j]\n",
    "    \n",
    "    \n",
    "print(norm)\n",
    "\n",
    "norm = pd.DataFrame(norm)\n",
    "norm.to_excel('norm_region12.xlsx', index = None, header = None)"
   ]
  },
  {
   "cell_type": "code",
   "execution_count": 13,
   "id": "c6dbbfac",
   "metadata": {},
   "outputs": [],
   "source": [
    "region_12_basin = pd.read_csv('region12_basin.csv')\n",
    "rows_to_extract = np.array(region_12_basin[\"id\"])"
   ]
  },
  {
   "cell_type": "code",
   "execution_count": 14,
   "id": "ed7cb6df",
   "metadata": {},
   "outputs": [],
   "source": [
    "qt = 10.62\n",
    "\n",
    "Q_t = np.empty([128, 31])\n",
    "for i in range(128):\n",
    "    for j in range(31):\n",
    "        \n",
    "        Q_t[i, j] = eta_t[rows_to_extract[i]-1, j] + s[rows_to_extract[i]-1, j] * qt\n",
    "    "
   ]
  },
  {
   "cell_type": "code",
   "execution_count": 15,
   "id": "27650fa8",
   "metadata": {},
   "outputs": [],
   "source": [
    "Q_t = pd.DataFrame(Q_t)\n",
    "Q_t.to_excel(\"Quantile_Estimate_region_12.xlsx\", index = None, header = None)"
   ]
  },
  {
   "cell_type": "code",
   "execution_count": null,
   "id": "6733e0be",
   "metadata": {},
   "outputs": [],
   "source": []
  }
 ],
 "metadata": {
  "kernelspec": {
   "display_name": "Python 3 (ipykernel)",
   "language": "python",
   "name": "python3"
  },
  "language_info": {
   "codemirror_mode": {
    "name": "ipython",
    "version": 3
   },
   "file_extension": ".py",
   "mimetype": "text/x-python",
   "name": "python",
   "nbconvert_exporter": "python",
   "pygments_lexer": "ipython3",
   "version": "3.9.13"
  }
 },
 "nbformat": 4,
 "nbformat_minor": 5
}
