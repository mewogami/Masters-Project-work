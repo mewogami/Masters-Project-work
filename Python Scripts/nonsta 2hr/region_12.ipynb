{
 "cells": [
  {
   "cell_type": "code",
   "execution_count": 1,
   "id": "bb60bf3c",
   "metadata": {},
   "outputs": [
    {
     "name": "stdout",
     "output_type": "stream",
     "text": [
      "              I         C\n",
      "0     67.322929 -0.314451\n",
      "1     64.223613 -0.161683\n",
      "2     73.858284 -0.261645\n",
      "3     58.448394  0.029891\n",
      "4     68.981535 -0.334485\n",
      "...         ...       ...\n",
      "1635  55.479413 -0.452957\n",
      "1636  12.151225  0.049673\n",
      "1637  16.824293 -0.239018\n",
      "1638  14.544081  0.066911\n",
      "1639  44.375161 -0.480435\n",
      "\n",
      "[1640 rows x 2 columns]\n"
     ]
    }
   ],
   "source": [
    "import numpy as np\n",
    "import pandas as pd\n",
    "\n",
    "# Load the numpy array\n",
    "x = np.arange(1, 32)\n",
    "\n",
    "# Load the CSV file\n",
    "data = pd.read_csv('region12_hom2.csv', header = None)\n",
    "\n",
    "# Initialize empty lists to store intercept and coefficient values\n",
    "intercepts = []\n",
    "coefficients = []\n",
    "\n",
    "# Iterate over each row in the CSV file\n",
    "for i in range(len(data)):\n",
    "    row = data.iloc[i, :]\n",
    "    y = np.array(row)\n",
    "    A = np.vstack([x, np.ones(len(x))]).T\n",
    "\n",
    "    # Perform least squares regression\n",
    "    coeffs, residuals, _, _ = np.linalg.lstsq(A, y, rcond=None)\n",
    "\n",
    "    # Append intercept and coefficient values\n",
    "    intercepts.append(coeffs[1])\n",
    "    coefficients.append(coeffs[0])\n",
    "\n",
    "# Create a dataframe from intercepts and coefficients\n",
    "result_df = pd.DataFrame({'I': intercepts, 'C': coefficients})\n",
    "\n",
    "# Display the resulting dataframe\n",
    "print(result_df)\n",
    "\n",
    "result_df.to_excel('region_12_coefficients.xlsx', index = False, header = None)\n",
    "\n"
   ]
  },
  {
   "cell_type": "code",
   "execution_count": 2,
   "id": "bf14dff6",
   "metadata": {},
   "outputs": [],
   "source": [
    "data = np.array(data)"
   ]
  },
  {
   "cell_type": "code",
   "execution_count": 3,
   "id": "5baff2e4",
   "metadata": {},
   "outputs": [],
   "source": [
    "result_df = np.array(result_df)"
   ]
  },
  {
   "cell_type": "code",
   "execution_count": 4,
   "id": "03a3c849",
   "metadata": {},
   "outputs": [
    {
     "data": {
      "text/plain": [
       "67.3229290322581"
      ]
     },
     "execution_count": 4,
     "metadata": {},
     "output_type": "execute_result"
    }
   ],
   "source": [
    "b = result_df[0,0]\n",
    "b"
   ]
  },
  {
   "cell_type": "code",
   "execution_count": 5,
   "id": "d96b8648",
   "metadata": {},
   "outputs": [
    {
     "name": "stdout",
     "output_type": "stream",
     "text": [
      "[[-19.52447782   1.53997339 -11.4105754  ...   4.07715605  20.09460726\n",
      "  -20.57494153]\n",
      " [ -0.82792944 -34.91624597  16.4804375  ... -14.75379234  12.93889113\n",
      "  -30.2424254 ]\n",
      " [-27.56563911  17.52400565 -27.7143496  ...  14.40141411 -44.35294113\n",
      "  -26.62229637]\n",
      " ...\n",
      " [  3.1487254   -0.19025629  -3.23223798 ...   4.57623798   0.62725629\n",
      "    0.1164746 ]\n",
      " [  3.63900786  -1.31090363  -4.96361512 ...  -2.85951391  -7.8014254\n",
      "    3.5376631 ]\n",
      " [ -8.17572581   8.89770968 -15.91785484 ...  -6.86453226  15.95990323\n",
      "    2.51833871]]\n"
     ]
    }
   ],
   "source": [
    "e_t = np.empty([1640, 31])\n",
    "\n",
    "for i in range(0, 1640):\n",
    "    b = result_df[i,0]\n",
    "    \n",
    "    coeff = result_df[i,1]\n",
    "    \n",
    "    for j in range(0, 31):\n",
    "        \n",
    "        e_t[i,j] = data[i,j] - b - coeff * (j+1)\n",
    "    \n",
    "    \n",
    "print(e_t)\n",
    "\n",
    "e_t = pd.DataFrame(e_t)\n",
    "e_t.to_excel('e_t.xlsx', index = None, header = None)"
   ]
  },
  {
   "cell_type": "code",
   "execution_count": 6,
   "id": "d038d22f",
   "metadata": {},
   "outputs": [
    {
     "data": {
      "text/plain": [
       "(1640, 31)"
      ]
     },
     "execution_count": 6,
     "metadata": {},
     "output_type": "execute_result"
    }
   ],
   "source": [
    "e_t.shape"
   ]
  },
  {
   "cell_type": "code",
   "execution_count": 7,
   "id": "f39df6ca",
   "metadata": {},
   "outputs": [
    {
     "name": "stdout",
     "output_type": "stream",
     "text": [
      "               I          C\n",
      "0     635.047633  -8.486325\n",
      "1     734.627739 -13.439846\n",
      "2     761.752242  13.220663\n",
      "3     233.474628   9.389481\n",
      "4     476.032622   0.494047\n",
      "...          ...        ...\n",
      "1635  562.772766  -2.721515\n",
      "1636   10.228304  -0.074659\n",
      "1637   11.181321  -0.140294\n",
      "1638   15.455693   1.505807\n",
      "1639  531.117082 -14.798865\n",
      "\n",
      "[1640 rows x 2 columns]\n"
     ]
    }
   ],
   "source": [
    "import numpy as np\n",
    "import pandas as pd\n",
    "\n",
    "# Load the numpy array\n",
    "x = np.arange(1, 32)\n",
    "\n",
    "# Load the CSV file\n",
    "e_t = pd.read_excel('e_t.xlsx', header = None)\n",
    "\n",
    "# Initialize empty lists to store intercept and coefficient values\n",
    "intercepts_var = []\n",
    "coefficients_var = []\n",
    "\n",
    "# Iterate over each row in the CSV file\n",
    "for i in range(len(data)):\n",
    "    row = e_t.iloc[i, :]\n",
    "    y = np.array(row)**2\n",
    "    A = np.vstack([x, np.ones(len(x))]).T\n",
    "\n",
    "    # Perform least squares regression\n",
    "    coeffs, residuals, _, _ = np.linalg.lstsq(A, y, rcond=None)\n",
    "\n",
    "    # Append intercept and coefficient values\n",
    "    intercepts_var.append(coeffs[1])\n",
    "    coefficients_var.append(coeffs[0])\n",
    "\n",
    "# Create a dataframe from intercepts and coefficients\n",
    "result_df_var = pd.DataFrame({'I': intercepts_var, 'C': coefficients_var})\n",
    "\n",
    "# Display the resulting dataframe\n",
    "print(result_df_var)\n",
    "\n",
    "result_df_var.to_excel('region_12_coefficients_variance.xlsx', index = False, header = None)\n",
    "\n"
   ]
  },
  {
   "cell_type": "code",
   "execution_count": 8,
   "id": "cc0d7e91",
   "metadata": {},
   "outputs": [
    {
     "name": "stderr",
     "output_type": "stream",
     "text": [
      "C:\\Users\\User\\AppData\\Local\\Temp\\ipykernel_11192\\1065851678.py:11: RuntimeWarning: invalid value encountered in double_scalars\n",
      "  s[i,j] = (bias + coef * (j+1))**0.5\n"
     ]
    }
   ],
   "source": [
    "results_var = np.array(pd.read_excel('region_12_coefficients_variance.xlsx', header = None))\n",
    "\n",
    "s = np.empty([1640, 31])\n",
    "\n",
    "for i in range(0, 1640):\n",
    "    bias = results_var[i,0]\n",
    "    coef = results_var[i,1]\n",
    "    \n",
    "    for j in range(0, 31):\n",
    "        \n",
    "        s[i,j] = (bias + coef * (j+1))**0.5\n",
    "\n",
    "s = pd.DataFrame(s)\n",
    "s\n",
    "\n",
    "s.to_excel('region_12_s.xlsx', index = False, header = None)"
   ]
  },
  {
   "cell_type": "code",
   "execution_count": 9,
   "id": "99d5eeba",
   "metadata": {},
   "outputs": [
    {
     "name": "stdout",
     "output_type": "stream",
     "text": [
      "[[67.00847782 66.69402661 66.3795754  ... 58.20384395 57.88939274\n",
      "  57.57494153]\n",
      " [64.06192944 63.90024597 63.7385625  ... 59.53479234 59.37310887\n",
      "  59.2114254 ]\n",
      " [73.59663911 73.33499435 73.0733496  ... 66.27058589 66.00894113\n",
      "  65.74729637]\n",
      " ...\n",
      " [16.5852746  16.34625629 16.10723798 ...  9.89276202  9.65374371\n",
      "   9.4147254 ]\n",
      " [14.61099214 14.67790363 14.74481512 ... 16.48451391 16.5514254\n",
      "  16.6183369 ]\n",
      " [43.89472581 43.41429032 42.93385484 ... 30.44253226 29.96209677\n",
      "  29.48166129]]\n"
     ]
    }
   ],
   "source": [
    "eta_t = np.empty([1640, 31])\n",
    "\n",
    "for i in range(0, 1640):\n",
    "    b = result_df[i,0]\n",
    "    \n",
    "    coeff = result_df[i,1]\n",
    "    \n",
    "    for j in range(0, 31):\n",
    "        \n",
    "        eta_t[i,j] = b + coeff * (j+1)\n",
    "    \n",
    "    \n",
    "print(eta_t)\n",
    "\n",
    "eta_t = pd.DataFrame(eta_t)\n",
    "eta_t.to_excel('eta_t.xlsx', index = None, header = None)"
   ]
  },
  {
   "cell_type": "code",
   "execution_count": 10,
   "id": "44039076",
   "metadata": {},
   "outputs": [],
   "source": [
    "s = np.array(s)\n",
    "eta_t = np.array(eta_t)"
   ]
  },
  {
   "cell_type": "code",
   "execution_count": 11,
   "id": "70719857",
   "metadata": {},
   "outputs": [
    {
     "name": "stdout",
     "output_type": "stream",
     "text": [
      "[[-0.78000546  0.06194306 -0.46215654 ...  0.20673485  1.03021112\n",
      "  -1.06680182]\n",
      " [-0.03082969 -1.31246643  0.62544999 ... -0.79446462  0.71072174\n",
      "  -1.69593094]\n",
      " [-0.9902043   0.62419019 -0.97898529 ...  0.42557261 -1.30316189\n",
      "  -0.7777807 ]\n",
      " ...\n",
      " [ 0.94761093 -0.05762503 -0.9853451  ...  1.71588776  0.23754789\n",
      "   0.04456061]\n",
      " [ 0.88359013 -0.30504855 -1.11064482 ... -0.37188608 -1.0019141\n",
      "   0.44879272]\n",
      " [-0.35980533  0.39731447 -0.72151394 ... -0.67985662  1.70959691\n",
      "   0.29606567]]\n"
     ]
    }
   ],
   "source": [
    "norm = np.empty([1640, 31])\n",
    "\n",
    "for i in range(0, 1640):\n",
    "    b = result_df[i,0]\n",
    "    \n",
    "    coeff = result_df[i,1]\n",
    "    \n",
    "    for j in range(0, 31):\n",
    "        \n",
    "        norm[i,j] = (data[i,j] - eta_t[i,j])/s[i,j]\n",
    "    \n",
    "    \n",
    "print(norm)\n",
    "\n",
    "norm = pd.DataFrame(norm)\n",
    "norm.to_excel('norm_region12.xlsx', index = None, header = None)"
   ]
  },
  {
   "cell_type": "code",
   "execution_count": 12,
   "id": "c6dbbfac",
   "metadata": {},
   "outputs": [],
   "source": [
    "region_12_basin = pd.read_csv('region12_basin.csv')\n",
    "rows_to_extract = np.array(region_12_basin[\"id\"])"
   ]
  },
  {
   "cell_type": "code",
   "execution_count": 15,
   "id": "ed7cb6df",
   "metadata": {},
   "outputs": [],
   "source": [
    "qt = 7.768\n",
    "\n",
    "Q_t = np.empty([86, 31])\n",
    "for i in range(86):\n",
    "    for j in range(31):\n",
    "        \n",
    "        Q_t[i, j] = eta_t[rows_to_extract[i]-1, j] + s[rows_to_extract[i]-1, j] * qt\n",
    "    "
   ]
  },
  {
   "cell_type": "code",
   "execution_count": 16,
   "id": "27650fa8",
   "metadata": {},
   "outputs": [],
   "source": [
    "Q_t = pd.DataFrame(Q_t)\n",
    "Q_t.to_excel(\"Quantile_Estimate_region_12.xlsx\", index = None, header = None)"
   ]
  },
  {
   "cell_type": "code",
   "execution_count": null,
   "id": "6733e0be",
   "metadata": {},
   "outputs": [],
   "source": []
  }
 ],
 "metadata": {
  "kernelspec": {
   "display_name": "Python 3 (ipykernel)",
   "language": "python",
   "name": "python3"
  },
  "language_info": {
   "codemirror_mode": {
    "name": "ipython",
    "version": 3
   },
   "file_extension": ".py",
   "mimetype": "text/x-python",
   "name": "python",
   "nbconvert_exporter": "python",
   "pygments_lexer": "ipython3",
   "version": "3.9.13"
  }
 },
 "nbformat": 4,
 "nbformat_minor": 5
}
