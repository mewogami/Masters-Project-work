{
 "cells": [
  {
   "cell_type": "code",
   "execution_count": 1,
   "id": "bb60bf3c",
   "metadata": {},
   "outputs": [
    {
     "name": "stdout",
     "output_type": "stream",
     "text": [
      "              I         C\n",
      "0     31.667951  0.447797\n",
      "1     16.794020 -0.080275\n",
      "2     35.211955  0.542527\n",
      "3     35.697142  0.185233\n",
      "4     37.591903  0.324730\n",
      "...         ...       ...\n",
      "1555  47.468961 -0.423435\n",
      "1556  46.547170 -0.378313\n",
      "1557  55.761032 -0.979058\n",
      "1558  35.696103 -0.523029\n",
      "1559  24.984187  0.024841\n",
      "\n",
      "[1560 rows x 2 columns]\n"
     ]
    }
   ],
   "source": [
    "import numpy as np\n",
    "import pandas as pd\n",
    "\n",
    "# Load the numpy array\n",
    "x = np.arange(1, 32)\n",
    "\n",
    "# Load the CSV file\n",
    "data = pd.read_csv('region8_hom2.csv', header = None)\n",
    "\n",
    "# Initialize empty lists to store intercept and coefficient values\n",
    "intercepts = []\n",
    "coefficients = []\n",
    "\n",
    "# Iterate over each row in the CSV file\n",
    "for i in range(len(data)):\n",
    "    row = data.iloc[i, :]\n",
    "    y = np.array(row)\n",
    "    A = np.vstack([x, np.ones(len(x))]).T\n",
    "\n",
    "    # Perform least squares regression\n",
    "    coeffs, residuals, _, _ = np.linalg.lstsq(A, y, rcond=None)\n",
    "\n",
    "    # Append intercept and coefficient values\n",
    "    intercepts.append(coeffs[1])\n",
    "    coefficients.append(coeffs[0])\n",
    "\n",
    "# Create a dataframe from intercepts and coefficients\n",
    "result_df = pd.DataFrame({'I': intercepts, 'C': coefficients})\n",
    "\n",
    "# Display the resulting dataframe\n",
    "print(result_df)\n",
    "\n",
    "result_df.to_excel('region_8_coefficients.xlsx', index = False, header = None)\n",
    "\n"
   ]
  },
  {
   "cell_type": "code",
   "execution_count": 2,
   "id": "bf14dff6",
   "metadata": {},
   "outputs": [],
   "source": [
    "data = np.array(data)"
   ]
  },
  {
   "cell_type": "code",
   "execution_count": 3,
   "id": "5baff2e4",
   "metadata": {},
   "outputs": [],
   "source": [
    "result_df = np.array(result_df)"
   ]
  },
  {
   "cell_type": "code",
   "execution_count": 4,
   "id": "03a3c849",
   "metadata": {},
   "outputs": [
    {
     "data": {
      "text/plain": [
       "31.66795096774196"
      ]
     },
     "execution_count": 4,
     "metadata": {},
     "output_type": "execute_result"
    }
   ],
   "source": [
    "b = result_df[0,0]\n",
    "b"
   ]
  },
  {
   "cell_type": "code",
   "execution_count": 5,
   "id": "d96b8648",
   "metadata": {},
   "outputs": [
    {
     "name": "stdout",
     "output_type": "stream",
     "text": [
      "[[  0.11825242 -14.01654419  22.54365919 ... -31.24805274  19.10115065\n",
      "    5.32535403]\n",
      " [-11.85434456   9.88253089  -3.53719367 ...   3.21396786   1.72324331\n",
      "    3.72551875]\n",
      " [ -7.50448185  35.45299113  -2.71453589 ... -10.53923831  12.71523468\n",
      "    6.54770766]\n",
      " ...\n",
      " [ 52.87802621 -35.67791532 -12.02685685 ...   8.60066331  -0.95127823\n",
      "   -7.17621976]\n",
      " [  9.79592581  -6.35304516 -10.39301613 ...  -6.77826129   7.61976774\n",
      "  -10.76340323]\n",
      " [-11.66502823  -5.28386935  -5.33971048 ...  -5.07957984 -15.10442097\n",
      "   12.7767379 ]]\n"
     ]
    }
   ],
   "source": [
    "e_t = np.empty([1560, 31])\n",
    "\n",
    "for i in range(0, 1560):\n",
    "    b = result_df[i,0]\n",
    "    \n",
    "    coeff = result_df[i,1]\n",
    "    \n",
    "    for j in range(0, 31):\n",
    "        \n",
    "        e_t[i,j] = data[i,j] - b - coeff * (j+1)\n",
    "    \n",
    "    \n",
    "print(e_t)\n",
    "\n",
    "e_t = pd.DataFrame(e_t)\n",
    "e_t.to_excel('e_t.xlsx', index = None, header = None)"
   ]
  },
  {
   "cell_type": "code",
   "execution_count": 6,
   "id": "d038d22f",
   "metadata": {},
   "outputs": [
    {
     "data": {
      "text/plain": [
       "(1560, 31)"
      ]
     },
     "execution_count": 6,
     "metadata": {},
     "output_type": "execute_result"
    }
   ],
   "source": [
    "e_t.shape"
   ]
  },
  {
   "cell_type": "code",
   "execution_count": 7,
   "id": "f39df6ca",
   "metadata": {},
   "outputs": [
    {
     "name": "stdout",
     "output_type": "stream",
     "text": [
      "                I          C\n",
      "0      372.935719  -0.658733\n",
      "1       41.939291  -0.631933\n",
      "2      294.834291   0.683606\n",
      "3      144.359191  -2.677932\n",
      "4      228.296842   0.031594\n",
      "...           ...        ...\n",
      "1555   511.232344  -4.428564\n",
      "1556  1053.973376 -17.317884\n",
      "1557  1246.273331 -37.037731\n",
      "1558   100.074169  -0.234033\n",
      "1559   189.332692  -0.821398\n",
      "\n",
      "[1560 rows x 2 columns]\n"
     ]
    }
   ],
   "source": [
    "import numpy as np\n",
    "import pandas as pd\n",
    "\n",
    "# Load the numpy array\n",
    "x = np.arange(1, 32)\n",
    "\n",
    "# Load the CSV file\n",
    "e_t = pd.read_excel('e_t.xlsx', header = None)\n",
    "\n",
    "# Initialize empty lists to store intercept and coefficient values\n",
    "intercepts_var = []\n",
    "coefficients_var = []\n",
    "\n",
    "# Iterate over each row in the CSV file\n",
    "for i in range(len(data)):\n",
    "    row = e_t.iloc[i, :]\n",
    "    y = np.array(row)**2\n",
    "    A = np.vstack([x, np.ones(len(x))]).T\n",
    "\n",
    "    # Perform least squares regression\n",
    "    coeffs, residuals, _, _ = np.linalg.lstsq(A, y, rcond=None)\n",
    "\n",
    "    # Append intercept and coefficient values\n",
    "    intercepts_var.append(coeffs[1])\n",
    "    coefficients_var.append(coeffs[0])\n",
    "\n",
    "# Create a dataframe from intercepts and coefficients\n",
    "result_df_var = pd.DataFrame({'I': intercepts_var, 'C': coefficients_var})\n",
    "\n",
    "# Display the resulting dataframe\n",
    "print(result_df_var)\n",
    "\n",
    "result_df_var.to_excel('region_8_coefficients_variance.xlsx', index = False, header = None)\n",
    "\n"
   ]
  },
  {
   "cell_type": "code",
   "execution_count": 8,
   "id": "cc0d7e91",
   "metadata": {},
   "outputs": [
    {
     "name": "stderr",
     "output_type": "stream",
     "text": [
      "C:\\Users\\User\\AppData\\Local\\Temp\\ipykernel_8228\\2835429492.py:11: RuntimeWarning: invalid value encountered in double_scalars\n",
      "  s[i,j] = (bias + coef * (j+1))**0.5\n"
     ]
    }
   ],
   "source": [
    "results_var = np.array(pd.read_excel('region_8_coefficients_variance.xlsx', header = None))\n",
    "\n",
    "s = np.empty([1560, 31])\n",
    "\n",
    "for i in range(0, 1560):\n",
    "    bias = results_var[i,0]\n",
    "    coef = results_var[i,1]\n",
    "    \n",
    "    for j in range(0, 31):\n",
    "        \n",
    "        s[i,j] = (bias + coef * (j+1))**0.5\n",
    "\n",
    "s = pd.DataFrame(s)\n",
    "s\n",
    "\n",
    "s.to_excel('region_8_s.xlsx', index = False, header = None)"
   ]
  },
  {
   "cell_type": "code",
   "execution_count": 9,
   "id": "99d5eeba",
   "metadata": {},
   "outputs": [
    {
     "name": "stdout",
     "output_type": "stream",
     "text": [
      "[[32.11574758 32.56354419 33.01134081 ... 44.65405274 45.10184935\n",
      "  45.54964597]\n",
      " [16.71374456 16.63346911 16.55319367 ... 14.46603214 14.38575669\n",
      "  14.30548125]\n",
      " [35.75448185 36.29700887 36.83953589 ... 50.94523831 51.48776532\n",
      "  52.03029234]\n",
      " ...\n",
      " [54.78197379 53.80291532 52.82385685 ... 27.36833669 26.38927823\n",
      "  25.41021976]\n",
      " [35.17307419 34.65004516 34.12701613 ... 20.52826129 20.00523226\n",
      "  19.48220323]\n",
      " [25.00902823 25.03386935 25.05871048 ... 25.70457984 25.72942097\n",
      "  25.7542621 ]]\n"
     ]
    }
   ],
   "source": [
    "eta_t = np.empty([1560, 31])\n",
    "\n",
    "for i in range(0, 1560):\n",
    "    b = result_df[i,0]\n",
    "    \n",
    "    coeff = result_df[i,1]\n",
    "    \n",
    "    for j in range(0, 31):\n",
    "        \n",
    "        eta_t[i,j] = b + coeff * (j+1)\n",
    "    \n",
    "    \n",
    "print(eta_t)\n",
    "\n",
    "eta_t = pd.DataFrame(eta_t)\n",
    "eta_t.to_excel('eta_t.xlsx', index = None, header = None)"
   ]
  },
  {
   "cell_type": "code",
   "execution_count": 10,
   "id": "44039076",
   "metadata": {},
   "outputs": [],
   "source": [
    "s = np.array(s)\n",
    "eta_t = np.array(eta_t)"
   ]
  },
  {
   "cell_type": "code",
   "execution_count": 11,
   "id": "70719857",
   "metadata": {},
   "outputs": [
    {
     "name": "stdout",
     "output_type": "stream",
     "text": [
      "[[ 0.00612882 -0.72709713  1.17047233 ... -1.66120841  1.01640158\n",
      "   0.28363491]\n",
      " [-1.84443704  1.54953763 -0.55897562 ...  0.66139936  0.3594672\n",
      "   0.7880506 ]\n",
      " [-0.4365448   2.05996221 -0.15754382 ... -0.59414062  0.71603319\n",
      "   0.36832214]\n",
      " ...\n",
      " [ 1.52061676 -1.04207507 -0.35696331 ...  0.65545318 -0.08183015\n",
      "  -0.7245245 ]\n",
      " [ 0.98037653 -0.63655945 -1.0425801  ... -0.7017901   0.78990728\n",
      "  -1.11719971]\n",
      " [-0.84960509 -0.385684   -0.39061567 ... -0.39483246 -1.17698105\n",
      "   0.99809323]]\n"
     ]
    }
   ],
   "source": [
    "norm = np.empty([1560, 31])\n",
    "\n",
    "for i in range(0, 1560):\n",
    "    b = result_df[i,0]\n",
    "    \n",
    "    coeff = result_df[i,1]\n",
    "    \n",
    "    for j in range(0, 31):\n",
    "        \n",
    "        norm[i,j] = (data[i,j] - eta_t[i,j])/s[i,j]\n",
    "    \n",
    "    \n",
    "print(norm)\n",
    "\n",
    "norm = pd.DataFrame(norm)\n",
    "norm.to_excel('norm_region8.xlsx', index = None, header = None)"
   ]
  },
  {
   "cell_type": "code",
   "execution_count": 12,
   "id": "c6dbbfac",
   "metadata": {},
   "outputs": [],
   "source": [
    "region_8_basin = pd.read_csv('region8_basin.csv')\n",
    "rows_to_extract = np.array(region_8_basin[\"id\"])"
   ]
  },
  {
   "cell_type": "code",
   "execution_count": 13,
   "id": "ed7cb6df",
   "metadata": {},
   "outputs": [],
   "source": [
    "qt = 7.483\n",
    "\n",
    "Q_t = np.empty([230, 31])\n",
    "for i in range(230):\n",
    "    for j in range(31):\n",
    "        \n",
    "        Q_t[i, j] = eta_t[rows_to_extract[i]-1, j] + s[rows_to_extract[i]-1, j] * qt\n",
    "    "
   ]
  },
  {
   "cell_type": "code",
   "execution_count": 14,
   "id": "27650fa8",
   "metadata": {},
   "outputs": [],
   "source": [
    "Q_t = pd.DataFrame(Q_t)\n",
    "Q_t.to_excel(\"Quantile_Estimate_region_8.xlsx\", index = None, header = None)"
   ]
  },
  {
   "cell_type": "code",
   "execution_count": null,
   "id": "6733e0be",
   "metadata": {},
   "outputs": [],
   "source": []
  }
 ],
 "metadata": {
  "kernelspec": {
   "display_name": "Python 3 (ipykernel)",
   "language": "python",
   "name": "python3"
  },
  "language_info": {
   "codemirror_mode": {
    "name": "ipython",
    "version": 3
   },
   "file_extension": ".py",
   "mimetype": "text/x-python",
   "name": "python",
   "nbconvert_exporter": "python",
   "pygments_lexer": "ipython3",
   "version": "3.9.13"
  }
 },
 "nbformat": 4,
 "nbformat_minor": 5
}
