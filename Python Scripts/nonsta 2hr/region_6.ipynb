{
 "cells": [
  {
   "cell_type": "code",
   "execution_count": 1,
   "id": "bb60bf3c",
   "metadata": {},
   "outputs": [
    {
     "name": "stdout",
     "output_type": "stream",
     "text": [
      "              I         C\n",
      "0     10.728665  0.201586\n",
      "1     20.180060  0.408375\n",
      "2     14.795072  0.188776\n",
      "3     29.258314  0.373631\n",
      "4     22.224690  0.199645\n",
      "...         ...       ...\n",
      "1189  34.559916  0.337515\n",
      "1190  51.677265 -0.114226\n",
      "1191  51.046103  0.398891\n",
      "1192  25.140974 -0.108297\n",
      "1193  34.094019  0.395325\n",
      "\n",
      "[1194 rows x 2 columns]\n"
     ]
    }
   ],
   "source": [
    "import numpy as np\n",
    "import pandas as pd\n",
    "\n",
    "# Load the numpy array\n",
    "x = np.arange(1, 32)\n",
    "\n",
    "# Load the CSV file\n",
    "data = pd.read_csv('region6_hom2.csv', header = None)\n",
    "\n",
    "# Initialize empty lists to store intercept and coefficient values\n",
    "intercepts = []\n",
    "coefficients = []\n",
    "\n",
    "# Iterate over each row in the CSV file\n",
    "for i in range(len(data)):\n",
    "    row = data.iloc[i, :]\n",
    "    y = np.array(row)\n",
    "    A = np.vstack([x, np.ones(len(x))]).T\n",
    "\n",
    "    # Perform least squares regression\n",
    "    coeffs, residuals, _, _ = np.linalg.lstsq(A, y, rcond=None)\n",
    "\n",
    "    # Append intercept and coefficient values\n",
    "    intercepts.append(coeffs[1])\n",
    "    coefficients.append(coeffs[0])\n",
    "\n",
    "# Create a dataframe from intercepts and coefficients\n",
    "result_df = pd.DataFrame({'I': intercepts, 'C': coefficients})\n",
    "\n",
    "# Display the resulting dataframe\n",
    "print(result_df)\n",
    "\n",
    "result_df.to_excel('region_6_coefficients.xlsx', index = False, header = None)\n",
    "\n"
   ]
  },
  {
   "cell_type": "code",
   "execution_count": 2,
   "id": "bf14dff6",
   "metadata": {},
   "outputs": [],
   "source": [
    "data = np.array(data)"
   ]
  },
  {
   "cell_type": "code",
   "execution_count": 3,
   "id": "5baff2e4",
   "metadata": {},
   "outputs": [],
   "source": [
    "result_df = np.array(result_df)"
   ]
  },
  {
   "cell_type": "code",
   "execution_count": 4,
   "id": "03a3c849",
   "metadata": {},
   "outputs": [
    {
     "data": {
      "text/plain": [
       "10.728664516129038"
      ]
     },
     "execution_count": 4,
     "metadata": {},
     "output_type": "execute_result"
    }
   ],
   "source": [
    "b = result_df[0,0]\n",
    "b"
   ]
  },
  {
   "cell_type": "code",
   "execution_count": 5,
   "id": "d96b8648",
   "metadata": {},
   "outputs": [
    {
     "name": "stdout",
     "output_type": "stream",
     "text": [
      "[[-3.92508065e-02 -9.47563710e+00  8.27557661e+00 ...  1.40933306e+00\n",
      "  -5.90125323e+00  1.13341605e+01]\n",
      " [ 1.48175653e+01 -1.40124094e+01  1.98138160e+01 ... -6.92892565e+00\n",
      "  -2.19623003e+01  2.02853250e+01]\n",
      " [-6.35884758e+00 -1.04851235e+01  7.62260048e+00 ... -1.13789747e+01\n",
      "   5.35364935e+00 -6.39712661e+00]\n",
      " ...\n",
      " [ 5.46100605e+00 -3.42498847e+01  2.16322460e+00 ... -3.03479343e+01\n",
      "  -3.24348250e+01  6.55882843e+01]\n",
      " [ 3.37332258e+00 -6.48638065e+00 -9.01908387e+00 ... -5.59436774e+00\n",
      "  -1.42070968e-01 -1.12837742e+01]\n",
      " [-1.92344758e-01  1.81623298e+01 -1.36389956e+01 ...  6.49415440e+01\n",
      "   2.18272185e+01 -2.24111069e+01]]\n"
     ]
    }
   ],
   "source": [
    "e_t = np.empty([1194, 31])\n",
    "\n",
    "for i in range(0, 1194):\n",
    "    b = result_df[i,0]\n",
    "    \n",
    "    coeff = result_df[i,1]\n",
    "    \n",
    "    for j in range(0, 31):\n",
    "        \n",
    "        e_t[i,j] = data[i,j] - b - coeff * (j+1)\n",
    "    \n",
    "    \n",
    "print(e_t)\n",
    "\n",
    "e_t = pd.DataFrame(e_t)\n",
    "e_t.to_excel('e_t.xlsx', index = None, header = None)"
   ]
  },
  {
   "cell_type": "code",
   "execution_count": 6,
   "id": "d038d22f",
   "metadata": {},
   "outputs": [
    {
     "data": {
      "text/plain": [
       "(1194, 31)"
      ]
     },
     "execution_count": 6,
     "metadata": {},
     "output_type": "execute_result"
    }
   ],
   "source": [
    "e_t.shape"
   ]
  },
  {
   "cell_type": "code",
   "execution_count": 7,
   "id": "f39df6ca",
   "metadata": {},
   "outputs": [
    {
     "name": "stdout",
     "output_type": "stream",
     "text": [
      "                I          C\n",
      "0       59.812663  -0.712717\n",
      "1      191.926263  -1.729315\n",
      "2      132.194332  -3.154012\n",
      "3      467.068583  -5.041459\n",
      "4      117.218555   3.531524\n",
      "...           ...        ...\n",
      "1189   142.939995  22.663957\n",
      "1190  1292.557058 -29.263839\n",
      "1191  2275.815241 -45.362422\n",
      "1192    62.857075   5.680287\n",
      "1193   796.436299  -7.566563\n",
      "\n",
      "[1194 rows x 2 columns]\n"
     ]
    }
   ],
   "source": [
    "import numpy as np\n",
    "import pandas as pd\n",
    "\n",
    "# Load the numpy array\n",
    "x = np.arange(1, 32)\n",
    "\n",
    "# Load the CSV file\n",
    "e_t = pd.read_excel('e_t.xlsx', header = None)\n",
    "\n",
    "# Initialize empty lists to store intercept and coefficient values\n",
    "intercepts_var = []\n",
    "coefficients_var = []\n",
    "\n",
    "# Iterate over each row in the CSV file\n",
    "for i in range(len(data)):\n",
    "    row = e_t.iloc[i, :]\n",
    "    y = np.array(row)**2\n",
    "    A = np.vstack([x, np.ones(len(x))]).T\n",
    "\n",
    "    # Perform least squares regression\n",
    "    coeffs, residuals, _, _ = np.linalg.lstsq(A, y, rcond=None)\n",
    "\n",
    "    # Append intercept and coefficient values\n",
    "    intercepts_var.append(coeffs[1])\n",
    "    coefficients_var.append(coeffs[0])\n",
    "\n",
    "# Create a dataframe from intercepts and coefficients\n",
    "result_df_var = pd.DataFrame({'I': intercepts_var, 'C': coefficients_var})\n",
    "\n",
    "# Display the resulting dataframe\n",
    "print(result_df_var)\n",
    "\n",
    "result_df_var.to_excel('region_6_coefficients_variance.xlsx', index = False, header = None)\n",
    "\n"
   ]
  },
  {
   "cell_type": "code",
   "execution_count": 8,
   "id": "cc0d7e91",
   "metadata": {},
   "outputs": [
    {
     "name": "stderr",
     "output_type": "stream",
     "text": [
      "C:\\Users\\User\\AppData\\Local\\Temp\\ipykernel_8128\\2862607078.py:11: RuntimeWarning: invalid value encountered in double_scalars\n",
      "  s[i,j] = (bias + coef * (j+1))**0.5\n"
     ]
    }
   ],
   "source": [
    "results_var = np.array(pd.read_excel('region_6_coefficients_variance.xlsx', header = None))\n",
    "\n",
    "s = np.empty([1194, 31])\n",
    "\n",
    "for i in range(0, 1194):\n",
    "    bias = results_var[i,0]\n",
    "    coef = results_var[i,1]\n",
    "    \n",
    "    for j in range(0, 31):\n",
    "        \n",
    "        s[i,j] = (bias + coef * (j+1))**0.5\n",
    "\n",
    "s = pd.DataFrame(s)\n",
    "s\n",
    "\n",
    "s.to_excel('region_6_s.xlsx', index = False, header = None)"
   ]
  },
  {
   "cell_type": "code",
   "execution_count": 9,
   "id": "99d5eeba",
   "metadata": {},
   "outputs": [
    {
     "name": "stdout",
     "output_type": "stream",
     "text": [
      "[[10.93025081 11.1318371  11.33342339 ... 16.57466694 16.77625323\n",
      "  16.97783952]\n",
      " [20.58843468 20.99680935 21.40518403 ... 32.02292565 32.43130032\n",
      "  32.839675  ]\n",
      " [14.98384758 15.17262355 15.36139952 ... 20.26957468 20.45835065\n",
      "  20.64712661]\n",
      " ...\n",
      " [51.44499395 51.84388468 52.2427754  ... 62.61393427 63.012825\n",
      "  63.41171573]\n",
      " [25.03267742 24.92438065 24.81608387 ... 22.00036774 21.89207097\n",
      "  21.78377419]\n",
      " [34.48934476 34.88467016 35.27999556 ... 45.55845605 45.95378145\n",
      "  46.34910685]]\n"
     ]
    }
   ],
   "source": [
    "eta_t = np.empty([1194, 31])\n",
    "\n",
    "for i in range(0, 1194):\n",
    "    b = result_df[i,0]\n",
    "    \n",
    "    coeff = result_df[i,1]\n",
    "    \n",
    "    for j in range(0, 31):\n",
    "        \n",
    "        eta_t[i,j] = b + coeff * (j+1)\n",
    "    \n",
    "    \n",
    "print(eta_t)\n",
    "\n",
    "eta_t = pd.DataFrame(eta_t)\n",
    "eta_t.to_excel('eta_t.xlsx', index = None, header = None)"
   ]
  },
  {
   "cell_type": "code",
   "execution_count": 10,
   "id": "44039076",
   "metadata": {},
   "outputs": [],
   "source": [
    "s = np.array(s)\n",
    "eta_t = np.array(eta_t)"
   ]
  },
  {
   "cell_type": "code",
   "execution_count": 11,
   "id": "70719857",
   "metadata": {},
   "outputs": [
    {
     "name": "stdout",
     "output_type": "stream",
     "text": [
      "[[-0.0051057  -1.24007939  1.08969837 ...  0.22525882 -0.95192469\n",
      "   1.84549372]\n",
      " [ 1.07442246 -1.02069133  1.44994458 ... -0.5819214  -1.85584284\n",
      "   1.72481846]\n",
      " [-0.55977784 -0.93451075  0.68805591 ... -1.78302181  0.87338625\n",
      "  -1.09038468]\n",
      " ...\n",
      " [ 0.11563149 -0.73269699  0.04676515 ... -0.97931982 -1.07229589\n",
      "   2.22418784]\n",
      " [ 0.40746863 -0.75292001 -1.00900809 ... -0.37083338 -0.00930208\n",
      "  -0.7299692 ]\n",
      " [-0.00684822  0.64977315 -0.49032701 ...  2.70353788  0.91469149\n",
      "  -0.94546245]]\n"
     ]
    }
   ],
   "source": [
    "norm = np.empty([1194, 31])\n",
    "\n",
    "for i in range(0, 1194):\n",
    "    b = result_df[i,0]\n",
    "    \n",
    "    coeff = result_df[i,1]\n",
    "    \n",
    "    for j in range(0, 31):\n",
    "        \n",
    "        norm[i,j] = (data[i,j] - eta_t[i,j])/s[i,j]\n",
    "    \n",
    "    \n",
    "print(norm)\n",
    "\n",
    "norm = pd.DataFrame(norm)\n",
    "norm.to_excel('norm_region6.xlsx', index = None, header = None)"
   ]
  },
  {
   "cell_type": "code",
   "execution_count": 12,
   "id": "c6dbbfac",
   "metadata": {},
   "outputs": [],
   "source": [
    "region_6_basin = pd.read_csv('region6_basin.csv')\n",
    "rows_to_extract = np.array(region_6_basin[\"id\"])"
   ]
  },
  {
   "cell_type": "code",
   "execution_count": 13,
   "id": "ed7cb6df",
   "metadata": {},
   "outputs": [],
   "source": [
    "qt = 11.533\n",
    "\n",
    "Q_t = np.empty([124, 31])\n",
    "for i in range(124):\n",
    "    for j in range(31):\n",
    "        \n",
    "        Q_t[i, j] = eta_t[rows_to_extract[i]-1, j] + s[rows_to_extract[i]-1, j] * qt\n",
    "    "
   ]
  },
  {
   "cell_type": "code",
   "execution_count": 14,
   "id": "27650fa8",
   "metadata": {},
   "outputs": [],
   "source": [
    "Q_t = pd.DataFrame(Q_t)\n",
    "Q_t.to_excel(\"Quantile_Estimate_region_6.xlsx\", index = None, header = None)"
   ]
  },
  {
   "cell_type": "code",
   "execution_count": null,
   "id": "6733e0be",
   "metadata": {},
   "outputs": [],
   "source": []
  }
 ],
 "metadata": {
  "kernelspec": {
   "display_name": "Python 3 (ipykernel)",
   "language": "python",
   "name": "python3"
  },
  "language_info": {
   "codemirror_mode": {
    "name": "ipython",
    "version": 3
   },
   "file_extension": ".py",
   "mimetype": "text/x-python",
   "name": "python",
   "nbconvert_exporter": "python",
   "pygments_lexer": "ipython3",
   "version": "3.9.13"
  }
 },
 "nbformat": 4,
 "nbformat_minor": 5
}
