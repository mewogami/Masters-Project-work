{
 "cells": [
  {
   "cell_type": "code",
   "execution_count": 1,
   "id": "bb60bf3c",
   "metadata": {},
   "outputs": [
    {
     "name": "stdout",
     "output_type": "stream",
     "text": [
      "             I         C\n",
      "0    38.467501  1.044862\n",
      "1    21.293384  0.229599\n",
      "2    30.129002  0.923267\n",
      "3    46.796451  0.517670\n",
      "4    35.714310  0.781419\n",
      "..         ...       ...\n",
      "193  90.619713 -0.364354\n",
      "194  67.053476  0.492808\n",
      "195  56.686644  1.023335\n",
      "196  88.366906 -1.428166\n",
      "197  65.441375 -0.268035\n",
      "\n",
      "[198 rows x 2 columns]\n"
     ]
    }
   ],
   "source": [
    "import numpy as np\n",
    "import pandas as pd\n",
    "\n",
    "# Load the numpy array\n",
    "x = np.arange(1, 31)\n",
    "\n",
    "# Load the CSV file\n",
    "data = pd.read_csv('region11_hom2.csv', header = None)\n",
    "\n",
    "# Initialize empty lists to store intercept and coefficient values\n",
    "intercepts = []\n",
    "coefficients = []\n",
    "\n",
    "# Iterate over each row in the CSV file\n",
    "for i in range(len(data)):\n",
    "    row = data.iloc[i, :]\n",
    "    y = np.array(row)\n",
    "    A = np.vstack([x, np.ones(len(x))]).T\n",
    "\n",
    "    # Perform least squares regression\n",
    "    coeffs, residuals, _, _ = np.linalg.lstsq(A, y, rcond=None)\n",
    "\n",
    "    # Append intercept and coefficient values\n",
    "    intercepts.append(coeffs[1])\n",
    "    coefficients.append(coeffs[0])\n",
    "\n",
    "# Create a dataframe from intercepts and coefficients\n",
    "result_df = pd.DataFrame({'I': intercepts, 'C': coefficients})\n",
    "\n",
    "# Display the resulting dataframe\n",
    "print(result_df)\n",
    "\n",
    "result_df.to_excel('region_11_coefficients.xlsx', index = False, header = None)\n",
    "\n"
   ]
  },
  {
   "cell_type": "code",
   "execution_count": 2,
   "id": "bf14dff6",
   "metadata": {},
   "outputs": [],
   "source": [
    "data = np.array(data)"
   ]
  },
  {
   "cell_type": "code",
   "execution_count": 3,
   "id": "5baff2e4",
   "metadata": {},
   "outputs": [],
   "source": [
    "result_df = np.array(result_df)"
   ]
  },
  {
   "cell_type": "code",
   "execution_count": 4,
   "id": "03a3c849",
   "metadata": {},
   "outputs": [
    {
     "data": {
      "text/plain": [
       "38.4675011494253"
      ]
     },
     "execution_count": 4,
     "metadata": {},
     "output_type": "execute_result"
    }
   ],
   "source": [
    "b = result_df[0,0]\n",
    "b"
   ]
  },
  {
   "cell_type": "code",
   "execution_count": 5,
   "id": "d96b8648",
   "metadata": {},
   "outputs": [
    {
     "name": "stdout",
     "output_type": "stream",
     "text": [
      "[[-17.73136344   6.77077427  80.12791198 ...  52.11635469  25.7004924\n",
      "  -12.68836989]\n",
      " [ -3.8749828   -5.67458168  13.55681943 ...  -4.94115276 -11.07675165\n",
      "   14.78764946]\n",
      " [-11.27126882  -4.92853534  34.75719815 ...  31.09753519 -18.15373133\n",
      "   -8.76499785]\n",
      " ...\n",
      " [  8.02402151 -37.21731331   3.41535187 ... -25.07401854   0.62064664\n",
      "   17.08331183]\n",
      " [ 77.90126022 -54.32257382 -33.03540786 ...  15.63774119  21.98790716\n",
      "   10.10307312]\n",
      " [-40.73533978   3.68869514 -36.34826993 ... -17.84239674  30.69063819\n",
      "  -22.05632688]]\n"
     ]
    }
   ],
   "source": [
    "e_t = np.empty([198, 30])\n",
    "\n",
    "for i in range(0, 198):\n",
    "    b = result_df[i,0]\n",
    "    \n",
    "    coeff = result_df[i,1]\n",
    "    \n",
    "    for j in range(0, 30):\n",
    "        \n",
    "        e_t[i,j] = data[i,j] - b - coeff * (j+1)\n",
    "    \n",
    "    \n",
    "print(e_t)\n",
    "\n",
    "e_t = pd.DataFrame(e_t)\n",
    "e_t.to_excel('e_t.xlsx', index = None, header = None)"
   ]
  },
  {
   "cell_type": "code",
   "execution_count": 6,
   "id": "d038d22f",
   "metadata": {},
   "outputs": [
    {
     "data": {
      "text/plain": [
       "(198, 30)"
      ]
     },
     "execution_count": 6,
     "metadata": {},
     "output_type": "execute_result"
    }
   ],
   "source": [
    "e_t.shape"
   ]
  },
  {
   "cell_type": "code",
   "execution_count": 7,
   "id": "f39df6ca",
   "metadata": {},
   "outputs": [
    {
     "name": "stdout",
     "output_type": "stream",
     "text": [
      "               I           C\n",
      "0    1315.196138  -14.282178\n",
      "1      54.343929    3.454346\n",
      "2     137.147344   15.903278\n",
      "3     358.917484   22.693760\n",
      "4     750.103171   -2.772801\n",
      "..           ...         ...\n",
      "193  6594.633570 -217.353890\n",
      "194  1421.272660   52.310590\n",
      "195   746.537543   74.880168\n",
      "196  4812.435088 -165.059942\n",
      "197  3318.088789  -96.989409\n",
      "\n",
      "[198 rows x 2 columns]\n"
     ]
    }
   ],
   "source": [
    "import numpy as np\n",
    "import pandas as pd\n",
    "\n",
    "# Load the numpy array\n",
    "x = np.arange(1, 31)\n",
    "\n",
    "# Load the CSV file\n",
    "e_t = pd.read_excel('e_t.xlsx', header = None)\n",
    "\n",
    "# Initialize empty lists to store intercept and coefficient values\n",
    "intercepts_var = []\n",
    "coefficients_var = []\n",
    "\n",
    "# Iterate over each row in the CSV file\n",
    "for i in range(len(data)):\n",
    "    row = e_t.iloc[i, :]\n",
    "    y = np.array(row)**2\n",
    "    A = np.vstack([x, np.ones(len(x))]).T\n",
    "\n",
    "    # Perform least squares regression\n",
    "    coeffs, residuals, _, _ = np.linalg.lstsq(A, y, rcond=None)\n",
    "\n",
    "    # Append intercept and coefficient values\n",
    "    intercepts_var.append(coeffs[1])\n",
    "    coefficients_var.append(coeffs[0])\n",
    "\n",
    "# Create a dataframe from intercepts and coefficients\n",
    "result_df_var = pd.DataFrame({'I': intercepts_var, 'C': coefficients_var})\n",
    "\n",
    "# Display the resulting dataframe\n",
    "print(result_df_var)\n",
    "\n",
    "result_df_var.to_excel('region_11_coefficients_variance.xlsx', index = False, header = None)\n",
    "\n"
   ]
  },
  {
   "cell_type": "code",
   "execution_count": 8,
   "id": "cc0d7e91",
   "metadata": {},
   "outputs": [
    {
     "name": "stderr",
     "output_type": "stream",
     "text": [
      "C:\\Users\\User\\AppData\\Local\\Temp\\ipykernel_12724\\1994864202.py:11: RuntimeWarning: invalid value encountered in double_scalars\n",
      "  s[i,j] = (bias + coef * (j+1))**0.5\n"
     ]
    }
   ],
   "source": [
    "results_var = np.array(pd.read_excel('region_11_coefficients_variance.xlsx', header = None))\n",
    "\n",
    "s = np.empty([198, 30])\n",
    "\n",
    "for i in range(0, 198):\n",
    "    bias = results_var[i,0]\n",
    "    coef = results_var[i,1]\n",
    "    \n",
    "    for j in range(0, 30):\n",
    "        \n",
    "        s[i,j] = (bias + coef * (j+1))**0.5\n",
    "\n",
    "s = pd.DataFrame(s)\n",
    "s\n",
    "\n",
    "s.to_excel('region_11_s.xlsx', index = False, header = None)"
   ]
  },
  {
   "cell_type": "code",
   "execution_count": 9,
   "id": "99d5eeba",
   "metadata": {},
   "outputs": [
    {
     "name": "stdout",
     "output_type": "stream",
     "text": [
      "[[39.51236344 40.55722573 41.60208802 ... 67.72364531 68.7685076\n",
      "  69.81336989]\n",
      " [21.5229828  21.75258168 21.98218057 ... 27.72215276 27.95175165\n",
      "  28.18135054]\n",
      " [31.05226882 31.97553534 32.89880185 ... 55.98046481 56.90373133\n",
      "  57.82699785]\n",
      " ...\n",
      " [57.70997849 58.73331331 59.75664813 ... 85.34001854 86.36335336\n",
      "  87.38668817]\n",
      " [86.93873978 85.51057382 84.08240786 ... 48.37825881 46.95009284\n",
      "  45.52192688]\n",
      " [65.17333978 64.90530486 64.63726993 ... 57.93639674 57.66836181\n",
      "  57.40032688]]\n"
     ]
    }
   ],
   "source": [
    "eta_t = np.empty([198, 30])\n",
    "\n",
    "for i in range(0, 198):\n",
    "    b = result_df[i,0]\n",
    "    \n",
    "    coeff = result_df[i,1]\n",
    "    \n",
    "    for j in range(0, 30):\n",
    "        \n",
    "        eta_t[i,j] = b + coeff * (j+1)\n",
    "    \n",
    "    \n",
    "print(eta_t)\n",
    "\n",
    "eta_t = pd.DataFrame(eta_t)\n",
    "eta_t.to_excel('eta_t.xlsx', index = None, header = None)"
   ]
  },
  {
   "cell_type": "code",
   "execution_count": 10,
   "id": "44039076",
   "metadata": {},
   "outputs": [],
   "source": [
    "s = np.array(s)\n",
    "eta_t = np.array(eta_t)"
   ]
  },
  {
   "cell_type": "code",
   "execution_count": 11,
   "id": "70719857",
   "metadata": {},
   "outputs": [
    {
     "name": "stdout",
     "output_type": "stream",
     "text": [
      "[[-0.49160676  0.18876053  2.24636641 ...  1.72263574  0.85620138\n",
      "  -0.42609843]\n",
      " [-0.50969731 -0.72505593  1.68531966 ... -0.40201796 -0.891087\n",
      "   1.17653784]\n",
      " [-0.91107737 -0.37916982  2.556387   ...  1.28854829 -0.74214884\n",
      "  -0.35365578]\n",
      " ...\n",
      " [ 0.27996907 -1.24313655  0.10959381 ... -0.47024219  0.01148939\n",
      "   0.31226469]\n",
      " [ 1.14272208 -0.81138905 -0.50277747 ...  1.13222853  4.33755019\n",
      "          nan]\n",
      " [-0.71774352  0.06599478 -0.66064612 ... -0.72696918  1.36518043\n",
      "  -1.09140731]]\n"
     ]
    }
   ],
   "source": [
    "norm = np.empty([198, 30])\n",
    "\n",
    "for i in range(0, 198):\n",
    "    b = result_df[i,0]\n",
    "    \n",
    "    coeff = result_df[i,1]\n",
    "    \n",
    "    for j in range(0, 30):\n",
    "        \n",
    "        norm[i,j] = (data[i,j] - eta_t[i,j])/s[i,j]\n",
    "    \n",
    "    \n",
    "print(norm)\n",
    "\n",
    "norm = pd.DataFrame(norm)\n",
    "norm.to_excel('norm_region11.xlsx', index = None, header = None)"
   ]
  },
  {
   "cell_type": "code",
   "execution_count": 12,
   "id": "c6dbbfac",
   "metadata": {},
   "outputs": [],
   "source": [
    "region_11_basin = pd.read_csv('region11_basin.csv')\n",
    "rows_to_extract = np.array(region_11_basin[\"id\"])"
   ]
  },
  {
   "cell_type": "code",
   "execution_count": 13,
   "id": "ed7cb6df",
   "metadata": {},
   "outputs": [],
   "source": [
    "qt = 22.17\n",
    "\n",
    "Q_t = np.empty([54, 30])\n",
    "for i in range(54):\n",
    "    for j in range(30):\n",
    "        \n",
    "        Q_t[i, j] = eta_t[rows_to_extract[i]-1, j] + s[rows_to_extract[i]-1, j] * qt\n",
    "    "
   ]
  },
  {
   "cell_type": "code",
   "execution_count": 14,
   "id": "27650fa8",
   "metadata": {},
   "outputs": [],
   "source": [
    "Q_t = pd.DataFrame(Q_t)\n",
    "Q_t.to_excel(\"Quantile_Estimate_region_11.xlsx\", index = None, header = None)"
   ]
  },
  {
   "cell_type": "code",
   "execution_count": null,
   "id": "6733e0be",
   "metadata": {},
   "outputs": [],
   "source": []
  }
 ],
 "metadata": {
  "kernelspec": {
   "display_name": "Python 3 (ipykernel)",
   "language": "python",
   "name": "python3"
  },
  "language_info": {
   "codemirror_mode": {
    "name": "ipython",
    "version": 3
   },
   "file_extension": ".py",
   "mimetype": "text/x-python",
   "name": "python",
   "nbconvert_exporter": "python",
   "pygments_lexer": "ipython3",
   "version": "3.9.13"
  }
 },
 "nbformat": 4,
 "nbformat_minor": 5
}
