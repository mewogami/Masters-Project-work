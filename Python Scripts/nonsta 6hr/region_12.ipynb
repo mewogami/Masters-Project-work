{
 "cells": [
  {
   "cell_type": "code",
   "execution_count": 1,
   "id": "bb60bf3c",
   "metadata": {},
   "outputs": [
    {
     "name": "stdout",
     "output_type": "stream",
     "text": [
      "              I         C\n",
      "0     39.384267  1.597000\n",
      "1     68.200933 -0.254161\n",
      "2     53.299857  0.929953\n",
      "3     62.195818  0.540029\n",
      "4     52.243287 -0.094679\n",
      "...         ...       ...\n",
      "2637  77.254830 -0.945561\n",
      "2638  78.231706 -0.330063\n",
      "2639  66.439099  0.110247\n",
      "2640  44.650317  0.032076\n",
      "2641  40.723379 -0.077212\n",
      "\n",
      "[2642 rows x 2 columns]\n"
     ]
    }
   ],
   "source": [
    "import numpy as np\n",
    "import pandas as pd\n",
    "\n",
    "# Load the numpy array\n",
    "x = np.arange(1, 31)\n",
    "\n",
    "# Load the CSV file\n",
    "data = pd.read_csv('region12_hom2.csv', header = None)\n",
    "\n",
    "# Initialize empty lists to store intercept and coefficient values\n",
    "intercepts = []\n",
    "coefficients = []\n",
    "\n",
    "# Iterate over each row in the CSV file\n",
    "for i in range(len(data)):\n",
    "    row = data.iloc[i, :]\n",
    "    y = np.array(row)\n",
    "    A = np.vstack([x, np.ones(len(x))]).T\n",
    "\n",
    "    # Perform least squares regression\n",
    "    coeffs, residuals, _, _ = np.linalg.lstsq(A, y, rcond=None)\n",
    "\n",
    "    # Append intercept and coefficient values\n",
    "    intercepts.append(coeffs[1])\n",
    "    coefficients.append(coeffs[0])\n",
    "\n",
    "# Create a dataframe from intercepts and coefficients\n",
    "result_df = pd.DataFrame({'I': intercepts, 'C': coefficients})\n",
    "\n",
    "# Display the resulting dataframe\n",
    "print(result_df)\n",
    "\n",
    "result_df.to_excel('region_12_coefficients.xlsx', index = False, header = None)\n",
    "\n"
   ]
  },
  {
   "cell_type": "code",
   "execution_count": 2,
   "id": "bf14dff6",
   "metadata": {},
   "outputs": [],
   "source": [
    "data = np.array(data)"
   ]
  },
  {
   "cell_type": "code",
   "execution_count": 3,
   "id": "5baff2e4",
   "metadata": {},
   "outputs": [],
   "source": [
    "result_df = np.array(result_df)"
   ]
  },
  {
   "cell_type": "code",
   "execution_count": 4,
   "id": "03a3c849",
   "metadata": {},
   "outputs": [
    {
     "data": {
      "text/plain": [
       "39.38426666666666"
      ]
     },
     "execution_count": 4,
     "metadata": {},
     "output_type": "execute_result"
    }
   ],
   "source": [
    "b = result_df[0,0]\n",
    "b"
   ]
  },
  {
   "cell_type": "code",
   "execution_count": 6,
   "id": "d96b8648",
   "metadata": {},
   "outputs": [
    {
     "name": "stdout",
     "output_type": "stream",
     "text": [
      "[[ 12.57373333  -6.21926667  11.01273333 ...  32.48973333  16.59273333\n",
      "   22.48573333]\n",
      " [ 76.61322796  30.36938925   7.49955054 ...  -4.9434172  -33.61125591\n",
      "   54.01390538]\n",
      " [ 11.17618925 -17.44076403  16.88728268 ...   7.70845065 -57.53450263\n",
      "   36.69154409]\n",
      " ...\n",
      " [ 35.04065376   5.60640638  25.29215899 ...  71.00397434   3.28572696\n",
      "  -33.96552043]\n",
      " [-22.65139355   9.86353014 -18.74654616 ...  24.35754616   8.07546986\n",
      "  -17.80060645]\n",
      " [-18.14616774 -13.34995617 -10.67974461 ...  26.73554461   0.10975617\n",
      "  -24.04803226]]\n"
     ]
    }
   ],
   "source": [
    "e_t = np.empty([2642, 30])\n",
    "\n",
    "for i in range(0, 2642):\n",
    "    b = result_df[i,0]\n",
    "    \n",
    "    coeff = result_df[i,1]\n",
    "    \n",
    "    for j in range(0, 30):\n",
    "        \n",
    "        e_t[i,j] = data[i,j] - b - coeff * (j+1)\n",
    "    \n",
    "    \n",
    "print(e_t)\n",
    "\n",
    "e_t = pd.DataFrame(e_t)\n",
    "e_t.to_excel('e_t.xlsx', index = None, header = None)"
   ]
  },
  {
   "cell_type": "code",
   "execution_count": 7,
   "id": "d038d22f",
   "metadata": {},
   "outputs": [
    {
     "data": {
      "text/plain": [
       "(2642, 30)"
      ]
     },
     "execution_count": 7,
     "metadata": {},
     "output_type": "execute_result"
    }
   ],
   "source": [
    "e_t.shape"
   ]
  },
  {
   "cell_type": "code",
   "execution_count": 8,
   "id": "f39df6ca",
   "metadata": {},
   "outputs": [
    {
     "name": "stdout",
     "output_type": "stream",
     "text": [
      "                I          C\n",
      "0     1224.080256  -7.782188\n",
      "1     1565.981875 -21.118691\n",
      "2      709.304347  29.621477\n",
      "3     1491.696110   9.782546\n",
      "4      947.870760 -20.054619\n",
      "...           ...        ...\n",
      "2637  1211.998659  -4.554097\n",
      "2638  3438.271716 -98.337708\n",
      "2639   606.937529  53.625313\n",
      "2640   768.822040 -11.208608\n",
      "2641   457.275296  -2.260429\n",
      "\n",
      "[2642 rows x 2 columns]\n"
     ]
    }
   ],
   "source": [
    "import numpy as np\n",
    "import pandas as pd\n",
    "\n",
    "# Load the numpy array\n",
    "x = np.arange(1, 31)\n",
    "\n",
    "# Load the CSV file\n",
    "e_t = pd.read_excel('e_t.xlsx', header = None)\n",
    "\n",
    "# Initialize empty lists to store intercept and coefficient values\n",
    "intercepts_var = []\n",
    "coefficients_var = []\n",
    "\n",
    "# Iterate over each row in the CSV file\n",
    "for i in range(len(data)):\n",
    "    row = e_t.iloc[i, :]\n",
    "    y = np.array(row)**2\n",
    "    A = np.vstack([x, np.ones(len(x))]).T\n",
    "\n",
    "    # Perform least squares regression\n",
    "    coeffs, residuals, _, _ = np.linalg.lstsq(A, y, rcond=None)\n",
    "\n",
    "    # Append intercept and coefficient values\n",
    "    intercepts_var.append(coeffs[1])\n",
    "    coefficients_var.append(coeffs[0])\n",
    "\n",
    "# Create a dataframe from intercepts and coefficients\n",
    "result_df_var = pd.DataFrame({'I': intercepts_var, 'C': coefficients_var})\n",
    "\n",
    "# Display the resulting dataframe\n",
    "print(result_df_var)\n",
    "\n",
    "result_df_var.to_excel('region_12_coefficients_variance.xlsx', index = False, header = None)\n",
    "\n"
   ]
  },
  {
   "cell_type": "code",
   "execution_count": 9,
   "id": "cc0d7e91",
   "metadata": {},
   "outputs": [
    {
     "name": "stderr",
     "output_type": "stream",
     "text": [
      "C:\\Users\\User\\AppData\\Local\\Temp\\ipykernel_12412\\484302632.py:11: RuntimeWarning: invalid value encountered in double_scalars\n",
      "  s[i,j] = (bias + coef * (j+1))**0.5\n"
     ]
    }
   ],
   "source": [
    "results_var = np.array(pd.read_excel('region_12_coefficients_variance.xlsx', header = None))\n",
    "\n",
    "s = np.empty([2642, 30])\n",
    "\n",
    "for i in range(0, 2642):\n",
    "    bias = results_var[i,0]\n",
    "    coef = results_var[i,1]\n",
    "    \n",
    "    for j in range(0, 30):\n",
    "        \n",
    "        s[i,j] = (bias + coef * (j+1))**0.5\n",
    "\n",
    "s = pd.DataFrame(s)\n",
    "s\n",
    "\n",
    "s.to_excel('region_12_s.xlsx', index = False, header = None)"
   ]
  },
  {
   "cell_type": "code",
   "execution_count": 13,
   "id": "99d5eeba",
   "metadata": {},
   "outputs": [
    {
     "name": "stdout",
     "output_type": "stream",
     "text": [
      "[[40.98126667 42.57826667 44.17526667 ... 84.10026667 85.69726667\n",
      "  87.29426667]\n",
      " [67.94677204 67.69261075 67.43844946 ... 61.0844172  60.83025591\n",
      "  60.57609462]\n",
      " [54.22981075 55.15976403 56.08971732 ... 79.33854935 80.26850263\n",
      "  81.19845591]\n",
      " ...\n",
      " [66.54934624 66.65959362 66.76984101 ... 69.52602566 69.63627304\n",
      "  69.74652043]\n",
      " [44.68239355 44.71446986 44.74654616 ... 45.54845384 45.58053014\n",
      "  45.61260645]\n",
      " [40.64616774 40.56895617 40.49174461 ... 38.56145539 38.48424383\n",
      "  38.40703226]]\n"
     ]
    }
   ],
   "source": [
    "eta_t = np.empty([2642, 30])\n",
    "\n",
    "for i in range(0, 2642):\n",
    "    b = result_df[i,0]\n",
    "    \n",
    "    coeff = result_df[i,1]\n",
    "    \n",
    "    for j in range(0, 30):\n",
    "        \n",
    "        eta_t[i,j] = b + coeff * (j+1)\n",
    "    \n",
    "    \n",
    "print(eta_t)\n",
    "\n",
    "eta_t = pd.DataFrame(eta_t)\n",
    "eta_t.to_excel('eta_t.xlsx', index = None, header = None)"
   ]
  },
  {
   "cell_type": "code",
   "execution_count": 14,
   "id": "44039076",
   "metadata": {},
   "outputs": [],
   "source": [
    "s = np.array(s)\n",
    "eta_t = np.array(eta_t)"
   ]
  },
  {
   "cell_type": "code",
   "execution_count": 15,
   "id": "70719857",
   "metadata": {},
   "outputs": [
    {
     "name": "stdout",
     "output_type": "stream",
     "text": [
      "[[ 0.36053235 -0.17890109  0.31781309 ...  1.02425602  0.52512941\n",
      "   0.71442178]\n",
      " [ 1.94921053  0.77800069  0.1934683  ... -0.15834378 -1.08846713\n",
      "   1.76888468]\n",
      " [ 0.4111434  -0.62911524  0.59774012 ...  0.19651211 -1.45281404\n",
      "   0.91787719]\n",
      " ...\n",
      " [ 1.36337439  0.20978685  0.91276303 ...  1.54632717  0.07066371\n",
      "  -0.72157769]\n",
      " [-0.82294553  0.36103155 -0.69138449 ...  1.14192319  0.3833431\n",
      "  -0.85587376]\n",
      " [-0.85069157 -0.62740573 -0.50317188 ...  1.34694587  0.00554548\n",
      "  -1.21855959]]\n"
     ]
    }
   ],
   "source": [
    "norm = np.empty([2642, 30])\n",
    "\n",
    "for i in range(0, 2642):\n",
    "    b = result_df[i,0]\n",
    "    \n",
    "    coeff = result_df[i,1]\n",
    "    \n",
    "    for j in range(0, 30):\n",
    "        \n",
    "        norm[i,j] = (data[i,j] - eta_t[i,j])/s[i,j]\n",
    "    \n",
    "    \n",
    "print(norm)\n",
    "\n",
    "norm = pd.DataFrame(norm)\n",
    "norm.to_excel('norm_region12.xlsx', index = None, header = None)"
   ]
  },
  {
   "cell_type": "code",
   "execution_count": 16,
   "id": "c6dbbfac",
   "metadata": {},
   "outputs": [],
   "source": [
    "region_12_basin = pd.read_csv('region12_basin.csv')\n",
    "rows_to_extract = np.array(region_12_basin[\"id\"])"
   ]
  },
  {
   "cell_type": "code",
   "execution_count": 17,
   "id": "ed7cb6df",
   "metadata": {},
   "outputs": [],
   "source": [
    "qt = 11.83\n",
    "\n",
    "Q_t = np.empty([280, 30])\n",
    "for i in range(280):\n",
    "    for j in range(30):\n",
    "        \n",
    "        Q_t[i, j] = eta_t[rows_to_extract[i]-1, j] + s[rows_to_extract[i]-1, j] * qt\n",
    "    "
   ]
  },
  {
   "cell_type": "code",
   "execution_count": 18,
   "id": "27650fa8",
   "metadata": {},
   "outputs": [],
   "source": [
    "Q_t = pd.DataFrame(Q_t)\n",
    "Q_t.to_excel(\"Quantile_Estimate_region_12.xlsx\", index = None, header = None)"
   ]
  },
  {
   "cell_type": "code",
   "execution_count": null,
   "id": "6733e0be",
   "metadata": {},
   "outputs": [],
   "source": []
  }
 ],
 "metadata": {
  "kernelspec": {
   "display_name": "Python 3 (ipykernel)",
   "language": "python",
   "name": "python3"
  },
  "language_info": {
   "codemirror_mode": {
    "name": "ipython",
    "version": 3
   },
   "file_extension": ".py",
   "mimetype": "text/x-python",
   "name": "python",
   "nbconvert_exporter": "python",
   "pygments_lexer": "ipython3",
   "version": "3.9.13"
  }
 },
 "nbformat": 4,
 "nbformat_minor": 5
}
