{
 "cells": [
  {
   "cell_type": "code",
   "execution_count": 2,
   "id": "bb60bf3c",
   "metadata": {},
   "outputs": [
    {
     "name": "stdout",
     "output_type": "stream",
     "text": [
      "             I         C\n",
      "0    33.877653  1.044149\n",
      "1    32.492138  0.253527\n",
      "2    32.835336  0.498447\n",
      "3    24.794908  0.285244\n",
      "4    47.109505  0.162743\n",
      "..         ...       ...\n",
      "553  59.540356  1.120020\n",
      "554  57.818945  1.462900\n",
      "555  81.478469  0.511583\n",
      "556  77.338124  0.310063\n",
      "557  75.299959 -0.941907\n",
      "\n",
      "[558 rows x 2 columns]\n"
     ]
    }
   ],
   "source": [
    "import numpy as np\n",
    "import pandas as pd\n",
    "\n",
    "# Load the numpy array\n",
    "x = np.arange(1, 31)\n",
    "\n",
    "# Load the CSV file\n",
    "data = pd.read_csv('region7_hom2.csv', header = None)\n",
    "\n",
    "# Initialize empty lists to store intercept and coefficient values\n",
    "intercepts = []\n",
    "coefficients = []\n",
    "\n",
    "# Iterate over each row in the CSV file\n",
    "for i in range(len(data)):\n",
    "    row = data.iloc[i, :]\n",
    "    y = np.array(row)\n",
    "    A = np.vstack([x, np.ones(len(x))]).T\n",
    "\n",
    "    # Perform least squares regression\n",
    "    coeffs, residuals, _, _ = np.linalg.lstsq(A, y, rcond=None)\n",
    "\n",
    "    # Append intercept and coefficient values\n",
    "    intercepts.append(coeffs[1])\n",
    "    coefficients.append(coeffs[0])\n",
    "\n",
    "# Create a dataframe from intercepts and coefficients\n",
    "result_df = pd.DataFrame({'I': intercepts, 'C': coefficients})\n",
    "\n",
    "# Display the resulting dataframe\n",
    "print(result_df)\n",
    "\n",
    "result_df.to_excel('region_7_coefficients.xlsx', index = False, header = None)\n",
    "\n"
   ]
  },
  {
   "cell_type": "code",
   "execution_count": 3,
   "id": "bf14dff6",
   "metadata": {},
   "outputs": [],
   "source": [
    "data = np.array(data)"
   ]
  },
  {
   "cell_type": "code",
   "execution_count": 4,
   "id": "5baff2e4",
   "metadata": {},
   "outputs": [],
   "source": [
    "result_df = np.array(result_df)"
   ]
  },
  {
   "cell_type": "code",
   "execution_count": 5,
   "id": "03a3c849",
   "metadata": {},
   "outputs": [
    {
     "data": {
      "text/plain": [
       "33.87765287356323"
      ]
     },
     "execution_count": 5,
     "metadata": {},
     "output_type": "execute_result"
    }
   ],
   "source": [
    "b = result_df[0,0]\n",
    "b"
   ]
  },
  {
   "cell_type": "code",
   "execution_count": 6,
   "id": "d96b8648",
   "metadata": {},
   "outputs": [
    {
     "name": "stdout",
     "output_type": "stream",
     "text": [
      "[[ 36.10919785 -22.07095143  -0.9941007  ...  62.36616737 -13.31398191\n",
      "    2.26686882]\n",
      " [ 28.14533548 -18.0151911  -20.41671769 ...  15.75311769  -4.8444089\n",
      "  -10.06693548]\n",
      " [ 31.8382172  -18.08222996  10.23932288 ...  36.52014379 -15.56330337\n",
      "  -26.74175054]\n",
      " ...\n",
      " [ 37.19994839 -50.81363426 -26.00521691 ...  22.91721691 -27.48636574\n",
      "  -65.82594839]\n",
      " [ 24.4418129  -40.84925006 -19.69031301 ...  74.42011301 -46.50194994\n",
      "  -53.7570129 ]\n",
      " [-11.96705161  -8.96314461  -8.7012376  ...  30.8074376  -13.70365539\n",
      "   15.81625161]]\n"
     ]
    }
   ],
   "source": [
    "e_t = np.empty([558, 30])\n",
    "\n",
    "for i in range(0, 558):\n",
    "    b = result_df[i,0]\n",
    "    \n",
    "    coeff = result_df[i,1]\n",
    "    \n",
    "    for j in range(0, 30):\n",
    "        \n",
    "        e_t[i,j] = data[i,j] - b - coeff * (j+1)\n",
    "    \n",
    "    \n",
    "print(e_t)\n",
    "\n",
    "e_t = pd.DataFrame(e_t)\n",
    "e_t.to_excel('e_t.xlsx', index = None, header = None)"
   ]
  },
  {
   "cell_type": "code",
   "execution_count": 7,
   "id": "d038d22f",
   "metadata": {},
   "outputs": [
    {
     "data": {
      "text/plain": [
       "(558, 30)"
      ]
     },
     "execution_count": 7,
     "metadata": {},
     "output_type": "execute_result"
    }
   ],
   "source": [
    "e_t.shape"
   ]
  },
  {
   "cell_type": "code",
   "execution_count": 9,
   "id": "f39df6ca",
   "metadata": {},
   "outputs": [
    {
     "name": "stdout",
     "output_type": "stream",
     "text": [
      "               I           C\n",
      "0     853.987517    2.721679\n",
      "1     496.648084  -12.160578\n",
      "2     273.321700    4.792653\n",
      "3     336.820257   -6.483190\n",
      "4    1163.564983  -27.670519\n",
      "..           ...         ...\n",
      "553  -312.572772  149.874257\n",
      "554  -203.823658  185.779395\n",
      "555  2469.672077   74.857233\n",
      "556  3383.391282    4.368870\n",
      "557  2080.993071  -60.639730\n",
      "\n",
      "[558 rows x 2 columns]\n"
     ]
    }
   ],
   "source": [
    "import numpy as np\n",
    "import pandas as pd\n",
    "\n",
    "# Load the numpy array\n",
    "x = np.arange(1, 31)\n",
    "\n",
    "# Load the CSV file\n",
    "e_t = pd.read_excel('e_t.xlsx', header = None)\n",
    "\n",
    "# Initialize empty lists to store intercept and coefficient values\n",
    "intercepts_var = []\n",
    "coefficients_var = []\n",
    "\n",
    "# Iterate over each row in the CSV file\n",
    "for i in range(len(data)):\n",
    "    row = e_t.iloc[i, :]\n",
    "    y = np.array(row)**2\n",
    "    A = np.vstack([x, np.ones(len(x))]).T\n",
    "\n",
    "    # Perform least squares regression\n",
    "    coeffs, residuals, _, _ = np.linalg.lstsq(A, y, rcond=None)\n",
    "\n",
    "    # Append intercept and coefficient values\n",
    "    intercepts_var.append(coeffs[1])\n",
    "    coefficients_var.append(coeffs[0])\n",
    "\n",
    "# Create a dataframe from intercepts and coefficients\n",
    "result_df_var = pd.DataFrame({'I': intercepts_var, 'C': coefficients_var})\n",
    "\n",
    "# Display the resulting dataframe\n",
    "print(result_df_var)\n",
    "\n",
    "result_df_var.to_excel('region_7_coefficients_variance.xlsx', index = False, header = None)\n",
    "\n"
   ]
  },
  {
   "cell_type": "code",
   "execution_count": 11,
   "id": "cc0d7e91",
   "metadata": {},
   "outputs": [
    {
     "name": "stderr",
     "output_type": "stream",
     "text": [
      "C:\\Users\\User\\AppData\\Local\\Temp\\ipykernel_1728\\2616908135.py:11: RuntimeWarning: invalid value encountered in double_scalars\n",
      "  s[i,j] = (bias + coef * (j+1))**0.5\n"
     ]
    }
   ],
   "source": [
    "results_var = np.array(pd.read_excel('region_7_coefficients_variance.xlsx', header = None))\n",
    "\n",
    "s = np.empty([558, 30])\n",
    "\n",
    "for i in range(0, 558):\n",
    "    bias = results_var[i,0]\n",
    "    coef = results_var[i,1]\n",
    "    \n",
    "    for j in range(0, 30):\n",
    "        \n",
    "        s[i,j] = (bias + coef * (j+1))**0.5\n",
    "\n",
    "s = pd.DataFrame(s)\n",
    "s\n",
    "\n",
    "s.to_excel('region_7_s.xlsx', index = False, header = None)"
   ]
  },
  {
   "cell_type": "code",
   "execution_count": 13,
   "id": "99d5eeba",
   "metadata": {},
   "outputs": [
    {
     "name": "stdout",
     "output_type": "stream",
     "text": [
      "[[34.92180215 35.96595143 37.0101007  ... 63.11383263 64.15798191\n",
      "  65.20213118]\n",
      " [32.74566452 32.9991911  33.25271769 ... 39.59088231 39.8444089\n",
      "  40.09793548]\n",
      " [33.3337828  33.83222996 34.33067712 ... 46.79185621 47.29030337\n",
      "  47.78875054]\n",
      " ...\n",
      " [81.99005161 82.50163426 83.01321691 ... 95.80278309 96.31436574\n",
      "  96.82594839]\n",
      " [77.6481871  77.95825006 78.26831301 ... 86.01988699 86.32994994\n",
      "  86.6400129 ]\n",
      " [74.35805161 73.41614461 72.4742376  ... 48.9265624  47.98465539\n",
      "  47.04274839]]\n"
     ]
    }
   ],
   "source": [
    "eta_t = np.empty([558, 30])\n",
    "\n",
    "for i in range(0, 558):\n",
    "    b = result_df[i,0]\n",
    "    \n",
    "    coeff = result_df[i,1]\n",
    "    \n",
    "    for j in range(0, 30):\n",
    "        \n",
    "        eta_t[i,j] = b + coeff * (j+1)\n",
    "    \n",
    "    \n",
    "print(eta_t)\n",
    "\n",
    "eta_t = pd.DataFrame(eta_t)\n",
    "eta_t.to_excel('eta_t.xlsx', index = None, header = None)"
   ]
  },
  {
   "cell_type": "code",
   "execution_count": 14,
   "id": "44039076",
   "metadata": {},
   "outputs": [],
   "source": [
    "s = np.array(s)\n",
    "eta_t = np.array(eta_t)"
   ]
  },
  {
   "cell_type": "code",
   "execution_count": 15,
   "id": "70719857",
   "metadata": {},
   "outputs": [
    {
     "name": "stdout",
     "output_type": "stream",
     "text": [
      "[[ 1.23367603 -0.75286235 -0.03385621 ...  2.04485334 -0.43589977\n",
      "   0.07410926]\n",
      " [ 1.27868962 -0.82892936 -0.95176229 ...  1.2606452  -0.4037129\n",
      "  -0.87677655]\n",
      " [ 1.90913676 -1.07505365  0.60367274 ...  1.80908995 -0.7664619\n",
      "  -1.30939016]\n",
      " ...\n",
      " [ 0.73746024 -0.99284273 -0.50100497 ...  0.33916373 -0.40349062\n",
      "  -0.95860206]\n",
      " [ 0.41993018 -0.70137116 -0.33786013 ...  1.25690292 -0.78489603\n",
      "  -0.90678847]\n",
      " [-0.26624012 -0.20247159 -0.19966875 ...  1.57402084 -0.76315256\n",
      "   0.97750226]]\n"
     ]
    }
   ],
   "source": [
    "norm = np.empty([558, 30])\n",
    "\n",
    "for i in range(0, 558):\n",
    "    b = result_df[i,0]\n",
    "    \n",
    "    coeff = result_df[i,1]\n",
    "    \n",
    "    for j in range(0, 30):\n",
    "        \n",
    "        norm[i,j] = (data[i,j] - eta_t[i,j])/s[i,j]\n",
    "    \n",
    "    \n",
    "print(norm)\n",
    "\n",
    "norm = pd.DataFrame(norm)\n",
    "norm.to_excel('norm_region7.xlsx', index = None, header = None)"
   ]
  },
  {
   "cell_type": "code",
   "execution_count": 16,
   "id": "c6dbbfac",
   "metadata": {},
   "outputs": [],
   "source": [
    "region_7_basin = pd.read_csv('region7_basin.csv')\n",
    "rows_to_extract = np.array(region_7_basin[\"id\"])"
   ]
  },
  {
   "cell_type": "code",
   "execution_count": 17,
   "id": "ed7cb6df",
   "metadata": {},
   "outputs": [],
   "source": [
    "qt = 15.10\n",
    "\n",
    "Q_t = np.empty([54, 30])\n",
    "for i in range(54):\n",
    "    for j in range(30):\n",
    "        \n",
    "        Q_t[i, j] = eta_t[rows_to_extract[i]-1, j] + s[rows_to_extract[i]-1, j] * qt\n",
    "    "
   ]
  },
  {
   "cell_type": "code",
   "execution_count": 18,
   "id": "27650fa8",
   "metadata": {},
   "outputs": [],
   "source": [
    "Q_t = pd.DataFrame(Q_t)\n",
    "Q_t.to_excel(\"Quantile_Estimate_region_7.xlsx\", index = None, header = None)"
   ]
  },
  {
   "cell_type": "code",
   "execution_count": null,
   "id": "6733e0be",
   "metadata": {},
   "outputs": [],
   "source": []
  }
 ],
 "metadata": {
  "kernelspec": {
   "display_name": "Python 3 (ipykernel)",
   "language": "python",
   "name": "python3"
  },
  "language_info": {
   "codemirror_mode": {
    "name": "ipython",
    "version": 3
   },
   "file_extension": ".py",
   "mimetype": "text/x-python",
   "name": "python",
   "nbconvert_exporter": "python",
   "pygments_lexer": "ipython3",
   "version": "3.9.13"
  }
 },
 "nbformat": 4,
 "nbformat_minor": 5
}
