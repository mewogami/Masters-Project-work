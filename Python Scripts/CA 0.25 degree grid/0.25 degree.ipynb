{
 "cells": [
  {
   "cell_type": "code",
   "execution_count": 6,
   "id": "2af8def0",
   "metadata": {},
   "outputs": [
    {
     "name": "stdout",
     "output_type": "stream",
     "text": [
      "Starting CA Algorithm:\n",
      "Iteration number: 3, Cluster number: 25\n",
      "Iteration number: 4, Cluster number: 25\n",
      "Iteration number: 5, Cluster number: 22\n",
      "Iteration number: 6, Cluster number: 19\n",
      "Iteration number: 7, Cluster number: 16\n",
      "Iteration number: 8, Cluster number: 14\n",
      "Iteration number: 9, Cluster number: 14\n",
      "Iteration number: 10, Cluster number: 14\n",
      "Iteration number: 11, Cluster number: 14\n",
      "Iteration number: 12, Cluster number: 14\n",
      "Iteration number: 13, Cluster number: 14\n",
      "Iteration number: 14, Cluster number: 13\n",
      "Iteration number: 15, Cluster number: 13\n",
      "Iteration number: 16, Cluster number: 13\n",
      "Iteration number: 17, Cluster number: 13\n",
      "Iteration number: 18, Cluster number: 13\n",
      "Iteration number: 19, Cluster number: 13\n",
      "Iteration number: 20, Cluster number: 13\n",
      "Iteration number: 21, Cluster number: 13\n",
      "Iteration number: 22, Cluster number: 13\n",
      "Iteration number: 23, Cluster number: 13\n",
      "Iteration number: 24, Cluster number: 13\n",
      "Iteration number: 25, Cluster number: 13\n",
      "Iteration number: 26, Cluster number: 13\n",
      "Iteration number: 27, Cluster number: 13\n",
      "Iteration number: 28, Cluster number: 13\n",
      "Iteration number: 29, Cluster number: 13\n",
      "Iteration number: 30, Cluster number: 13\n",
      "Iteration number: 31, Cluster number: 13\n",
      "Iteration number: 32, Cluster number: 13\n",
      "Iteration number: 33, Cluster number: 13\n",
      "Iteration number: 34, Cluster number: 13\n",
      "Iteration number: 35, Cluster number: 13\n",
      "Iteration number: 36, Cluster number: 13\n",
      "Iteration number: 37, Cluster number: 13\n",
      "Iteration number: 38, Cluster number: 13\n",
      "Iteration number: 39, Cluster number: 13\n",
      "Iteration number: 40, Cluster number: 13\n",
      "Iteration number: 41, Cluster number: 13\n",
      "Iteration number: 42, Cluster number: 13\n",
      "Iteration number: 43, Cluster number: 13\n",
      "Iteration number: 44, Cluster number: 13\n",
      "Iteration number: 45, Cluster number: 13\n",
      "Iteration number: 46, Cluster number: 13\n",
      "Iteration number: 47, Cluster number: 13\n",
      "Iteration number: 48, Cluster number: 13\n",
      "Iteration number: 49, Cluster number: 13\n",
      "Finished running both algorithms. Please check result_plots folder for plots.\n"
     ]
    },
    {
     "data": {
      "image/png": "[encoded data removed]",
      "text/plain": [
       "<Figure size 640x480 with 1 Axes>"
      ]
     },
     "metadata": {},
     "output_type": "display_data"
    }
   ],
   "source": [
    "from CA_RUN import CA_RUN\n",
    "from EM_RUN import EM_RUN\n",
    "from plot import plot\n",
    "import pandas as pd\n",
    "import numpy as np\n",
    "import time\n",
    "\n",
    "if __name__ == '__main__':\n",
    "    in_data = pd.read_csv('data/A1-Dataset/Final Dataset - Standardized.csv', header=None)\n",
    "    #actual_clusters = pd.read_csv(\"data/A1-Dataset/a1-ga-cb.csv\", header=None)\n",
    "    # Graph the location of the actual clusters\n",
    "    #plot(in_data, actual_clusters=actual_clusters, save=True, save_name=\"result_plots/actual_plot.png\", show=False)\n",
    "    \n",
    "    # Run EM and make a graph\n",
    "    #EM_cluster_num, EM_center_list = EM_RUN(NumClust=30)\n",
    "    #plot(in_data, cluster_num1=EM_cluster_num, center_list1=EM_center_list, save=True, save_name=\"result_plots/EM_plot.png\", color=(\"orange\",), show=False)\n",
    "    \n",
    "    # Run CA and make a graph\n",
    "    CA_cluster_num, CA_center_list, CA_classification_list = CA_RUN(cluster_num=30)\n",
    "    plot(in_data, cluster_num1=CA_cluster_num, center_list1=CA_center_list, save=True, save_name=\"result_plots/CA_plot.png\", color=(\"red\",), show=False)\n",
    "   \n",
    "    #\"\"\"\n",
    "    # Plot everything together (actual cluster centers, EM Clusters, CA Clusters)\n",
    "    #plot(in_data, actual_clusters=actual_clusters, \n",
    "        #cluster_num1=CA_cluster_num, center_list1=CA_center_list,\n",
    "        #cluster_num2=EM_cluster_num, center_list2=EM_center_list,\n",
    "        #save=True, save_name=\"result_plots/everything_plot.png\", show=False)\n",
    "    #\"\"\"\n",
    "\n",
    "    print(\"Finished running both algorithms. Please check result_plots folder for plots.\")\n",
    "    d = pd.DataFrame(CA_classification_list)\n",
    "    d.to_csv(\"d.csv\", index=False, header=None)\n",
    "\n",
    "    \"\"\"\n",
    "    timing = dict()\n",
    "    for i in range(1,100):\n",
    "        timing[i] = []\n",
    "        for j in range(0,3):\n",
    "            timing[i].append(CA_RUN(cluster_num=i))\n",
    "\n",
    "    df = pd.DataFrame.from_dict(timing)\n",
    "    df.to_csv(\"timing.csv\", index=False, header=None)\n",
    "    \"\"\""
   ]
  },
  {
   "cell_type": "code",
   "execution_count": 5,
   "id": "b4b55cf9",
   "metadata": {},
   "outputs": [
    {
     "name": "stdout",
     "output_type": "stream",
     "text": [
      "Finished running both algorithms. Please check result_plots folder for plots.\n"
     ]
    }
   ],
   "source": [
    "print(\"Finished running both algorithms. Please check result_plots folder for plots.\")\n",
    "d = pd.DataFrame(CA_classification_list)\n",
    "d.to_csv(\"d.csv\", index=False, header=None)\n"
   ]
  },
  {
   "cell_type": "code",
   "execution_count": null,
   "id": "01e52a6c",
   "metadata": {},
   "outputs": [],
   "source": []
  }
 ],
 "metadata": {
  "kernelspec": {
   "display_name": "Python 3 (ipykernel)",
   "language": "python",
   "name": "python3"
  },
  "language_info": {
   "codemirror_mode": {
    "name": "ipython",
    "version": 3
   },
   "file_extension": ".py",
   "mimetype": "text/x-python",
   "name": "python",
   "nbconvert_exporter": "python",
   "pygments_lexer": "ipython3",
   "version": "3.9.13"
  }
 },
 "nbformat": 4,
 "nbformat_minor": 5
}
